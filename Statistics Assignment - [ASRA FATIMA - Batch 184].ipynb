{
 "cells": [
  {
   "cell_type": "code",
   "execution_count": 1,
   "id": "68e50d8e",
   "metadata": {},
   "outputs": [],
   "source": [
    "import pandas as pd\n",
    "import numpy as np\n",
    "\n",
    "import matplotlib.pyplot as plt\n",
    "import seaborn as sns\n",
    "\n",
    "import regex as re\n",
    "\n",
    "import warnings\n",
    "warnings.filterwarnings('ignore')"
   ]
  },
  {
   "cell_type": "markdown",
   "id": "4b9011d6",
   "metadata": {},
   "source": [
    "<h1 style='color:blue'> INTRODUCTION </H1>"
   ]
  },
  {
   "cell_type": "markdown",
   "id": "db6b42e9",
   "metadata": {},
   "source": [
    "#### About Data:  \n",
    "\n",
    "The data is related to direct marketing campaigns (phone calls) of a Portuguese banking institution. The marketing campaigns were based on phone calls. Often, more than one contact to the same client was required, in order to assess if the product (bank term deposit) would be ('yes') or not ('no') subscribed.\n",
    "\n",
    "#### Goal:  \n",
    "\n",
    "The classification goal is to predict if the client will subscribe to a term deposit (variable y)"
   ]
  },
  {
   "cell_type": "markdown",
   "id": "66cb285c",
   "metadata": {},
   "source": [
    "<H1 style='color:blue'> IMPORTING DATA </H1>"
   ]
  },
  {
   "cell_type": "code",
   "execution_count": 2,
   "id": "2779de4e",
   "metadata": {},
   "outputs": [],
   "source": [
    "data=pd.read_excel(\"d:\\\\Users\\\\NAME\\\\Desktop\\\\INNOMATICS\\\\PROJECTS AND ASSIGNMENTS\\\\Statistics\\\\Data.xlsx\")"
   ]
  },
  {
   "cell_type": "code",
   "execution_count": 3,
   "id": "9610d82d",
   "metadata": {},
   "outputs": [
    {
     "data": {
      "text/html": [
       "<div>\n",
       "<style scoped>\n",
       "    .dataframe tbody tr th:only-of-type {\n",
       "        vertical-align: middle;\n",
       "    }\n",
       "\n",
       "    .dataframe tbody tr th {\n",
       "        vertical-align: top;\n",
       "    }\n",
       "\n",
       "    .dataframe thead th {\n",
       "        text-align: right;\n",
       "    }\n",
       "</style>\n",
       "<table border=\"1\" class=\"dataframe\">\n",
       "  <thead>\n",
       "    <tr style=\"text-align: right;\">\n",
       "      <th></th>\n",
       "      <th>banking marketing</th>\n",
       "      <th>Unnamed: 1</th>\n",
       "      <th>Unnamed: 2</th>\n",
       "      <th>Unnamed: 3</th>\n",
       "      <th>Unnamed: 4</th>\n",
       "      <th>Unnamed: 5</th>\n",
       "      <th>Unnamed: 6</th>\n",
       "      <th>Unnamed: 7</th>\n",
       "      <th>Unnamed: 8</th>\n",
       "      <th>Unnamed: 9</th>\n",
       "      <th>Unnamed: 10</th>\n",
       "      <th>Unnamed: 11</th>\n",
       "      <th>Unnamed: 12</th>\n",
       "      <th>Unnamed: 13</th>\n",
       "      <th>Unnamed: 14</th>\n",
       "      <th>Unnamed: 15</th>\n",
       "      <th>Unnamed: 16</th>\n",
       "      <th>Unnamed: 17</th>\n",
       "      <th>Unnamed: 18</th>\n",
       "    </tr>\n",
       "  </thead>\n",
       "  <tbody>\n",
       "    <tr>\n",
       "      <th>0</th>\n",
       "      <td>customer id and age.</td>\n",
       "      <td>NaN</td>\n",
       "      <td>Customer salary and balance.</td>\n",
       "      <td>NaN</td>\n",
       "      <td>Customer marital status and job with education...</td>\n",
       "      <td>NaN</td>\n",
       "      <td>particular customer before targeted or not</td>\n",
       "      <td>NaN</td>\n",
       "      <td>Loan types: loans or housing loans</td>\n",
       "      <td>NaN</td>\n",
       "      <td>Contact type</td>\n",
       "      <td>NaN</td>\n",
       "      <td>month of contact</td>\n",
       "      <td>duration of call</td>\n",
       "      <td>NaN</td>\n",
       "      <td>NaN</td>\n",
       "      <td>NaN</td>\n",
       "      <td>outcome of previous contact</td>\n",
       "      <td>response of customer after call happned</td>\n",
       "    </tr>\n",
       "    <tr>\n",
       "      <th>1</th>\n",
       "      <td>customerid</td>\n",
       "      <td>age</td>\n",
       "      <td>salary</td>\n",
       "      <td>balance</td>\n",
       "      <td>marital</td>\n",
       "      <td>jobedu</td>\n",
       "      <td>targeted</td>\n",
       "      <td>default</td>\n",
       "      <td>housing</td>\n",
       "      <td>loan</td>\n",
       "      <td>contact</td>\n",
       "      <td>day</td>\n",
       "      <td>month</td>\n",
       "      <td>duration</td>\n",
       "      <td>campaign</td>\n",
       "      <td>pdays</td>\n",
       "      <td>previous</td>\n",
       "      <td>poutcome</td>\n",
       "      <td>response</td>\n",
       "    </tr>\n",
       "    <tr>\n",
       "      <th>2</th>\n",
       "      <td>1.0</td>\n",
       "      <td>58.0</td>\n",
       "      <td>100000.0</td>\n",
       "      <td>2143.0</td>\n",
       "      <td>married</td>\n",
       "      <td>management,tertiary</td>\n",
       "      <td>yes</td>\n",
       "      <td>no</td>\n",
       "      <td>yes</td>\n",
       "      <td>no</td>\n",
       "      <td>unknown</td>\n",
       "      <td>5.0</td>\n",
       "      <td>may, 2017</td>\n",
       "      <td>261 sec</td>\n",
       "      <td>1.0</td>\n",
       "      <td>-1.0</td>\n",
       "      <td>0.0</td>\n",
       "      <td>unknown</td>\n",
       "      <td>no</td>\n",
       "    </tr>\n",
       "    <tr>\n",
       "      <th>3</th>\n",
       "      <td>2.0</td>\n",
       "      <td>44.0</td>\n",
       "      <td>60000.0</td>\n",
       "      <td>29.0</td>\n",
       "      <td>single</td>\n",
       "      <td>technician,secondary</td>\n",
       "      <td>yes</td>\n",
       "      <td>no</td>\n",
       "      <td>yes</td>\n",
       "      <td>no</td>\n",
       "      <td>unknown</td>\n",
       "      <td>5.0</td>\n",
       "      <td>may, 2017</td>\n",
       "      <td>151 sec</td>\n",
       "      <td>1.0</td>\n",
       "      <td>-1.0</td>\n",
       "      <td>0.0</td>\n",
       "      <td>unknown</td>\n",
       "      <td>no</td>\n",
       "    </tr>\n",
       "    <tr>\n",
       "      <th>4</th>\n",
       "      <td>3.0</td>\n",
       "      <td>33.0</td>\n",
       "      <td>120000.0</td>\n",
       "      <td>2.0</td>\n",
       "      <td>married</td>\n",
       "      <td>entrepreneur,secondary</td>\n",
       "      <td>yes</td>\n",
       "      <td>no</td>\n",
       "      <td>yes</td>\n",
       "      <td>yes</td>\n",
       "      <td>unknown</td>\n",
       "      <td>5.0</td>\n",
       "      <td>may, 2017</td>\n",
       "      <td>76 sec</td>\n",
       "      <td>1.0</td>\n",
       "      <td>-1.0</td>\n",
       "      <td>0.0</td>\n",
       "      <td>unknown</td>\n",
       "      <td>no</td>\n",
       "    </tr>\n",
       "  </tbody>\n",
       "</table>\n",
       "</div>"
      ],
      "text/plain": [
       "      banking marketing Unnamed: 1                    Unnamed: 2 Unnamed: 3  \\\n",
       "0  customer id and age.        NaN  Customer salary and balance.        NaN   \n",
       "1            customerid        age                        salary    balance   \n",
       "2                   1.0       58.0                      100000.0     2143.0   \n",
       "3                   2.0       44.0                       60000.0       29.0   \n",
       "4                   3.0       33.0                      120000.0        2.0   \n",
       "\n",
       "                                          Unnamed: 4              Unnamed: 5  \\\n",
       "0  Customer marital status and job with education...                     NaN   \n",
       "1                                            marital                  jobedu   \n",
       "2                                            married     management,tertiary   \n",
       "3                                             single    technician,secondary   \n",
       "4                                            married  entrepreneur,secondary   \n",
       "\n",
       "                                   Unnamed: 6 Unnamed: 7  \\\n",
       "0  particular customer before targeted or not        NaN   \n",
       "1                                    targeted    default   \n",
       "2                                         yes         no   \n",
       "3                                         yes         no   \n",
       "4                                         yes         no   \n",
       "\n",
       "                           Unnamed: 8 Unnamed: 9   Unnamed: 10 Unnamed: 11  \\\n",
       "0  Loan types: loans or housing loans        NaN  Contact type         NaN   \n",
       "1                             housing       loan       contact         day   \n",
       "2                                 yes         no       unknown         5.0   \n",
       "3                                 yes         no       unknown         5.0   \n",
       "4                                 yes        yes       unknown         5.0   \n",
       "\n",
       "        Unnamed: 12       Unnamed: 13 Unnamed: 14 Unnamed: 15 Unnamed: 16  \\\n",
       "0  month of contact  duration of call         NaN         NaN         NaN   \n",
       "1             month          duration    campaign       pdays    previous   \n",
       "2         may, 2017           261 sec         1.0        -1.0         0.0   \n",
       "3         may, 2017           151 sec         1.0        -1.0         0.0   \n",
       "4         may, 2017            76 sec         1.0        -1.0         0.0   \n",
       "\n",
       "                   Unnamed: 17                              Unnamed: 18  \n",
       "0  outcome of previous contact  response of customer after call happned  \n",
       "1                     poutcome                                 response  \n",
       "2                      unknown                                       no  \n",
       "3                      unknown                                       no  \n",
       "4                      unknown                                       no  "
      ]
     },
     "execution_count": 3,
     "metadata": {},
     "output_type": "execute_result"
    }
   ],
   "source": [
    "data.head()"
   ]
  },
  {
   "cell_type": "markdown",
   "id": "930c341f",
   "metadata": {},
   "source": [
    "<h4 style ='color : purple'> - The above dataframe has the column headers in row 3, so selecting the column headers to be row 3. </h4>\n",
    "    <h4 style ='color : purple'> - Demonstrating different methods </h4>"
   ]
  },
  {
   "cell_type": "markdown",
   "id": "fec32af0",
   "metadata": {},
   "source": [
    "#### Method 1: \n",
    "   * Use header in data import method"
   ]
  },
  {
   "cell_type": "code",
   "execution_count": 4,
   "id": "1bcac8b4",
   "metadata": {},
   "outputs": [],
   "source": [
    "df=pd.read_excel(\"d:\\\\Users\\\\NAME\\\\Desktop\\\\INNOMATICS\\\\PROJECTS AND ASSIGNMENTS\\\\Statistics\\\\Data.xlsx\",header=2)"
   ]
  },
  {
   "cell_type": "code",
   "execution_count": 5,
   "id": "47511af6",
   "metadata": {},
   "outputs": [
    {
     "data": {
      "text/html": [
       "<div>\n",
       "<style scoped>\n",
       "    .dataframe tbody tr th:only-of-type {\n",
       "        vertical-align: middle;\n",
       "    }\n",
       "\n",
       "    .dataframe tbody tr th {\n",
       "        vertical-align: top;\n",
       "    }\n",
       "\n",
       "    .dataframe thead th {\n",
       "        text-align: right;\n",
       "    }\n",
       "</style>\n",
       "<table border=\"1\" class=\"dataframe\">\n",
       "  <thead>\n",
       "    <tr style=\"text-align: right;\">\n",
       "      <th></th>\n",
       "      <th>customerid</th>\n",
       "      <th>age</th>\n",
       "      <th>salary</th>\n",
       "      <th>balance</th>\n",
       "      <th>marital</th>\n",
       "      <th>jobedu</th>\n",
       "      <th>targeted</th>\n",
       "      <th>default</th>\n",
       "      <th>housing</th>\n",
       "      <th>loan</th>\n",
       "      <th>contact</th>\n",
       "      <th>day</th>\n",
       "      <th>month</th>\n",
       "      <th>duration</th>\n",
       "      <th>campaign</th>\n",
       "      <th>pdays</th>\n",
       "      <th>previous</th>\n",
       "      <th>poutcome</th>\n",
       "      <th>response</th>\n",
       "    </tr>\n",
       "  </thead>\n",
       "  <tbody>\n",
       "    <tr>\n",
       "      <th>0</th>\n",
       "      <td>1.0</td>\n",
       "      <td>58.0</td>\n",
       "      <td>100000.0</td>\n",
       "      <td>2143.0</td>\n",
       "      <td>married</td>\n",
       "      <td>management,tertiary</td>\n",
       "      <td>yes</td>\n",
       "      <td>no</td>\n",
       "      <td>yes</td>\n",
       "      <td>no</td>\n",
       "      <td>unknown</td>\n",
       "      <td>5.0</td>\n",
       "      <td>may, 2017</td>\n",
       "      <td>261 sec</td>\n",
       "      <td>1.0</td>\n",
       "      <td>-1.0</td>\n",
       "      <td>0.0</td>\n",
       "      <td>unknown</td>\n",
       "      <td>no</td>\n",
       "    </tr>\n",
       "    <tr>\n",
       "      <th>1</th>\n",
       "      <td>2.0</td>\n",
       "      <td>44.0</td>\n",
       "      <td>60000.0</td>\n",
       "      <td>29.0</td>\n",
       "      <td>single</td>\n",
       "      <td>technician,secondary</td>\n",
       "      <td>yes</td>\n",
       "      <td>no</td>\n",
       "      <td>yes</td>\n",
       "      <td>no</td>\n",
       "      <td>unknown</td>\n",
       "      <td>5.0</td>\n",
       "      <td>may, 2017</td>\n",
       "      <td>151 sec</td>\n",
       "      <td>1.0</td>\n",
       "      <td>-1.0</td>\n",
       "      <td>0.0</td>\n",
       "      <td>unknown</td>\n",
       "      <td>no</td>\n",
       "    </tr>\n",
       "    <tr>\n",
       "      <th>2</th>\n",
       "      <td>3.0</td>\n",
       "      <td>33.0</td>\n",
       "      <td>120000.0</td>\n",
       "      <td>2.0</td>\n",
       "      <td>married</td>\n",
       "      <td>entrepreneur,secondary</td>\n",
       "      <td>yes</td>\n",
       "      <td>no</td>\n",
       "      <td>yes</td>\n",
       "      <td>yes</td>\n",
       "      <td>unknown</td>\n",
       "      <td>5.0</td>\n",
       "      <td>may, 2017</td>\n",
       "      <td>76 sec</td>\n",
       "      <td>1.0</td>\n",
       "      <td>-1.0</td>\n",
       "      <td>0.0</td>\n",
       "      <td>unknown</td>\n",
       "      <td>no</td>\n",
       "    </tr>\n",
       "    <tr>\n",
       "      <th>3</th>\n",
       "      <td>4.0</td>\n",
       "      <td>47.0</td>\n",
       "      <td>20000.0</td>\n",
       "      <td>1506.0</td>\n",
       "      <td>married</td>\n",
       "      <td>blue-collar,unknown</td>\n",
       "      <td>no</td>\n",
       "      <td>no</td>\n",
       "      <td>yes</td>\n",
       "      <td>no</td>\n",
       "      <td>unknown</td>\n",
       "      <td>5.0</td>\n",
       "      <td>may, 2017</td>\n",
       "      <td>92 sec</td>\n",
       "      <td>1.0</td>\n",
       "      <td>-1.0</td>\n",
       "      <td>0.0</td>\n",
       "      <td>unknown</td>\n",
       "      <td>no</td>\n",
       "    </tr>\n",
       "    <tr>\n",
       "      <th>4</th>\n",
       "      <td>5.0</td>\n",
       "      <td>33.0</td>\n",
       "      <td>0.0</td>\n",
       "      <td>1.0</td>\n",
       "      <td>single</td>\n",
       "      <td>unknown,unknown</td>\n",
       "      <td>no</td>\n",
       "      <td>no</td>\n",
       "      <td>no</td>\n",
       "      <td>no</td>\n",
       "      <td>unknown</td>\n",
       "      <td>5.0</td>\n",
       "      <td>may, 2017</td>\n",
       "      <td>198 sec</td>\n",
       "      <td>1.0</td>\n",
       "      <td>-1.0</td>\n",
       "      <td>0.0</td>\n",
       "      <td>unknown</td>\n",
       "      <td>no</td>\n",
       "    </tr>\n",
       "    <tr>\n",
       "      <th>...</th>\n",
       "      <td>...</td>\n",
       "      <td>...</td>\n",
       "      <td>...</td>\n",
       "      <td>...</td>\n",
       "      <td>...</td>\n",
       "      <td>...</td>\n",
       "      <td>...</td>\n",
       "      <td>...</td>\n",
       "      <td>...</td>\n",
       "      <td>...</td>\n",
       "      <td>...</td>\n",
       "      <td>...</td>\n",
       "      <td>...</td>\n",
       "      <td>...</td>\n",
       "      <td>...</td>\n",
       "      <td>...</td>\n",
       "      <td>...</td>\n",
       "      <td>...</td>\n",
       "      <td>...</td>\n",
       "    </tr>\n",
       "    <tr>\n",
       "      <th>45206</th>\n",
       "      <td>45207.0</td>\n",
       "      <td>51.0</td>\n",
       "      <td>60000.0</td>\n",
       "      <td>825.0</td>\n",
       "      <td>married</td>\n",
       "      <td>technician,tertiary</td>\n",
       "      <td>yes</td>\n",
       "      <td>no</td>\n",
       "      <td>no</td>\n",
       "      <td>no</td>\n",
       "      <td>cellular</td>\n",
       "      <td>17.0</td>\n",
       "      <td>nov, 2017</td>\n",
       "      <td>16.2833333333333 min</td>\n",
       "      <td>3.0</td>\n",
       "      <td>-1.0</td>\n",
       "      <td>0.0</td>\n",
       "      <td>unknown</td>\n",
       "      <td>yes</td>\n",
       "    </tr>\n",
       "    <tr>\n",
       "      <th>45207</th>\n",
       "      <td>45208.0</td>\n",
       "      <td>71.0</td>\n",
       "      <td>55000.0</td>\n",
       "      <td>1729.0</td>\n",
       "      <td>divorced</td>\n",
       "      <td>retired,primary</td>\n",
       "      <td>yes</td>\n",
       "      <td>no</td>\n",
       "      <td>no</td>\n",
       "      <td>no</td>\n",
       "      <td>cellular</td>\n",
       "      <td>17.0</td>\n",
       "      <td>nov, 2017</td>\n",
       "      <td>7.6 min</td>\n",
       "      <td>2.0</td>\n",
       "      <td>-1.0</td>\n",
       "      <td>0.0</td>\n",
       "      <td>unknown</td>\n",
       "      <td>yes</td>\n",
       "    </tr>\n",
       "    <tr>\n",
       "      <th>45208</th>\n",
       "      <td>45209.0</td>\n",
       "      <td>72.0</td>\n",
       "      <td>55000.0</td>\n",
       "      <td>5715.0</td>\n",
       "      <td>married</td>\n",
       "      <td>retired,secondary</td>\n",
       "      <td>yes</td>\n",
       "      <td>no</td>\n",
       "      <td>no</td>\n",
       "      <td>no</td>\n",
       "      <td>cellular</td>\n",
       "      <td>17.0</td>\n",
       "      <td>nov, 2017</td>\n",
       "      <td>18.7833333333333 min</td>\n",
       "      <td>5.0</td>\n",
       "      <td>184.0</td>\n",
       "      <td>3.0</td>\n",
       "      <td>success</td>\n",
       "      <td>yes</td>\n",
       "    </tr>\n",
       "    <tr>\n",
       "      <th>45209</th>\n",
       "      <td>45210.0</td>\n",
       "      <td>57.0</td>\n",
       "      <td>20000.0</td>\n",
       "      <td>668.0</td>\n",
       "      <td>married</td>\n",
       "      <td>blue-collar,secondary</td>\n",
       "      <td>yes</td>\n",
       "      <td>no</td>\n",
       "      <td>no</td>\n",
       "      <td>no</td>\n",
       "      <td>telephone</td>\n",
       "      <td>17.0</td>\n",
       "      <td>nov, 2017</td>\n",
       "      <td>8.46666666666667 min</td>\n",
       "      <td>4.0</td>\n",
       "      <td>-1.0</td>\n",
       "      <td>0.0</td>\n",
       "      <td>unknown</td>\n",
       "      <td>no</td>\n",
       "    </tr>\n",
       "    <tr>\n",
       "      <th>45210</th>\n",
       "      <td>45211.0</td>\n",
       "      <td>37.0</td>\n",
       "      <td>120000.0</td>\n",
       "      <td>2971.0</td>\n",
       "      <td>married</td>\n",
       "      <td>entrepreneur,secondary</td>\n",
       "      <td>yes</td>\n",
       "      <td>no</td>\n",
       "      <td>no</td>\n",
       "      <td>no</td>\n",
       "      <td>cellular</td>\n",
       "      <td>17.0</td>\n",
       "      <td>nov, 2017</td>\n",
       "      <td>6.01666666666667 min</td>\n",
       "      <td>2.0</td>\n",
       "      <td>188.0</td>\n",
       "      <td>11.0</td>\n",
       "      <td>other</td>\n",
       "      <td>no</td>\n",
       "    </tr>\n",
       "  </tbody>\n",
       "</table>\n",
       "<p>45211 rows × 19 columns</p>\n",
       "</div>"
      ],
      "text/plain": [
       "       customerid   age    salary  balance   marital                  jobedu  \\\n",
       "0             1.0  58.0  100000.0   2143.0   married     management,tertiary   \n",
       "1             2.0  44.0   60000.0     29.0    single    technician,secondary   \n",
       "2             3.0  33.0  120000.0      2.0   married  entrepreneur,secondary   \n",
       "3             4.0  47.0   20000.0   1506.0   married     blue-collar,unknown   \n",
       "4             5.0  33.0       0.0      1.0    single         unknown,unknown   \n",
       "...           ...   ...       ...      ...       ...                     ...   \n",
       "45206     45207.0  51.0   60000.0    825.0   married     technician,tertiary   \n",
       "45207     45208.0  71.0   55000.0   1729.0  divorced         retired,primary   \n",
       "45208     45209.0  72.0   55000.0   5715.0   married       retired,secondary   \n",
       "45209     45210.0  57.0   20000.0    668.0   married   blue-collar,secondary   \n",
       "45210     45211.0  37.0  120000.0   2971.0   married  entrepreneur,secondary   \n",
       "\n",
       "      targeted default housing loan    contact   day      month  \\\n",
       "0          yes      no     yes   no    unknown   5.0  may, 2017   \n",
       "1          yes      no     yes   no    unknown   5.0  may, 2017   \n",
       "2          yes      no     yes  yes    unknown   5.0  may, 2017   \n",
       "3           no      no     yes   no    unknown   5.0  may, 2017   \n",
       "4           no      no      no   no    unknown   5.0  may, 2017   \n",
       "...        ...     ...     ...  ...        ...   ...        ...   \n",
       "45206      yes      no      no   no   cellular  17.0  nov, 2017   \n",
       "45207      yes      no      no   no   cellular  17.0  nov, 2017   \n",
       "45208      yes      no      no   no   cellular  17.0  nov, 2017   \n",
       "45209      yes      no      no   no  telephone  17.0  nov, 2017   \n",
       "45210      yes      no      no   no   cellular  17.0  nov, 2017   \n",
       "\n",
       "                   duration  campaign  pdays  previous poutcome response  \n",
       "0                   261 sec       1.0   -1.0       0.0  unknown       no  \n",
       "1                   151 sec       1.0   -1.0       0.0  unknown       no  \n",
       "2                    76 sec       1.0   -1.0       0.0  unknown       no  \n",
       "3                    92 sec       1.0   -1.0       0.0  unknown       no  \n",
       "4                   198 sec       1.0   -1.0       0.0  unknown       no  \n",
       "...                     ...       ...    ...       ...      ...      ...  \n",
       "45206  16.2833333333333 min       3.0   -1.0       0.0  unknown      yes  \n",
       "45207               7.6 min       2.0   -1.0       0.0  unknown      yes  \n",
       "45208  18.7833333333333 min       5.0  184.0       3.0  success      yes  \n",
       "45209  8.46666666666667 min       4.0   -1.0       0.0  unknown       no  \n",
       "45210  6.01666666666667 min       2.0  188.0      11.0    other       no  \n",
       "\n",
       "[45211 rows x 19 columns]"
      ]
     },
     "execution_count": 5,
     "metadata": {},
     "output_type": "execute_result"
    }
   ],
   "source": [
    "df"
   ]
  },
  {
   "cell_type": "markdown",
   "id": "766d0a0f",
   "metadata": {},
   "source": [
    "#### Method 2: \n",
    "   * Use skiprows in data import method"
   ]
  },
  {
   "cell_type": "code",
   "execution_count": 6,
   "id": "eee62217",
   "metadata": {},
   "outputs": [],
   "source": [
    "df1=pd.read_excel(\"d:\\\\Users\\\\NAME\\\\Desktop\\\\INNOMATICS\\\\PROJECTS AND ASSIGNMENTS\\\\Statistics\\\\Data.xlsx\",skiprows=2)"
   ]
  },
  {
   "cell_type": "code",
   "execution_count": 7,
   "id": "45e01a4c",
   "metadata": {},
   "outputs": [
    {
     "data": {
      "text/html": [
       "<div>\n",
       "<style scoped>\n",
       "    .dataframe tbody tr th:only-of-type {\n",
       "        vertical-align: middle;\n",
       "    }\n",
       "\n",
       "    .dataframe tbody tr th {\n",
       "        vertical-align: top;\n",
       "    }\n",
       "\n",
       "    .dataframe thead th {\n",
       "        text-align: right;\n",
       "    }\n",
       "</style>\n",
       "<table border=\"1\" class=\"dataframe\">\n",
       "  <thead>\n",
       "    <tr style=\"text-align: right;\">\n",
       "      <th></th>\n",
       "      <th>customerid</th>\n",
       "      <th>age</th>\n",
       "      <th>salary</th>\n",
       "      <th>balance</th>\n",
       "      <th>marital</th>\n",
       "      <th>jobedu</th>\n",
       "      <th>targeted</th>\n",
       "      <th>default</th>\n",
       "      <th>housing</th>\n",
       "      <th>loan</th>\n",
       "      <th>contact</th>\n",
       "      <th>day</th>\n",
       "      <th>month</th>\n",
       "      <th>duration</th>\n",
       "      <th>campaign</th>\n",
       "      <th>pdays</th>\n",
       "      <th>previous</th>\n",
       "      <th>poutcome</th>\n",
       "      <th>response</th>\n",
       "    </tr>\n",
       "  </thead>\n",
       "  <tbody>\n",
       "    <tr>\n",
       "      <th>0</th>\n",
       "      <td>1.0</td>\n",
       "      <td>58.0</td>\n",
       "      <td>100000.0</td>\n",
       "      <td>2143.0</td>\n",
       "      <td>married</td>\n",
       "      <td>management,tertiary</td>\n",
       "      <td>yes</td>\n",
       "      <td>no</td>\n",
       "      <td>yes</td>\n",
       "      <td>no</td>\n",
       "      <td>unknown</td>\n",
       "      <td>5.0</td>\n",
       "      <td>may, 2017</td>\n",
       "      <td>261 sec</td>\n",
       "      <td>1.0</td>\n",
       "      <td>-1.0</td>\n",
       "      <td>0.0</td>\n",
       "      <td>unknown</td>\n",
       "      <td>no</td>\n",
       "    </tr>\n",
       "    <tr>\n",
       "      <th>1</th>\n",
       "      <td>2.0</td>\n",
       "      <td>44.0</td>\n",
       "      <td>60000.0</td>\n",
       "      <td>29.0</td>\n",
       "      <td>single</td>\n",
       "      <td>technician,secondary</td>\n",
       "      <td>yes</td>\n",
       "      <td>no</td>\n",
       "      <td>yes</td>\n",
       "      <td>no</td>\n",
       "      <td>unknown</td>\n",
       "      <td>5.0</td>\n",
       "      <td>may, 2017</td>\n",
       "      <td>151 sec</td>\n",
       "      <td>1.0</td>\n",
       "      <td>-1.0</td>\n",
       "      <td>0.0</td>\n",
       "      <td>unknown</td>\n",
       "      <td>no</td>\n",
       "    </tr>\n",
       "    <tr>\n",
       "      <th>2</th>\n",
       "      <td>3.0</td>\n",
       "      <td>33.0</td>\n",
       "      <td>120000.0</td>\n",
       "      <td>2.0</td>\n",
       "      <td>married</td>\n",
       "      <td>entrepreneur,secondary</td>\n",
       "      <td>yes</td>\n",
       "      <td>no</td>\n",
       "      <td>yes</td>\n",
       "      <td>yes</td>\n",
       "      <td>unknown</td>\n",
       "      <td>5.0</td>\n",
       "      <td>may, 2017</td>\n",
       "      <td>76 sec</td>\n",
       "      <td>1.0</td>\n",
       "      <td>-1.0</td>\n",
       "      <td>0.0</td>\n",
       "      <td>unknown</td>\n",
       "      <td>no</td>\n",
       "    </tr>\n",
       "    <tr>\n",
       "      <th>3</th>\n",
       "      <td>4.0</td>\n",
       "      <td>47.0</td>\n",
       "      <td>20000.0</td>\n",
       "      <td>1506.0</td>\n",
       "      <td>married</td>\n",
       "      <td>blue-collar,unknown</td>\n",
       "      <td>no</td>\n",
       "      <td>no</td>\n",
       "      <td>yes</td>\n",
       "      <td>no</td>\n",
       "      <td>unknown</td>\n",
       "      <td>5.0</td>\n",
       "      <td>may, 2017</td>\n",
       "      <td>92 sec</td>\n",
       "      <td>1.0</td>\n",
       "      <td>-1.0</td>\n",
       "      <td>0.0</td>\n",
       "      <td>unknown</td>\n",
       "      <td>no</td>\n",
       "    </tr>\n",
       "    <tr>\n",
       "      <th>4</th>\n",
       "      <td>5.0</td>\n",
       "      <td>33.0</td>\n",
       "      <td>0.0</td>\n",
       "      <td>1.0</td>\n",
       "      <td>single</td>\n",
       "      <td>unknown,unknown</td>\n",
       "      <td>no</td>\n",
       "      <td>no</td>\n",
       "      <td>no</td>\n",
       "      <td>no</td>\n",
       "      <td>unknown</td>\n",
       "      <td>5.0</td>\n",
       "      <td>may, 2017</td>\n",
       "      <td>198 sec</td>\n",
       "      <td>1.0</td>\n",
       "      <td>-1.0</td>\n",
       "      <td>0.0</td>\n",
       "      <td>unknown</td>\n",
       "      <td>no</td>\n",
       "    </tr>\n",
       "  </tbody>\n",
       "</table>\n",
       "</div>"
      ],
      "text/plain": [
       "   customerid   age    salary  balance  marital                  jobedu  \\\n",
       "0         1.0  58.0  100000.0   2143.0  married     management,tertiary   \n",
       "1         2.0  44.0   60000.0     29.0   single    technician,secondary   \n",
       "2         3.0  33.0  120000.0      2.0  married  entrepreneur,secondary   \n",
       "3         4.0  47.0   20000.0   1506.0  married     blue-collar,unknown   \n",
       "4         5.0  33.0       0.0      1.0   single         unknown,unknown   \n",
       "\n",
       "  targeted default housing loan  contact  day      month duration  campaign  \\\n",
       "0      yes      no     yes   no  unknown  5.0  may, 2017  261 sec       1.0   \n",
       "1      yes      no     yes   no  unknown  5.0  may, 2017  151 sec       1.0   \n",
       "2      yes      no     yes  yes  unknown  5.0  may, 2017   76 sec       1.0   \n",
       "3       no      no     yes   no  unknown  5.0  may, 2017   92 sec       1.0   \n",
       "4       no      no      no   no  unknown  5.0  may, 2017  198 sec       1.0   \n",
       "\n",
       "   pdays  previous poutcome response  \n",
       "0   -1.0       0.0  unknown       no  \n",
       "1   -1.0       0.0  unknown       no  \n",
       "2   -1.0       0.0  unknown       no  \n",
       "3   -1.0       0.0  unknown       no  \n",
       "4   -1.0       0.0  unknown       no  "
      ]
     },
     "execution_count": 7,
     "metadata": {},
     "output_type": "execute_result"
    }
   ],
   "source": [
    "df1.head()"
   ]
  },
  {
   "cell_type": "code",
   "execution_count": null,
   "id": "8a9d29f1",
   "metadata": {},
   "outputs": [],
   "source": []
  },
  {
   "cell_type": "code",
   "execution_count": 8,
   "id": "4c541c1d",
   "metadata": {},
   "outputs": [
    {
     "data": {
      "text/html": [
       "<div>\n",
       "<style scoped>\n",
       "    .dataframe tbody tr th:only-of-type {\n",
       "        vertical-align: middle;\n",
       "    }\n",
       "\n",
       "    .dataframe tbody tr th {\n",
       "        vertical-align: top;\n",
       "    }\n",
       "\n",
       "    .dataframe thead th {\n",
       "        text-align: right;\n",
       "    }\n",
       "</style>\n",
       "<table border=\"1\" class=\"dataframe\">\n",
       "  <thead>\n",
       "    <tr style=\"text-align: right;\">\n",
       "      <th></th>\n",
       "      <th>customerid</th>\n",
       "      <th>age</th>\n",
       "      <th>salary</th>\n",
       "      <th>balance</th>\n",
       "      <th>marital</th>\n",
       "      <th>jobedu</th>\n",
       "      <th>targeted</th>\n",
       "      <th>default</th>\n",
       "      <th>housing</th>\n",
       "      <th>loan</th>\n",
       "      <th>contact</th>\n",
       "      <th>day</th>\n",
       "      <th>month</th>\n",
       "      <th>duration</th>\n",
       "      <th>campaign</th>\n",
       "      <th>pdays</th>\n",
       "      <th>previous</th>\n",
       "      <th>poutcome</th>\n",
       "      <th>response</th>\n",
       "    </tr>\n",
       "  </thead>\n",
       "  <tbody>\n",
       "    <tr>\n",
       "      <th>0</th>\n",
       "      <td>1.0</td>\n",
       "      <td>58.0</td>\n",
       "      <td>100000.0</td>\n",
       "      <td>2143.0</td>\n",
       "      <td>married</td>\n",
       "      <td>management,tertiary</td>\n",
       "      <td>yes</td>\n",
       "      <td>no</td>\n",
       "      <td>yes</td>\n",
       "      <td>no</td>\n",
       "      <td>unknown</td>\n",
       "      <td>5.0</td>\n",
       "      <td>may, 2017</td>\n",
       "      <td>261 sec</td>\n",
       "      <td>1.0</td>\n",
       "      <td>-1.0</td>\n",
       "      <td>0.0</td>\n",
       "      <td>unknown</td>\n",
       "      <td>no</td>\n",
       "    </tr>\n",
       "    <tr>\n",
       "      <th>1</th>\n",
       "      <td>2.0</td>\n",
       "      <td>44.0</td>\n",
       "      <td>60000.0</td>\n",
       "      <td>29.0</td>\n",
       "      <td>single</td>\n",
       "      <td>technician,secondary</td>\n",
       "      <td>yes</td>\n",
       "      <td>no</td>\n",
       "      <td>yes</td>\n",
       "      <td>no</td>\n",
       "      <td>unknown</td>\n",
       "      <td>5.0</td>\n",
       "      <td>may, 2017</td>\n",
       "      <td>151 sec</td>\n",
       "      <td>1.0</td>\n",
       "      <td>-1.0</td>\n",
       "      <td>0.0</td>\n",
       "      <td>unknown</td>\n",
       "      <td>no</td>\n",
       "    </tr>\n",
       "    <tr>\n",
       "      <th>2</th>\n",
       "      <td>3.0</td>\n",
       "      <td>33.0</td>\n",
       "      <td>120000.0</td>\n",
       "      <td>2.0</td>\n",
       "      <td>married</td>\n",
       "      <td>entrepreneur,secondary</td>\n",
       "      <td>yes</td>\n",
       "      <td>no</td>\n",
       "      <td>yes</td>\n",
       "      <td>yes</td>\n",
       "      <td>unknown</td>\n",
       "      <td>5.0</td>\n",
       "      <td>may, 2017</td>\n",
       "      <td>76 sec</td>\n",
       "      <td>1.0</td>\n",
       "      <td>-1.0</td>\n",
       "      <td>0.0</td>\n",
       "      <td>unknown</td>\n",
       "      <td>no</td>\n",
       "    </tr>\n",
       "    <tr>\n",
       "      <th>3</th>\n",
       "      <td>4.0</td>\n",
       "      <td>47.0</td>\n",
       "      <td>20000.0</td>\n",
       "      <td>1506.0</td>\n",
       "      <td>married</td>\n",
       "      <td>blue-collar,unknown</td>\n",
       "      <td>no</td>\n",
       "      <td>no</td>\n",
       "      <td>yes</td>\n",
       "      <td>no</td>\n",
       "      <td>unknown</td>\n",
       "      <td>5.0</td>\n",
       "      <td>may, 2017</td>\n",
       "      <td>92 sec</td>\n",
       "      <td>1.0</td>\n",
       "      <td>-1.0</td>\n",
       "      <td>0.0</td>\n",
       "      <td>unknown</td>\n",
       "      <td>no</td>\n",
       "    </tr>\n",
       "    <tr>\n",
       "      <th>4</th>\n",
       "      <td>5.0</td>\n",
       "      <td>33.0</td>\n",
       "      <td>0.0</td>\n",
       "      <td>1.0</td>\n",
       "      <td>single</td>\n",
       "      <td>unknown,unknown</td>\n",
       "      <td>no</td>\n",
       "      <td>no</td>\n",
       "      <td>no</td>\n",
       "      <td>no</td>\n",
       "      <td>unknown</td>\n",
       "      <td>5.0</td>\n",
       "      <td>may, 2017</td>\n",
       "      <td>198 sec</td>\n",
       "      <td>1.0</td>\n",
       "      <td>-1.0</td>\n",
       "      <td>0.0</td>\n",
       "      <td>unknown</td>\n",
       "      <td>no</td>\n",
       "    </tr>\n",
       "  </tbody>\n",
       "</table>\n",
       "</div>"
      ],
      "text/plain": [
       "   customerid   age    salary  balance  marital                  jobedu  \\\n",
       "0         1.0  58.0  100000.0   2143.0  married     management,tertiary   \n",
       "1         2.0  44.0   60000.0     29.0   single    technician,secondary   \n",
       "2         3.0  33.0  120000.0      2.0  married  entrepreneur,secondary   \n",
       "3         4.0  47.0   20000.0   1506.0  married     blue-collar,unknown   \n",
       "4         5.0  33.0       0.0      1.0   single         unknown,unknown   \n",
       "\n",
       "  targeted default housing loan  contact  day      month duration  campaign  \\\n",
       "0      yes      no     yes   no  unknown  5.0  may, 2017  261 sec       1.0   \n",
       "1      yes      no     yes   no  unknown  5.0  may, 2017  151 sec       1.0   \n",
       "2      yes      no     yes  yes  unknown  5.0  may, 2017   76 sec       1.0   \n",
       "3       no      no     yes   no  unknown  5.0  may, 2017   92 sec       1.0   \n",
       "4       no      no      no   no  unknown  5.0  may, 2017  198 sec       1.0   \n",
       "\n",
       "   pdays  previous poutcome response  \n",
       "0   -1.0       0.0  unknown       no  \n",
       "1   -1.0       0.0  unknown       no  \n",
       "2   -1.0       0.0  unknown       no  \n",
       "3   -1.0       0.0  unknown       no  \n",
       "4   -1.0       0.0  unknown       no  "
      ]
     },
     "execution_count": 8,
     "metadata": {},
     "output_type": "execute_result"
    }
   ],
   "source": [
    "df.head(5)"
   ]
  },
  {
   "cell_type": "code",
   "execution_count": 9,
   "id": "d4a27e96",
   "metadata": {},
   "outputs": [
    {
     "data": {
      "text/plain": [
       "(45211, 19)"
      ]
     },
     "execution_count": 9,
     "metadata": {},
     "output_type": "execute_result"
    }
   ],
   "source": [
    "df.shape"
   ]
  },
  {
   "cell_type": "code",
   "execution_count": 10,
   "id": "37d3c80a",
   "metadata": {},
   "outputs": [
    {
     "data": {
      "text/html": [
       "<div>\n",
       "<style scoped>\n",
       "    .dataframe tbody tr th:only-of-type {\n",
       "        vertical-align: middle;\n",
       "    }\n",
       "\n",
       "    .dataframe tbody tr th {\n",
       "        vertical-align: top;\n",
       "    }\n",
       "\n",
       "    .dataframe thead th {\n",
       "        text-align: right;\n",
       "    }\n",
       "</style>\n",
       "<table border=\"1\" class=\"dataframe\">\n",
       "  <thead>\n",
       "    <tr style=\"text-align: right;\">\n",
       "      <th></th>\n",
       "      <th>customerid</th>\n",
       "      <th>age</th>\n",
       "      <th>balance</th>\n",
       "      <th>day</th>\n",
       "      <th>campaign</th>\n",
       "      <th>pdays</th>\n",
       "      <th>previous</th>\n",
       "    </tr>\n",
       "  </thead>\n",
       "  <tbody>\n",
       "    <tr>\n",
       "      <th>count</th>\n",
       "      <td>45211.000000</td>\n",
       "      <td>45191.000000</td>\n",
       "      <td>45211.000000</td>\n",
       "      <td>45211.000000</td>\n",
       "      <td>45211.000000</td>\n",
       "      <td>45211.000000</td>\n",
       "      <td>45211.000000</td>\n",
       "    </tr>\n",
       "    <tr>\n",
       "      <th>mean</th>\n",
       "      <td>22606.000000</td>\n",
       "      <td>40.935651</td>\n",
       "      <td>1362.272058</td>\n",
       "      <td>15.806419</td>\n",
       "      <td>2.763841</td>\n",
       "      <td>40.197828</td>\n",
       "      <td>0.580323</td>\n",
       "    </tr>\n",
       "    <tr>\n",
       "      <th>std</th>\n",
       "      <td>13051.435847</td>\n",
       "      <td>10.619198</td>\n",
       "      <td>3044.765829</td>\n",
       "      <td>8.322476</td>\n",
       "      <td>3.098021</td>\n",
       "      <td>100.128746</td>\n",
       "      <td>2.303441</td>\n",
       "    </tr>\n",
       "    <tr>\n",
       "      <th>min</th>\n",
       "      <td>1.000000</td>\n",
       "      <td>18.000000</td>\n",
       "      <td>-8019.000000</td>\n",
       "      <td>1.000000</td>\n",
       "      <td>1.000000</td>\n",
       "      <td>-1.000000</td>\n",
       "      <td>0.000000</td>\n",
       "    </tr>\n",
       "    <tr>\n",
       "      <th>25%</th>\n",
       "      <td>11303.500000</td>\n",
       "      <td>33.000000</td>\n",
       "      <td>72.000000</td>\n",
       "      <td>8.000000</td>\n",
       "      <td>1.000000</td>\n",
       "      <td>-1.000000</td>\n",
       "      <td>0.000000</td>\n",
       "    </tr>\n",
       "    <tr>\n",
       "      <th>50%</th>\n",
       "      <td>22606.000000</td>\n",
       "      <td>39.000000</td>\n",
       "      <td>448.000000</td>\n",
       "      <td>16.000000</td>\n",
       "      <td>2.000000</td>\n",
       "      <td>-1.000000</td>\n",
       "      <td>0.000000</td>\n",
       "    </tr>\n",
       "    <tr>\n",
       "      <th>75%</th>\n",
       "      <td>33908.500000</td>\n",
       "      <td>48.000000</td>\n",
       "      <td>1428.000000</td>\n",
       "      <td>21.000000</td>\n",
       "      <td>3.000000</td>\n",
       "      <td>-1.000000</td>\n",
       "      <td>0.000000</td>\n",
       "    </tr>\n",
       "    <tr>\n",
       "      <th>max</th>\n",
       "      <td>45211.000000</td>\n",
       "      <td>95.000000</td>\n",
       "      <td>102127.000000</td>\n",
       "      <td>31.000000</td>\n",
       "      <td>63.000000</td>\n",
       "      <td>871.000000</td>\n",
       "      <td>275.000000</td>\n",
       "    </tr>\n",
       "  </tbody>\n",
       "</table>\n",
       "</div>"
      ],
      "text/plain": [
       "         customerid           age        balance           day      campaign  \\\n",
       "count  45211.000000  45191.000000   45211.000000  45211.000000  45211.000000   \n",
       "mean   22606.000000     40.935651    1362.272058     15.806419      2.763841   \n",
       "std    13051.435847     10.619198    3044.765829      8.322476      3.098021   \n",
       "min        1.000000     18.000000   -8019.000000      1.000000      1.000000   \n",
       "25%    11303.500000     33.000000      72.000000      8.000000      1.000000   \n",
       "50%    22606.000000     39.000000     448.000000     16.000000      2.000000   \n",
       "75%    33908.500000     48.000000    1428.000000     21.000000      3.000000   \n",
       "max    45211.000000     95.000000  102127.000000     31.000000     63.000000   \n",
       "\n",
       "              pdays      previous  \n",
       "count  45211.000000  45211.000000  \n",
       "mean      40.197828      0.580323  \n",
       "std      100.128746      2.303441  \n",
       "min       -1.000000      0.000000  \n",
       "25%       -1.000000      0.000000  \n",
       "50%       -1.000000      0.000000  \n",
       "75%       -1.000000      0.000000  \n",
       "max      871.000000    275.000000  "
      ]
     },
     "execution_count": 10,
     "metadata": {},
     "output_type": "execute_result"
    }
   ],
   "source": [
    "df.describe()"
   ]
  },
  {
   "cell_type": "code",
   "execution_count": 11,
   "id": "c743fcc4",
   "metadata": {},
   "outputs": [
    {
     "name": "stdout",
     "output_type": "stream",
     "text": [
      "<class 'pandas.core.frame.DataFrame'>\n",
      "RangeIndex: 45211 entries, 0 to 45210\n",
      "Data columns (total 19 columns):\n",
      " #   Column      Non-Null Count  Dtype  \n",
      "---  ------      --------------  -----  \n",
      " 0   customerid  45211 non-null  float64\n",
      " 1   age         45191 non-null  float64\n",
      " 2   salary      45211 non-null  object \n",
      " 3   balance     45211 non-null  float64\n",
      " 4   marital     45211 non-null  object \n",
      " 5   jobedu      45211 non-null  object \n",
      " 6   targeted    45211 non-null  object \n",
      " 7   default     45211 non-null  object \n",
      " 8   housing     45211 non-null  object \n",
      " 9   loan        45211 non-null  object \n",
      " 10  contact     45211 non-null  object \n",
      " 11  day         45211 non-null  float64\n",
      " 12  month       45161 non-null  object \n",
      " 13  duration    45211 non-null  object \n",
      " 14  campaign    45211 non-null  float64\n",
      " 15  pdays       45211 non-null  float64\n",
      " 16  previous    45211 non-null  float64\n",
      " 17  poutcome    45211 non-null  object \n",
      " 18  response    45181 non-null  object \n",
      "dtypes: float64(7), object(12)\n",
      "memory usage: 6.6+ MB\n"
     ]
    }
   ],
   "source": [
    "df.info()"
   ]
  },
  {
   "cell_type": "code",
   "execution_count": 12,
   "id": "8398ef88",
   "metadata": {},
   "outputs": [
    {
     "data": {
      "text/html": [
       "<div>\n",
       "<style scoped>\n",
       "    .dataframe tbody tr th:only-of-type {\n",
       "        vertical-align: middle;\n",
       "    }\n",
       "\n",
       "    .dataframe tbody tr th {\n",
       "        vertical-align: top;\n",
       "    }\n",
       "\n",
       "    .dataframe thead th {\n",
       "        text-align: right;\n",
       "    }\n",
       "</style>\n",
       "<table border=\"1\" class=\"dataframe\">\n",
       "  <thead>\n",
       "    <tr style=\"text-align: right;\">\n",
       "      <th></th>\n",
       "      <th>salary</th>\n",
       "      <th>marital</th>\n",
       "      <th>jobedu</th>\n",
       "      <th>targeted</th>\n",
       "      <th>default</th>\n",
       "      <th>housing</th>\n",
       "      <th>loan</th>\n",
       "      <th>contact</th>\n",
       "      <th>month</th>\n",
       "      <th>duration</th>\n",
       "      <th>poutcome</th>\n",
       "      <th>response</th>\n",
       "    </tr>\n",
       "  </thead>\n",
       "  <tbody>\n",
       "    <tr>\n",
       "      <th>0</th>\n",
       "      <td>100000.0</td>\n",
       "      <td>married</td>\n",
       "      <td>management,tertiary</td>\n",
       "      <td>yes</td>\n",
       "      <td>no</td>\n",
       "      <td>yes</td>\n",
       "      <td>no</td>\n",
       "      <td>unknown</td>\n",
       "      <td>may, 2017</td>\n",
       "      <td>261 sec</td>\n",
       "      <td>unknown</td>\n",
       "      <td>no</td>\n",
       "    </tr>\n",
       "    <tr>\n",
       "      <th>1</th>\n",
       "      <td>60000.0</td>\n",
       "      <td>single</td>\n",
       "      <td>technician,secondary</td>\n",
       "      <td>yes</td>\n",
       "      <td>no</td>\n",
       "      <td>yes</td>\n",
       "      <td>no</td>\n",
       "      <td>unknown</td>\n",
       "      <td>may, 2017</td>\n",
       "      <td>151 sec</td>\n",
       "      <td>unknown</td>\n",
       "      <td>no</td>\n",
       "    </tr>\n",
       "    <tr>\n",
       "      <th>2</th>\n",
       "      <td>120000.0</td>\n",
       "      <td>married</td>\n",
       "      <td>entrepreneur,secondary</td>\n",
       "      <td>yes</td>\n",
       "      <td>no</td>\n",
       "      <td>yes</td>\n",
       "      <td>yes</td>\n",
       "      <td>unknown</td>\n",
       "      <td>may, 2017</td>\n",
       "      <td>76 sec</td>\n",
       "      <td>unknown</td>\n",
       "      <td>no</td>\n",
       "    </tr>\n",
       "    <tr>\n",
       "      <th>3</th>\n",
       "      <td>20000.0</td>\n",
       "      <td>married</td>\n",
       "      <td>blue-collar,unknown</td>\n",
       "      <td>no</td>\n",
       "      <td>no</td>\n",
       "      <td>yes</td>\n",
       "      <td>no</td>\n",
       "      <td>unknown</td>\n",
       "      <td>may, 2017</td>\n",
       "      <td>92 sec</td>\n",
       "      <td>unknown</td>\n",
       "      <td>no</td>\n",
       "    </tr>\n",
       "    <tr>\n",
       "      <th>4</th>\n",
       "      <td>0.0</td>\n",
       "      <td>single</td>\n",
       "      <td>unknown,unknown</td>\n",
       "      <td>no</td>\n",
       "      <td>no</td>\n",
       "      <td>no</td>\n",
       "      <td>no</td>\n",
       "      <td>unknown</td>\n",
       "      <td>may, 2017</td>\n",
       "      <td>198 sec</td>\n",
       "      <td>unknown</td>\n",
       "      <td>no</td>\n",
       "    </tr>\n",
       "    <tr>\n",
       "      <th>...</th>\n",
       "      <td>...</td>\n",
       "      <td>...</td>\n",
       "      <td>...</td>\n",
       "      <td>...</td>\n",
       "      <td>...</td>\n",
       "      <td>...</td>\n",
       "      <td>...</td>\n",
       "      <td>...</td>\n",
       "      <td>...</td>\n",
       "      <td>...</td>\n",
       "      <td>...</td>\n",
       "      <td>...</td>\n",
       "    </tr>\n",
       "    <tr>\n",
       "      <th>45206</th>\n",
       "      <td>60000.0</td>\n",
       "      <td>married</td>\n",
       "      <td>technician,tertiary</td>\n",
       "      <td>yes</td>\n",
       "      <td>no</td>\n",
       "      <td>no</td>\n",
       "      <td>no</td>\n",
       "      <td>cellular</td>\n",
       "      <td>nov, 2017</td>\n",
       "      <td>16.2833333333333 min</td>\n",
       "      <td>unknown</td>\n",
       "      <td>yes</td>\n",
       "    </tr>\n",
       "    <tr>\n",
       "      <th>45207</th>\n",
       "      <td>55000.0</td>\n",
       "      <td>divorced</td>\n",
       "      <td>retired,primary</td>\n",
       "      <td>yes</td>\n",
       "      <td>no</td>\n",
       "      <td>no</td>\n",
       "      <td>no</td>\n",
       "      <td>cellular</td>\n",
       "      <td>nov, 2017</td>\n",
       "      <td>7.6 min</td>\n",
       "      <td>unknown</td>\n",
       "      <td>yes</td>\n",
       "    </tr>\n",
       "    <tr>\n",
       "      <th>45208</th>\n",
       "      <td>55000.0</td>\n",
       "      <td>married</td>\n",
       "      <td>retired,secondary</td>\n",
       "      <td>yes</td>\n",
       "      <td>no</td>\n",
       "      <td>no</td>\n",
       "      <td>no</td>\n",
       "      <td>cellular</td>\n",
       "      <td>nov, 2017</td>\n",
       "      <td>18.7833333333333 min</td>\n",
       "      <td>success</td>\n",
       "      <td>yes</td>\n",
       "    </tr>\n",
       "    <tr>\n",
       "      <th>45209</th>\n",
       "      <td>20000.0</td>\n",
       "      <td>married</td>\n",
       "      <td>blue-collar,secondary</td>\n",
       "      <td>yes</td>\n",
       "      <td>no</td>\n",
       "      <td>no</td>\n",
       "      <td>no</td>\n",
       "      <td>telephone</td>\n",
       "      <td>nov, 2017</td>\n",
       "      <td>8.46666666666667 min</td>\n",
       "      <td>unknown</td>\n",
       "      <td>no</td>\n",
       "    </tr>\n",
       "    <tr>\n",
       "      <th>45210</th>\n",
       "      <td>120000.0</td>\n",
       "      <td>married</td>\n",
       "      <td>entrepreneur,secondary</td>\n",
       "      <td>yes</td>\n",
       "      <td>no</td>\n",
       "      <td>no</td>\n",
       "      <td>no</td>\n",
       "      <td>cellular</td>\n",
       "      <td>nov, 2017</td>\n",
       "      <td>6.01666666666667 min</td>\n",
       "      <td>other</td>\n",
       "      <td>no</td>\n",
       "    </tr>\n",
       "  </tbody>\n",
       "</table>\n",
       "<p>45211 rows × 12 columns</p>\n",
       "</div>"
      ],
      "text/plain": [
       "         salary   marital                  jobedu targeted default housing  \\\n",
       "0      100000.0   married     management,tertiary      yes      no     yes   \n",
       "1       60000.0    single    technician,secondary      yes      no     yes   \n",
       "2      120000.0   married  entrepreneur,secondary      yes      no     yes   \n",
       "3       20000.0   married     blue-collar,unknown       no      no     yes   \n",
       "4           0.0    single         unknown,unknown       no      no      no   \n",
       "...         ...       ...                     ...      ...     ...     ...   \n",
       "45206   60000.0   married     technician,tertiary      yes      no      no   \n",
       "45207   55000.0  divorced         retired,primary      yes      no      no   \n",
       "45208   55000.0   married       retired,secondary      yes      no      no   \n",
       "45209   20000.0   married   blue-collar,secondary      yes      no      no   \n",
       "45210  120000.0   married  entrepreneur,secondary      yes      no      no   \n",
       "\n",
       "      loan    contact      month              duration poutcome response  \n",
       "0       no    unknown  may, 2017               261 sec  unknown       no  \n",
       "1       no    unknown  may, 2017               151 sec  unknown       no  \n",
       "2      yes    unknown  may, 2017                76 sec  unknown       no  \n",
       "3       no    unknown  may, 2017                92 sec  unknown       no  \n",
       "4       no    unknown  may, 2017               198 sec  unknown       no  \n",
       "...    ...        ...        ...                   ...      ...      ...  \n",
       "45206   no   cellular  nov, 2017  16.2833333333333 min  unknown      yes  \n",
       "45207   no   cellular  nov, 2017               7.6 min  unknown      yes  \n",
       "45208   no   cellular  nov, 2017  18.7833333333333 min  success      yes  \n",
       "45209   no  telephone  nov, 2017  8.46666666666667 min  unknown       no  \n",
       "45210   no   cellular  nov, 2017  6.01666666666667 min    other       no  \n",
       "\n",
       "[45211 rows x 12 columns]"
      ]
     },
     "execution_count": 12,
     "metadata": {},
     "output_type": "execute_result"
    }
   ],
   "source": [
    "# Checking the object data columns\n",
    "df.select_dtypes('object')"
   ]
  },
  {
   "cell_type": "markdown",
   "id": "9e0428f1",
   "metadata": {},
   "source": [
    "<H1 style='color: blue'> CLEANING DATA </H1>"
   ]
  },
  {
   "cell_type": "markdown",
   "id": "4193be3b",
   "metadata": {},
   "source": [
    "##### Coverting data type of salary column to numeric "
   ]
  },
  {
   "cell_type": "code",
   "execution_count": 13,
   "id": "fb78e1d9",
   "metadata": {},
   "outputs": [
    {
     "data": {
      "text/plain": [
       "12"
      ]
     },
     "execution_count": 13,
     "metadata": {},
     "output_type": "execute_result"
    }
   ],
   "source": [
    "df['salary'].nunique()"
   ]
  },
  {
   "cell_type": "code",
   "execution_count": 14,
   "id": "7ee564ca",
   "metadata": {},
   "outputs": [
    {
     "data": {
      "text/plain": [
       "0"
      ]
     },
     "execution_count": 14,
     "metadata": {},
     "output_type": "execute_result"
    }
   ],
   "source": [
    "df['salary'].isnull().sum()"
   ]
  },
  {
   "cell_type": "code",
   "execution_count": 15,
   "id": "3c27c41e",
   "metadata": {},
   "outputs": [
    {
     "data": {
      "text/plain": [
       "20000.0     9732\n",
       "100000.0    9458\n",
       "60000.0     9176\n",
       "50000.0     5171\n",
       "70000.0     4154\n",
       "55000.0     2264\n",
       "120000.0    1487\n",
       "8000.0      1303\n",
       "16000.0     1240\n",
       "4000.0       938\n",
       "0.0          226\n",
       "?             62\n",
       "Name: salary, dtype: int64"
      ]
     },
     "execution_count": 15,
     "metadata": {},
     "output_type": "execute_result"
    }
   ],
   "source": [
    "df['salary'].value_counts()"
   ]
  },
  {
   "cell_type": "markdown",
   "id": "4247dfc0",
   "metadata": {},
   "source": [
    "###### - The above data shows that salary column has 62 null values. Replacing them with np.NAN"
   ]
  },
  {
   "cell_type": "code",
   "execution_count": 16,
   "id": "55dca16a",
   "metadata": {},
   "outputs": [],
   "source": [
    "df['salary']=np.where(df['salary']=='?', np.NaN, df['salary'])"
   ]
  },
  {
   "cell_type": "code",
   "execution_count": 17,
   "id": "55acccd4",
   "metadata": {},
   "outputs": [
    {
     "data": {
      "text/plain": [
       "20000.0     9732\n",
       "100000.0    9458\n",
       "60000.0     9176\n",
       "50000.0     5171\n",
       "70000.0     4154\n",
       "55000.0     2264\n",
       "120000.0    1487\n",
       "8000.0      1303\n",
       "16000.0     1240\n",
       "4000.0       938\n",
       "0.0          226\n",
       "Name: salary, dtype: int64"
      ]
     },
     "execution_count": 17,
     "metadata": {},
     "output_type": "execute_result"
    }
   ],
   "source": [
    "df['salary'].value_counts()"
   ]
  },
  {
   "cell_type": "code",
   "execution_count": 18,
   "id": "8e45dbfe",
   "metadata": {},
   "outputs": [
    {
     "data": {
      "text/plain": [
       "11"
      ]
     },
     "execution_count": 18,
     "metadata": {},
     "output_type": "execute_result"
    }
   ],
   "source": [
    "df['salary'].nunique()"
   ]
  },
  {
   "cell_type": "code",
   "execution_count": 19,
   "id": "46c346ab",
   "metadata": {},
   "outputs": [],
   "source": [
    "df['salary']=df['salary'].astype('float')"
   ]
  },
  {
   "cell_type": "code",
   "execution_count": 20,
   "id": "f4c5cf04",
   "metadata": {},
   "outputs": [
    {
     "data": {
      "text/plain": [
       "dtype('float64')"
      ]
     },
     "execution_count": 20,
     "metadata": {},
     "output_type": "execute_result"
    }
   ],
   "source": [
    "df['salary'].dtype"
   ]
  },
  {
   "cell_type": "code",
   "execution_count": 21,
   "id": "899cbc26",
   "metadata": {},
   "outputs": [
    {
     "name": "stdout",
     "output_type": "stream",
     "text": [
      "<class 'pandas.core.frame.DataFrame'>\n",
      "RangeIndex: 45211 entries, 0 to 45210\n",
      "Data columns (total 19 columns):\n",
      " #   Column      Non-Null Count  Dtype  \n",
      "---  ------      --------------  -----  \n",
      " 0   customerid  45211 non-null  float64\n",
      " 1   age         45191 non-null  float64\n",
      " 2   salary      45149 non-null  float64\n",
      " 3   balance     45211 non-null  float64\n",
      " 4   marital     45211 non-null  object \n",
      " 5   jobedu      45211 non-null  object \n",
      " 6   targeted    45211 non-null  object \n",
      " 7   default     45211 non-null  object \n",
      " 8   housing     45211 non-null  object \n",
      " 9   loan        45211 non-null  object \n",
      " 10  contact     45211 non-null  object \n",
      " 11  day         45211 non-null  float64\n",
      " 12  month       45161 non-null  object \n",
      " 13  duration    45211 non-null  object \n",
      " 14  campaign    45211 non-null  float64\n",
      " 15  pdays       45211 non-null  float64\n",
      " 16  previous    45211 non-null  float64\n",
      " 17  poutcome    45211 non-null  object \n",
      " 18  response    45181 non-null  object \n",
      "dtypes: float64(8), object(11)\n",
      "memory usage: 6.6+ MB\n"
     ]
    }
   ],
   "source": [
    "df.info()"
   ]
  },
  {
   "cell_type": "markdown",
   "id": "e7f8dbfb",
   "metadata": {},
   "source": [
    "##### Creating new columns by splitting data in the jobedu column"
   ]
  },
  {
   "cell_type": "code",
   "execution_count": 22,
   "id": "da742565",
   "metadata": {},
   "outputs": [],
   "source": [
    "df['job']=df['jobedu'].apply(lambda x: x.split(',')[0])\n",
    "df['edu']=df['jobedu'].apply(lambda x: x.split(',')[1])"
   ]
  },
  {
   "cell_type": "code",
   "execution_count": 23,
   "id": "8b49f695",
   "metadata": {},
   "outputs": [
    {
     "data": {
      "text/html": [
       "<div>\n",
       "<style scoped>\n",
       "    .dataframe tbody tr th:only-of-type {\n",
       "        vertical-align: middle;\n",
       "    }\n",
       "\n",
       "    .dataframe tbody tr th {\n",
       "        vertical-align: top;\n",
       "    }\n",
       "\n",
       "    .dataframe thead th {\n",
       "        text-align: right;\n",
       "    }\n",
       "</style>\n",
       "<table border=\"1\" class=\"dataframe\">\n",
       "  <thead>\n",
       "    <tr style=\"text-align: right;\">\n",
       "      <th></th>\n",
       "      <th>customerid</th>\n",
       "      <th>age</th>\n",
       "      <th>salary</th>\n",
       "      <th>balance</th>\n",
       "      <th>marital</th>\n",
       "      <th>jobedu</th>\n",
       "      <th>targeted</th>\n",
       "      <th>default</th>\n",
       "      <th>housing</th>\n",
       "      <th>loan</th>\n",
       "      <th>...</th>\n",
       "      <th>day</th>\n",
       "      <th>month</th>\n",
       "      <th>duration</th>\n",
       "      <th>campaign</th>\n",
       "      <th>pdays</th>\n",
       "      <th>previous</th>\n",
       "      <th>poutcome</th>\n",
       "      <th>response</th>\n",
       "      <th>job</th>\n",
       "      <th>edu</th>\n",
       "    </tr>\n",
       "  </thead>\n",
       "  <tbody>\n",
       "    <tr>\n",
       "      <th>0</th>\n",
       "      <td>1.0</td>\n",
       "      <td>58.0</td>\n",
       "      <td>100000.0</td>\n",
       "      <td>2143.0</td>\n",
       "      <td>married</td>\n",
       "      <td>management,tertiary</td>\n",
       "      <td>yes</td>\n",
       "      <td>no</td>\n",
       "      <td>yes</td>\n",
       "      <td>no</td>\n",
       "      <td>...</td>\n",
       "      <td>5.0</td>\n",
       "      <td>may, 2017</td>\n",
       "      <td>261 sec</td>\n",
       "      <td>1.0</td>\n",
       "      <td>-1.0</td>\n",
       "      <td>0.0</td>\n",
       "      <td>unknown</td>\n",
       "      <td>no</td>\n",
       "      <td>management</td>\n",
       "      <td>tertiary</td>\n",
       "    </tr>\n",
       "    <tr>\n",
       "      <th>1</th>\n",
       "      <td>2.0</td>\n",
       "      <td>44.0</td>\n",
       "      <td>60000.0</td>\n",
       "      <td>29.0</td>\n",
       "      <td>single</td>\n",
       "      <td>technician,secondary</td>\n",
       "      <td>yes</td>\n",
       "      <td>no</td>\n",
       "      <td>yes</td>\n",
       "      <td>no</td>\n",
       "      <td>...</td>\n",
       "      <td>5.0</td>\n",
       "      <td>may, 2017</td>\n",
       "      <td>151 sec</td>\n",
       "      <td>1.0</td>\n",
       "      <td>-1.0</td>\n",
       "      <td>0.0</td>\n",
       "      <td>unknown</td>\n",
       "      <td>no</td>\n",
       "      <td>technician</td>\n",
       "      <td>secondary</td>\n",
       "    </tr>\n",
       "    <tr>\n",
       "      <th>2</th>\n",
       "      <td>3.0</td>\n",
       "      <td>33.0</td>\n",
       "      <td>120000.0</td>\n",
       "      <td>2.0</td>\n",
       "      <td>married</td>\n",
       "      <td>entrepreneur,secondary</td>\n",
       "      <td>yes</td>\n",
       "      <td>no</td>\n",
       "      <td>yes</td>\n",
       "      <td>yes</td>\n",
       "      <td>...</td>\n",
       "      <td>5.0</td>\n",
       "      <td>may, 2017</td>\n",
       "      <td>76 sec</td>\n",
       "      <td>1.0</td>\n",
       "      <td>-1.0</td>\n",
       "      <td>0.0</td>\n",
       "      <td>unknown</td>\n",
       "      <td>no</td>\n",
       "      <td>entrepreneur</td>\n",
       "      <td>secondary</td>\n",
       "    </tr>\n",
       "    <tr>\n",
       "      <th>3</th>\n",
       "      <td>4.0</td>\n",
       "      <td>47.0</td>\n",
       "      <td>20000.0</td>\n",
       "      <td>1506.0</td>\n",
       "      <td>married</td>\n",
       "      <td>blue-collar,unknown</td>\n",
       "      <td>no</td>\n",
       "      <td>no</td>\n",
       "      <td>yes</td>\n",
       "      <td>no</td>\n",
       "      <td>...</td>\n",
       "      <td>5.0</td>\n",
       "      <td>may, 2017</td>\n",
       "      <td>92 sec</td>\n",
       "      <td>1.0</td>\n",
       "      <td>-1.0</td>\n",
       "      <td>0.0</td>\n",
       "      <td>unknown</td>\n",
       "      <td>no</td>\n",
       "      <td>blue-collar</td>\n",
       "      <td>unknown</td>\n",
       "    </tr>\n",
       "    <tr>\n",
       "      <th>4</th>\n",
       "      <td>5.0</td>\n",
       "      <td>33.0</td>\n",
       "      <td>0.0</td>\n",
       "      <td>1.0</td>\n",
       "      <td>single</td>\n",
       "      <td>unknown,unknown</td>\n",
       "      <td>no</td>\n",
       "      <td>no</td>\n",
       "      <td>no</td>\n",
       "      <td>no</td>\n",
       "      <td>...</td>\n",
       "      <td>5.0</td>\n",
       "      <td>may, 2017</td>\n",
       "      <td>198 sec</td>\n",
       "      <td>1.0</td>\n",
       "      <td>-1.0</td>\n",
       "      <td>0.0</td>\n",
       "      <td>unknown</td>\n",
       "      <td>no</td>\n",
       "      <td>unknown</td>\n",
       "      <td>unknown</td>\n",
       "    </tr>\n",
       "  </tbody>\n",
       "</table>\n",
       "<p>5 rows × 21 columns</p>\n",
       "</div>"
      ],
      "text/plain": [
       "   customerid   age    salary  balance  marital                  jobedu  \\\n",
       "0         1.0  58.0  100000.0   2143.0  married     management,tertiary   \n",
       "1         2.0  44.0   60000.0     29.0   single    technician,secondary   \n",
       "2         3.0  33.0  120000.0      2.0  married  entrepreneur,secondary   \n",
       "3         4.0  47.0   20000.0   1506.0  married     blue-collar,unknown   \n",
       "4         5.0  33.0       0.0      1.0   single         unknown,unknown   \n",
       "\n",
       "  targeted default housing loan  ...  day      month duration campaign  pdays  \\\n",
       "0      yes      no     yes   no  ...  5.0  may, 2017  261 sec      1.0   -1.0   \n",
       "1      yes      no     yes   no  ...  5.0  may, 2017  151 sec      1.0   -1.0   \n",
       "2      yes      no     yes  yes  ...  5.0  may, 2017   76 sec      1.0   -1.0   \n",
       "3       no      no     yes   no  ...  5.0  may, 2017   92 sec      1.0   -1.0   \n",
       "4       no      no      no   no  ...  5.0  may, 2017  198 sec      1.0   -1.0   \n",
       "\n",
       "   previous  poutcome response           job        edu  \n",
       "0       0.0   unknown       no    management   tertiary  \n",
       "1       0.0   unknown       no    technician  secondary  \n",
       "2       0.0   unknown       no  entrepreneur  secondary  \n",
       "3       0.0   unknown       no   blue-collar    unknown  \n",
       "4       0.0   unknown       no       unknown    unknown  \n",
       "\n",
       "[5 rows x 21 columns]"
      ]
     },
     "execution_count": 23,
     "metadata": {},
     "output_type": "execute_result"
    }
   ],
   "source": [
    "df.head(5)"
   ]
  },
  {
   "cell_type": "code",
   "execution_count": 24,
   "id": "c3d99293",
   "metadata": {},
   "outputs": [
    {
     "name": "stdout",
     "output_type": "stream",
     "text": [
      "<class 'pandas.core.frame.DataFrame'>\n",
      "RangeIndex: 45211 entries, 0 to 45210\n",
      "Data columns (total 21 columns):\n",
      " #   Column      Non-Null Count  Dtype  \n",
      "---  ------      --------------  -----  \n",
      " 0   customerid  45211 non-null  float64\n",
      " 1   age         45191 non-null  float64\n",
      " 2   salary      45149 non-null  float64\n",
      " 3   balance     45211 non-null  float64\n",
      " 4   marital     45211 non-null  object \n",
      " 5   jobedu      45211 non-null  object \n",
      " 6   targeted    45211 non-null  object \n",
      " 7   default     45211 non-null  object \n",
      " 8   housing     45211 non-null  object \n",
      " 9   loan        45211 non-null  object \n",
      " 10  contact     45211 non-null  object \n",
      " 11  day         45211 non-null  float64\n",
      " 12  month       45161 non-null  object \n",
      " 13  duration    45211 non-null  object \n",
      " 14  campaign    45211 non-null  float64\n",
      " 15  pdays       45211 non-null  float64\n",
      " 16  previous    45211 non-null  float64\n",
      " 17  poutcome    45211 non-null  object \n",
      " 18  response    45181 non-null  object \n",
      " 19  job         45211 non-null  object \n",
      " 20  edu         45211 non-null  object \n",
      "dtypes: float64(8), object(13)\n",
      "memory usage: 7.2+ MB\n"
     ]
    }
   ],
   "source": [
    "df.info()"
   ]
  },
  {
   "cell_type": "markdown",
   "id": "f0cc8490",
   "metadata": {},
   "source": [
    "### Filling the Null Values:\n",
    "- Numerical Variable: Fill with mean or median.\n",
    "- Categorical Variable: Fill Mode\n",
    "- Domain knowledge"
   ]
  },
  {
   "cell_type": "markdown",
   "id": "e231bb65",
   "metadata": {},
   "source": [
    "**- Filling null values in Age column with median**"
   ]
  },
  {
   "cell_type": "code",
   "execution_count": 25,
   "id": "bf218093",
   "metadata": {},
   "outputs": [
    {
     "data": {
      "text/plain": [
       "20"
      ]
     },
     "execution_count": 25,
     "metadata": {},
     "output_type": "execute_result"
    }
   ],
   "source": [
    "df['age'].isnull().sum()"
   ]
  },
  {
   "cell_type": "markdown",
   "id": "36836dd9",
   "metadata": {},
   "source": [
    "Filling the null values with the median"
   ]
  },
  {
   "cell_type": "code",
   "execution_count": 26,
   "id": "eb6eb4c3",
   "metadata": {},
   "outputs": [
    {
     "data": {
      "text/plain": [
       "39.0"
      ]
     },
     "execution_count": 26,
     "metadata": {},
     "output_type": "execute_result"
    }
   ],
   "source": [
    "m=df['age'].median()\n",
    "m"
   ]
  },
  {
   "cell_type": "code",
   "execution_count": 27,
   "id": "28e08b10",
   "metadata": {},
   "outputs": [
    {
     "data": {
      "text/plain": [
       "count    45191.000000\n",
       "mean        40.935651\n",
       "std         10.619198\n",
       "min         18.000000\n",
       "25%         33.000000\n",
       "50%         39.000000\n",
       "75%         48.000000\n",
       "max         95.000000\n",
       "Name: age, dtype: float64"
      ]
     },
     "execution_count": 27,
     "metadata": {},
     "output_type": "execute_result"
    }
   ],
   "source": [
    "df['age'].describe()"
   ]
  },
  {
   "cell_type": "code",
   "execution_count": 28,
   "id": "a805ddce",
   "metadata": {},
   "outputs": [],
   "source": [
    "df['age']=df['age'].fillna(m)"
   ]
  },
  {
   "cell_type": "code",
   "execution_count": 29,
   "id": "ff46b5b2",
   "metadata": {},
   "outputs": [
    {
     "data": {
      "text/plain": [
       "0"
      ]
     },
     "execution_count": 29,
     "metadata": {},
     "output_type": "execute_result"
    }
   ],
   "source": [
    "df['age'].isnull().sum()"
   ]
  },
  {
   "cell_type": "code",
   "execution_count": 30,
   "id": "ce4fc4a0",
   "metadata": {},
   "outputs": [
    {
     "data": {
      "text/plain": [
       "<AxesSubplot:xlabel='age'>"
      ]
     },
     "execution_count": 30,
     "metadata": {},
     "output_type": "execute_result"
    },
    {
     "data": {
      "image/png": "[encoded data removed]",
      "text/plain": [
       "<Figure size 432x288 with 1 Axes>"
      ]
     },
     "metadata": {
      "needs_background": "light"
     },
     "output_type": "display_data"
    }
   ],
   "source": [
    "sns.boxplot(df['age'])"
   ]
  },
  {
   "cell_type": "code",
   "execution_count": 31,
   "id": "a0da6f4b",
   "metadata": {},
   "outputs": [
    {
     "data": {
      "text/html": [
       "<div>\n",
       "<style scoped>\n",
       "    .dataframe tbody tr th:only-of-type {\n",
       "        vertical-align: middle;\n",
       "    }\n",
       "\n",
       "    .dataframe tbody tr th {\n",
       "        vertical-align: top;\n",
       "    }\n",
       "\n",
       "    .dataframe thead th {\n",
       "        text-align: right;\n",
       "    }\n",
       "</style>\n",
       "<table border=\"1\" class=\"dataframe\">\n",
       "  <thead>\n",
       "    <tr style=\"text-align: right;\">\n",
       "      <th></th>\n",
       "      <th>customerid</th>\n",
       "      <th>age</th>\n",
       "      <th>salary</th>\n",
       "      <th>balance</th>\n",
       "      <th>marital</th>\n",
       "      <th>jobedu</th>\n",
       "      <th>targeted</th>\n",
       "      <th>default</th>\n",
       "      <th>housing</th>\n",
       "      <th>loan</th>\n",
       "      <th>...</th>\n",
       "      <th>day</th>\n",
       "      <th>month</th>\n",
       "      <th>duration</th>\n",
       "      <th>campaign</th>\n",
       "      <th>pdays</th>\n",
       "      <th>previous</th>\n",
       "      <th>poutcome</th>\n",
       "      <th>response</th>\n",
       "      <th>job</th>\n",
       "      <th>edu</th>\n",
       "    </tr>\n",
       "  </thead>\n",
       "  <tbody>\n",
       "    <tr>\n",
       "      <th>0</th>\n",
       "      <td>1.0</td>\n",
       "      <td>58.0</td>\n",
       "      <td>100000.0</td>\n",
       "      <td>2143.0</td>\n",
       "      <td>married</td>\n",
       "      <td>management,tertiary</td>\n",
       "      <td>yes</td>\n",
       "      <td>no</td>\n",
       "      <td>yes</td>\n",
       "      <td>no</td>\n",
       "      <td>...</td>\n",
       "      <td>5.0</td>\n",
       "      <td>may, 2017</td>\n",
       "      <td>261 sec</td>\n",
       "      <td>1.0</td>\n",
       "      <td>-1.0</td>\n",
       "      <td>0.0</td>\n",
       "      <td>unknown</td>\n",
       "      <td>no</td>\n",
       "      <td>management</td>\n",
       "      <td>tertiary</td>\n",
       "    </tr>\n",
       "    <tr>\n",
       "      <th>1</th>\n",
       "      <td>2.0</td>\n",
       "      <td>44.0</td>\n",
       "      <td>60000.0</td>\n",
       "      <td>29.0</td>\n",
       "      <td>single</td>\n",
       "      <td>technician,secondary</td>\n",
       "      <td>yes</td>\n",
       "      <td>no</td>\n",
       "      <td>yes</td>\n",
       "      <td>no</td>\n",
       "      <td>...</td>\n",
       "      <td>5.0</td>\n",
       "      <td>may, 2017</td>\n",
       "      <td>151 sec</td>\n",
       "      <td>1.0</td>\n",
       "      <td>-1.0</td>\n",
       "      <td>0.0</td>\n",
       "      <td>unknown</td>\n",
       "      <td>no</td>\n",
       "      <td>technician</td>\n",
       "      <td>secondary</td>\n",
       "    </tr>\n",
       "    <tr>\n",
       "      <th>2</th>\n",
       "      <td>3.0</td>\n",
       "      <td>33.0</td>\n",
       "      <td>120000.0</td>\n",
       "      <td>2.0</td>\n",
       "      <td>married</td>\n",
       "      <td>entrepreneur,secondary</td>\n",
       "      <td>yes</td>\n",
       "      <td>no</td>\n",
       "      <td>yes</td>\n",
       "      <td>yes</td>\n",
       "      <td>...</td>\n",
       "      <td>5.0</td>\n",
       "      <td>may, 2017</td>\n",
       "      <td>76 sec</td>\n",
       "      <td>1.0</td>\n",
       "      <td>-1.0</td>\n",
       "      <td>0.0</td>\n",
       "      <td>unknown</td>\n",
       "      <td>no</td>\n",
       "      <td>entrepreneur</td>\n",
       "      <td>secondary</td>\n",
       "    </tr>\n",
       "    <tr>\n",
       "      <th>3</th>\n",
       "      <td>4.0</td>\n",
       "      <td>47.0</td>\n",
       "      <td>20000.0</td>\n",
       "      <td>1506.0</td>\n",
       "      <td>married</td>\n",
       "      <td>blue-collar,unknown</td>\n",
       "      <td>no</td>\n",
       "      <td>no</td>\n",
       "      <td>yes</td>\n",
       "      <td>no</td>\n",
       "      <td>...</td>\n",
       "      <td>5.0</td>\n",
       "      <td>may, 2017</td>\n",
       "      <td>92 sec</td>\n",
       "      <td>1.0</td>\n",
       "      <td>-1.0</td>\n",
       "      <td>0.0</td>\n",
       "      <td>unknown</td>\n",
       "      <td>no</td>\n",
       "      <td>blue-collar</td>\n",
       "      <td>unknown</td>\n",
       "    </tr>\n",
       "    <tr>\n",
       "      <th>4</th>\n",
       "      <td>5.0</td>\n",
       "      <td>33.0</td>\n",
       "      <td>0.0</td>\n",
       "      <td>1.0</td>\n",
       "      <td>single</td>\n",
       "      <td>unknown,unknown</td>\n",
       "      <td>no</td>\n",
       "      <td>no</td>\n",
       "      <td>no</td>\n",
       "      <td>no</td>\n",
       "      <td>...</td>\n",
       "      <td>5.0</td>\n",
       "      <td>may, 2017</td>\n",
       "      <td>198 sec</td>\n",
       "      <td>1.0</td>\n",
       "      <td>-1.0</td>\n",
       "      <td>0.0</td>\n",
       "      <td>unknown</td>\n",
       "      <td>no</td>\n",
       "      <td>unknown</td>\n",
       "      <td>unknown</td>\n",
       "    </tr>\n",
       "  </tbody>\n",
       "</table>\n",
       "<p>5 rows × 21 columns</p>\n",
       "</div>"
      ],
      "text/plain": [
       "   customerid   age    salary  balance  marital                  jobedu  \\\n",
       "0         1.0  58.0  100000.0   2143.0  married     management,tertiary   \n",
       "1         2.0  44.0   60000.0     29.0   single    technician,secondary   \n",
       "2         3.0  33.0  120000.0      2.0  married  entrepreneur,secondary   \n",
       "3         4.0  47.0   20000.0   1506.0  married     blue-collar,unknown   \n",
       "4         5.0  33.0       0.0      1.0   single         unknown,unknown   \n",
       "\n",
       "  targeted default housing loan  ...  day      month duration campaign  pdays  \\\n",
       "0      yes      no     yes   no  ...  5.0  may, 2017  261 sec      1.0   -1.0   \n",
       "1      yes      no     yes   no  ...  5.0  may, 2017  151 sec      1.0   -1.0   \n",
       "2      yes      no     yes  yes  ...  5.0  may, 2017   76 sec      1.0   -1.0   \n",
       "3       no      no     yes   no  ...  5.0  may, 2017   92 sec      1.0   -1.0   \n",
       "4       no      no      no   no  ...  5.0  may, 2017  198 sec      1.0   -1.0   \n",
       "\n",
       "   previous  poutcome response           job        edu  \n",
       "0       0.0   unknown       no    management   tertiary  \n",
       "1       0.0   unknown       no    technician  secondary  \n",
       "2       0.0   unknown       no  entrepreneur  secondary  \n",
       "3       0.0   unknown       no   blue-collar    unknown  \n",
       "4       0.0   unknown       no       unknown    unknown  \n",
       "\n",
       "[5 rows x 21 columns]"
      ]
     },
     "execution_count": 31,
     "metadata": {},
     "output_type": "execute_result"
    }
   ],
   "source": [
    "df.head(5)"
   ]
  },
  {
   "cell_type": "markdown",
   "id": "42996250",
   "metadata": {},
   "source": [
    "**- Filling the null values in salary column with 0**\n"
   ]
  },
  {
   "cell_type": "code",
   "execution_count": 32,
   "id": "4a9a8d8f",
   "metadata": {},
   "outputs": [
    {
     "data": {
      "text/plain": [
       "0        100000.0\n",
       "1         60000.0\n",
       "2        120000.0\n",
       "3         20000.0\n",
       "4             0.0\n",
       "           ...   \n",
       "45206     60000.0\n",
       "45207     55000.0\n",
       "45208     55000.0\n",
       "45209     20000.0\n",
       "45210    120000.0\n",
       "Name: salary, Length: 45211, dtype: float64"
      ]
     },
     "execution_count": 32,
     "metadata": {},
     "output_type": "execute_result"
    }
   ],
   "source": [
    "df['salary'].fillna(0)"
   ]
  },
  {
   "cell_type": "code",
   "execution_count": 33,
   "id": "9004d757",
   "metadata": {},
   "outputs": [
    {
     "data": {
      "text/plain": [
       "job            poutcome\n",
       "admin.         failure      643\n",
       "               other        241\n",
       "               success      204\n",
       "               unknown     4083\n",
       "blue-collar    failure     1068\n",
       "               other        401\n",
       "               success      148\n",
       "               unknown     8115\n",
       "entrepreneur   failure      164\n",
       "               other         39\n",
       "               success       22\n",
       "               unknown     1262\n",
       "housemaid      failure       97\n",
       "               other         26\n",
       "               success       29\n",
       "               unknown     1088\n",
       "management     failure     1044\n",
       "               other        393\n",
       "               success      387\n",
       "               unknown     7634\n",
       "retired        failure      230\n",
       "               other         83\n",
       "               success      174\n",
       "               unknown     1777\n",
       "self-employed  failure      165\n",
       "               other         61\n",
       "               success       55\n",
       "               unknown     1298\n",
       "services       failure      444\n",
       "               other        177\n",
       "               success       85\n",
       "               unknown     3448\n",
       "student        failure      117\n",
       "               other         81\n",
       "               success       87\n",
       "               unknown      653\n",
       "technician     failure      797\n",
       "               other        299\n",
       "               success      245\n",
       "               unknown     6256\n",
       "unemployed     failure      112\n",
       "               other         37\n",
       "               success       64\n",
       "               unknown     1090\n",
       "unknown        failure       20\n",
       "               other          2\n",
       "               success       11\n",
       "               unknown      255\n",
       "Name: customerid, dtype: int64"
      ]
     },
     "execution_count": 33,
     "metadata": {},
     "output_type": "execute_result"
    }
   ],
   "source": [
    "df.groupby(['job','poutcome'])['customerid'].count()"
   ]
  },
  {
   "cell_type": "code",
   "execution_count": 34,
   "id": "fc233eba",
   "metadata": {},
   "outputs": [
    {
     "data": {
      "text/plain": [
       "poutcome\n",
       "failure     4901\n",
       "other       1840\n",
       "success     1511\n",
       "unknown    36959\n",
       "Name: customerid, dtype: int64"
      ]
     },
     "execution_count": 34,
     "metadata": {},
     "output_type": "execute_result"
    }
   ],
   "source": [
    "df.groupby('poutcome')['customerid'].count()"
   ]
  },
  {
   "cell_type": "markdown",
   "id": "18627ea9",
   "metadata": {},
   "source": [
    "##### The above groupby concludes that there were 1511 confirmed successes out of the total calls made to customers."
   ]
  },
  {
   "cell_type": "code",
   "execution_count": 35,
   "id": "8cd75732",
   "metadata": {},
   "outputs": [
    {
     "data": {
      "text/plain": [
       "may, 2017    13747\n",
       "jul, 2017     6888\n",
       "aug, 2017     6240\n",
       "jun, 2017     5335\n",
       "nov, 2017     3968\n",
       "apr, 2017     2931\n",
       "feb, 2017     2646\n",
       "jan, 2017     1402\n",
       "oct, 2017      738\n",
       "sep, 2017      576\n",
       "mar, 2017      476\n",
       "dec, 2017      214\n",
       "Name: month, dtype: int64"
      ]
     },
     "execution_count": 35,
     "metadata": {},
     "output_type": "execute_result"
    }
   ],
   "source": [
    "df['month'].value_counts(sort=True,ascending=False)"
   ]
  },
  {
   "cell_type": "markdown",
   "id": "e8663191",
   "metadata": {},
   "source": [
    "**- Filling the null values in month column with the mode**"
   ]
  },
  {
   "cell_type": "code",
   "execution_count": 36,
   "id": "248fd8bc",
   "metadata": {},
   "outputs": [
    {
     "data": {
      "text/plain": [
       "50"
      ]
     },
     "execution_count": 36,
     "metadata": {},
     "output_type": "execute_result"
    }
   ],
   "source": [
    "df['month'].isnull().sum()"
   ]
  },
  {
   "cell_type": "code",
   "execution_count": 37,
   "id": "760db132",
   "metadata": {},
   "outputs": [
    {
     "data": {
      "text/plain": [
       "'may, 2017'"
      ]
     },
     "execution_count": 37,
     "metadata": {},
     "output_type": "execute_result"
    }
   ],
   "source": [
    "m1=df['month'].mode()[0]\n",
    "m1"
   ]
  },
  {
   "cell_type": "code",
   "execution_count": 38,
   "id": "0904a968",
   "metadata": {},
   "outputs": [],
   "source": [
    "df['month']=df['month'].fillna(m1)"
   ]
  },
  {
   "cell_type": "code",
   "execution_count": 39,
   "id": "9f74e2ba",
   "metadata": {},
   "outputs": [
    {
     "data": {
      "text/plain": [
       "0"
      ]
     },
     "execution_count": 39,
     "metadata": {},
     "output_type": "execute_result"
    }
   ],
   "source": [
    "df['month'].isnull().sum()"
   ]
  },
  {
   "cell_type": "code",
   "execution_count": 40,
   "id": "6e89cb33",
   "metadata": {},
   "outputs": [
    {
     "data": {
      "text/plain": [
       "0        may, 2017\n",
       "1        may, 2017\n",
       "2        may, 2017\n",
       "3        may, 2017\n",
       "4        may, 2017\n",
       "           ...    \n",
       "45206    nov, 2017\n",
       "45207    nov, 2017\n",
       "45208    nov, 2017\n",
       "45209    nov, 2017\n",
       "45210    nov, 2017\n",
       "Name: month, Length: 45211, dtype: object"
      ]
     },
     "execution_count": 40,
     "metadata": {},
     "output_type": "execute_result"
    }
   ],
   "source": [
    "df['month']"
   ]
  },
  {
   "cell_type": "code",
   "execution_count": 41,
   "id": "623f90a5",
   "metadata": {},
   "outputs": [],
   "source": [
    "#sns.boxplot(df['month'])"
   ]
  },
  {
   "cell_type": "markdown",
   "id": "865d1695",
   "metadata": {},
   "source": [
    "##### Response variable is a dependent variable"
   ]
  },
  {
   "cell_type": "code",
   "execution_count": 42,
   "id": "196405ae",
   "metadata": {},
   "outputs": [
    {
     "data": {
      "text/plain": [
       "0         no\n",
       "1         no\n",
       "2         no\n",
       "3         no\n",
       "4         no\n",
       "        ... \n",
       "45206    yes\n",
       "45207    yes\n",
       "45208    yes\n",
       "45209     no\n",
       "45210     no\n",
       "Name: response, Length: 45211, dtype: object"
      ]
     },
     "execution_count": 42,
     "metadata": {},
     "output_type": "execute_result"
    }
   ],
   "source": [
    "df['response']"
   ]
  },
  {
   "cell_type": "code",
   "execution_count": 43,
   "id": "d1e87b29",
   "metadata": {},
   "outputs": [
    {
     "data": {
      "text/plain": [
       "no     39894\n",
       "yes     5287\n",
       "Name: response, dtype: int64"
      ]
     },
     "execution_count": 43,
     "metadata": {},
     "output_type": "execute_result"
    }
   ],
   "source": [
    "df['response'].value_counts()"
   ]
  },
  {
   "cell_type": "code",
   "execution_count": 44,
   "id": "3e6d5eb0",
   "metadata": {},
   "outputs": [
    {
     "data": {
      "text/plain": [
       "30"
      ]
     },
     "execution_count": 44,
     "metadata": {},
     "output_type": "execute_result"
    }
   ],
   "source": [
    "df['response'].isnull().sum()"
   ]
  },
  {
   "cell_type": "code",
   "execution_count": 45,
   "id": "12a3f51e",
   "metadata": {},
   "outputs": [],
   "source": [
    "df['response'].dropna(inplace = True)"
   ]
  },
  {
   "cell_type": "code",
   "execution_count": 46,
   "id": "6f5d2681",
   "metadata": {},
   "outputs": [
    {
     "data": {
      "text/plain": [
       "30"
      ]
     },
     "execution_count": 46,
     "metadata": {},
     "output_type": "execute_result"
    }
   ],
   "source": [
    "df['response'].isnull().sum()"
   ]
  },
  {
   "cell_type": "code",
   "execution_count": 47,
   "id": "8ef23290",
   "metadata": {},
   "outputs": [
    {
     "data": {
      "text/plain": [
       "count     45181\n",
       "unique        2\n",
       "top          no\n",
       "freq      39894\n",
       "Name: response, dtype: object"
      ]
     },
     "execution_count": 47,
     "metadata": {},
     "output_type": "execute_result"
    }
   ],
   "source": [
    "df['response'].describe()"
   ]
  },
  {
   "cell_type": "code",
   "execution_count": 48,
   "id": "6644a0c4",
   "metadata": {},
   "outputs": [
    {
     "data": {
      "text/plain": [
       "<AxesSubplot:xlabel='response', ylabel='count'>"
      ]
     },
     "execution_count": 48,
     "metadata": {},
     "output_type": "execute_result"
    },
    {
     "data": {
      "image/png": "[encoded data removed]",
      "text/plain": [
       "<Figure size 432x288 with 1 Axes>"
      ]
     },
     "metadata": {
      "needs_background": "light"
     },
     "output_type": "display_data"
    }
   ],
   "source": [
    "sns.countplot(df['response'])"
   ]
  },
  {
   "cell_type": "markdown",
   "id": "cc051ae7",
   "metadata": {},
   "source": [
    "##### The above plot shows majority of the clients give no response"
   ]
  },
  {
   "cell_type": "code",
   "execution_count": 49,
   "id": "a90a048e",
   "metadata": {},
   "outputs": [
    {
     "data": {
      "text/plain": [
       "unknown    36959\n",
       "failure     4901\n",
       "other       1840\n",
       "success     1511\n",
       "Name: poutcome, dtype: int64"
      ]
     },
     "execution_count": 49,
     "metadata": {},
     "output_type": "execute_result"
    }
   ],
   "source": [
    "df['poutcome'].value_counts()"
   ]
  },
  {
   "cell_type": "code",
   "execution_count": 50,
   "id": "8a9702b1",
   "metadata": {},
   "outputs": [
    {
     "data": {
      "text/plain": [
       "<AxesSubplot:xlabel='poutcome', ylabel='count'>"
      ]
     },
     "execution_count": 50,
     "metadata": {},
     "output_type": "execute_result"
    },
    {
     "data": {
      "image/png": "[encoded data removed]",
      "text/plain": [
       "<Figure size 432x288 with 1 Axes>"
      ]
     },
     "metadata": {
      "needs_background": "light"
     },
     "output_type": "display_data"
    }
   ],
   "source": [
    "sns.countplot(df['poutcome'])"
   ]
  },
  {
   "cell_type": "code",
   "execution_count": 51,
   "id": "eed25714",
   "metadata": {},
   "outputs": [
    {
     "data": {
      "text/html": [
       "<div>\n",
       "<style scoped>\n",
       "    .dataframe tbody tr th:only-of-type {\n",
       "        vertical-align: middle;\n",
       "    }\n",
       "\n",
       "    .dataframe tbody tr th {\n",
       "        vertical-align: top;\n",
       "    }\n",
       "\n",
       "    .dataframe thead th {\n",
       "        text-align: right;\n",
       "    }\n",
       "</style>\n",
       "<table border=\"1\" class=\"dataframe\">\n",
       "  <thead>\n",
       "    <tr style=\"text-align: right;\">\n",
       "      <th></th>\n",
       "      <th></th>\n",
       "      <th>response</th>\n",
       "    </tr>\n",
       "    <tr>\n",
       "      <th>job</th>\n",
       "      <th>response</th>\n",
       "      <th></th>\n",
       "    </tr>\n",
       "  </thead>\n",
       "  <tbody>\n",
       "    <tr>\n",
       "      <th rowspan=\"2\" valign=\"top\">admin.</th>\n",
       "      <th>no</th>\n",
       "      <td>4536</td>\n",
       "    </tr>\n",
       "    <tr>\n",
       "      <th>yes</th>\n",
       "      <td>630</td>\n",
       "    </tr>\n",
       "    <tr>\n",
       "      <th rowspan=\"2\" valign=\"top\">blue-collar</th>\n",
       "      <th>no</th>\n",
       "      <td>9019</td>\n",
       "    </tr>\n",
       "    <tr>\n",
       "      <th>yes</th>\n",
       "      <td>708</td>\n",
       "    </tr>\n",
       "    <tr>\n",
       "      <th rowspan=\"2\" valign=\"top\">entrepreneur</th>\n",
       "      <th>no</th>\n",
       "      <td>1363</td>\n",
       "    </tr>\n",
       "    <tr>\n",
       "      <th>yes</th>\n",
       "      <td>123</td>\n",
       "    </tr>\n",
       "    <tr>\n",
       "      <th rowspan=\"2\" valign=\"top\">housemaid</th>\n",
       "      <th>no</th>\n",
       "      <td>1130</td>\n",
       "    </tr>\n",
       "    <tr>\n",
       "      <th>yes</th>\n",
       "      <td>109</td>\n",
       "    </tr>\n",
       "    <tr>\n",
       "      <th rowspan=\"2\" valign=\"top\">management</th>\n",
       "      <th>no</th>\n",
       "      <td>8153</td>\n",
       "    </tr>\n",
       "    <tr>\n",
       "      <th>yes</th>\n",
       "      <td>1301</td>\n",
       "    </tr>\n",
       "    <tr>\n",
       "      <th rowspan=\"2\" valign=\"top\">retired</th>\n",
       "      <th>no</th>\n",
       "      <td>1747</td>\n",
       "    </tr>\n",
       "    <tr>\n",
       "      <th>yes</th>\n",
       "      <td>516</td>\n",
       "    </tr>\n",
       "    <tr>\n",
       "      <th rowspan=\"2\" valign=\"top\">self-employed</th>\n",
       "      <th>no</th>\n",
       "      <td>1389</td>\n",
       "    </tr>\n",
       "    <tr>\n",
       "      <th>yes</th>\n",
       "      <td>186</td>\n",
       "    </tr>\n",
       "    <tr>\n",
       "      <th rowspan=\"2\" valign=\"top\">services</th>\n",
       "      <th>no</th>\n",
       "      <td>3781</td>\n",
       "    </tr>\n",
       "    <tr>\n",
       "      <th>yes</th>\n",
       "      <td>369</td>\n",
       "    </tr>\n",
       "    <tr>\n",
       "      <th rowspan=\"2\" valign=\"top\">student</th>\n",
       "      <th>no</th>\n",
       "      <td>669</td>\n",
       "    </tr>\n",
       "    <tr>\n",
       "      <th>yes</th>\n",
       "      <td>269</td>\n",
       "    </tr>\n",
       "    <tr>\n",
       "      <th rowspan=\"2\" valign=\"top\">technician</th>\n",
       "      <th>no</th>\n",
       "      <td>6752</td>\n",
       "    </tr>\n",
       "    <tr>\n",
       "      <th>yes</th>\n",
       "      <td>840</td>\n",
       "    </tr>\n",
       "    <tr>\n",
       "      <th rowspan=\"2\" valign=\"top\">unemployed</th>\n",
       "      <th>no</th>\n",
       "      <td>1101</td>\n",
       "    </tr>\n",
       "    <tr>\n",
       "      <th>yes</th>\n",
       "      <td>202</td>\n",
       "    </tr>\n",
       "    <tr>\n",
       "      <th rowspan=\"2\" valign=\"top\">unknown</th>\n",
       "      <th>no</th>\n",
       "      <td>254</td>\n",
       "    </tr>\n",
       "    <tr>\n",
       "      <th>yes</th>\n",
       "      <td>34</td>\n",
       "    </tr>\n",
       "  </tbody>\n",
       "</table>\n",
       "</div>"
      ],
      "text/plain": [
       "                        response\n",
       "job           response          \n",
       "admin.        no            4536\n",
       "              yes            630\n",
       "blue-collar   no            9019\n",
       "              yes            708\n",
       "entrepreneur  no            1363\n",
       "              yes            123\n",
       "housemaid     no            1130\n",
       "              yes            109\n",
       "management    no            8153\n",
       "              yes           1301\n",
       "retired       no            1747\n",
       "              yes            516\n",
       "self-employed no            1389\n",
       "              yes            186\n",
       "services      no            3781\n",
       "              yes            369\n",
       "student       no             669\n",
       "              yes            269\n",
       "technician    no            6752\n",
       "              yes            840\n",
       "unemployed    no            1101\n",
       "              yes            202\n",
       "unknown       no             254\n",
       "              yes             34"
      ]
     },
     "execution_count": 51,
     "metadata": {},
     "output_type": "execute_result"
    }
   ],
   "source": [
    "a=pd.DataFrame(df.groupby(['job','response'])['response'].count())\n",
    "a"
   ]
  },
  {
   "cell_type": "code",
   "execution_count": 52,
   "id": "9402c12a",
   "metadata": {},
   "outputs": [
    {
     "data": {
      "text/html": [
       "<div>\n",
       "<style scoped>\n",
       "    .dataframe tbody tr th:only-of-type {\n",
       "        vertical-align: middle;\n",
       "    }\n",
       "\n",
       "    .dataframe tbody tr th {\n",
       "        vertical-align: top;\n",
       "    }\n",
       "\n",
       "    .dataframe thead th {\n",
       "        text-align: right;\n",
       "    }\n",
       "</style>\n",
       "<table border=\"1\" class=\"dataframe\">\n",
       "  <thead>\n",
       "    <tr style=\"text-align: right;\">\n",
       "      <th></th>\n",
       "      <th>customerid</th>\n",
       "      <th>age</th>\n",
       "      <th>salary</th>\n",
       "      <th>balance</th>\n",
       "      <th>day</th>\n",
       "      <th>campaign</th>\n",
       "      <th>pdays</th>\n",
       "      <th>previous</th>\n",
       "    </tr>\n",
       "  </thead>\n",
       "  <tbody>\n",
       "    <tr>\n",
       "      <th>0</th>\n",
       "      <td>1.0</td>\n",
       "      <td>58.0</td>\n",
       "      <td>100000.0</td>\n",
       "      <td>2143.0</td>\n",
       "      <td>5.0</td>\n",
       "      <td>1.0</td>\n",
       "      <td>-1.0</td>\n",
       "      <td>0.0</td>\n",
       "    </tr>\n",
       "    <tr>\n",
       "      <th>1</th>\n",
       "      <td>2.0</td>\n",
       "      <td>44.0</td>\n",
       "      <td>60000.0</td>\n",
       "      <td>29.0</td>\n",
       "      <td>5.0</td>\n",
       "      <td>1.0</td>\n",
       "      <td>-1.0</td>\n",
       "      <td>0.0</td>\n",
       "    </tr>\n",
       "    <tr>\n",
       "      <th>2</th>\n",
       "      <td>3.0</td>\n",
       "      <td>33.0</td>\n",
       "      <td>120000.0</td>\n",
       "      <td>2.0</td>\n",
       "      <td>5.0</td>\n",
       "      <td>1.0</td>\n",
       "      <td>-1.0</td>\n",
       "      <td>0.0</td>\n",
       "    </tr>\n",
       "    <tr>\n",
       "      <th>3</th>\n",
       "      <td>4.0</td>\n",
       "      <td>47.0</td>\n",
       "      <td>20000.0</td>\n",
       "      <td>1506.0</td>\n",
       "      <td>5.0</td>\n",
       "      <td>1.0</td>\n",
       "      <td>-1.0</td>\n",
       "      <td>0.0</td>\n",
       "    </tr>\n",
       "    <tr>\n",
       "      <th>4</th>\n",
       "      <td>5.0</td>\n",
       "      <td>33.0</td>\n",
       "      <td>0.0</td>\n",
       "      <td>1.0</td>\n",
       "      <td>5.0</td>\n",
       "      <td>1.0</td>\n",
       "      <td>-1.0</td>\n",
       "      <td>0.0</td>\n",
       "    </tr>\n",
       "    <tr>\n",
       "      <th>...</th>\n",
       "      <td>...</td>\n",
       "      <td>...</td>\n",
       "      <td>...</td>\n",
       "      <td>...</td>\n",
       "      <td>...</td>\n",
       "      <td>...</td>\n",
       "      <td>...</td>\n",
       "      <td>...</td>\n",
       "    </tr>\n",
       "    <tr>\n",
       "      <th>45206</th>\n",
       "      <td>45207.0</td>\n",
       "      <td>51.0</td>\n",
       "      <td>60000.0</td>\n",
       "      <td>825.0</td>\n",
       "      <td>17.0</td>\n",
       "      <td>3.0</td>\n",
       "      <td>-1.0</td>\n",
       "      <td>0.0</td>\n",
       "    </tr>\n",
       "    <tr>\n",
       "      <th>45207</th>\n",
       "      <td>45208.0</td>\n",
       "      <td>71.0</td>\n",
       "      <td>55000.0</td>\n",
       "      <td>1729.0</td>\n",
       "      <td>17.0</td>\n",
       "      <td>2.0</td>\n",
       "      <td>-1.0</td>\n",
       "      <td>0.0</td>\n",
       "    </tr>\n",
       "    <tr>\n",
       "      <th>45208</th>\n",
       "      <td>45209.0</td>\n",
       "      <td>72.0</td>\n",
       "      <td>55000.0</td>\n",
       "      <td>5715.0</td>\n",
       "      <td>17.0</td>\n",
       "      <td>5.0</td>\n",
       "      <td>184.0</td>\n",
       "      <td>3.0</td>\n",
       "    </tr>\n",
       "    <tr>\n",
       "      <th>45209</th>\n",
       "      <td>45210.0</td>\n",
       "      <td>57.0</td>\n",
       "      <td>20000.0</td>\n",
       "      <td>668.0</td>\n",
       "      <td>17.0</td>\n",
       "      <td>4.0</td>\n",
       "      <td>-1.0</td>\n",
       "      <td>0.0</td>\n",
       "    </tr>\n",
       "    <tr>\n",
       "      <th>45210</th>\n",
       "      <td>45211.0</td>\n",
       "      <td>37.0</td>\n",
       "      <td>120000.0</td>\n",
       "      <td>2971.0</td>\n",
       "      <td>17.0</td>\n",
       "      <td>2.0</td>\n",
       "      <td>188.0</td>\n",
       "      <td>11.0</td>\n",
       "    </tr>\n",
       "  </tbody>\n",
       "</table>\n",
       "<p>45211 rows × 8 columns</p>\n",
       "</div>"
      ],
      "text/plain": [
       "       customerid   age    salary  balance   day  campaign  pdays  previous\n",
       "0             1.0  58.0  100000.0   2143.0   5.0       1.0   -1.0       0.0\n",
       "1             2.0  44.0   60000.0     29.0   5.0       1.0   -1.0       0.0\n",
       "2             3.0  33.0  120000.0      2.0   5.0       1.0   -1.0       0.0\n",
       "3             4.0  47.0   20000.0   1506.0   5.0       1.0   -1.0       0.0\n",
       "4             5.0  33.0       0.0      1.0   5.0       1.0   -1.0       0.0\n",
       "...           ...   ...       ...      ...   ...       ...    ...       ...\n",
       "45206     45207.0  51.0   60000.0    825.0  17.0       3.0   -1.0       0.0\n",
       "45207     45208.0  71.0   55000.0   1729.0  17.0       2.0   -1.0       0.0\n",
       "45208     45209.0  72.0   55000.0   5715.0  17.0       5.0  184.0       3.0\n",
       "45209     45210.0  57.0   20000.0    668.0  17.0       4.0   -1.0       0.0\n",
       "45210     45211.0  37.0  120000.0   2971.0  17.0       2.0  188.0      11.0\n",
       "\n",
       "[45211 rows x 8 columns]"
      ]
     },
     "execution_count": 52,
     "metadata": {},
     "output_type": "execute_result"
    }
   ],
   "source": [
    "df.select_dtypes('number')"
   ]
  },
  {
   "cell_type": "code",
   "execution_count": 53,
   "id": "b3a258f5",
   "metadata": {},
   "outputs": [
    {
     "data": {
      "text/plain": [
       "<AxesSubplot:xlabel='age', ylabel='Density'>"
      ]
     },
     "execution_count": 53,
     "metadata": {},
     "output_type": "execute_result"
    },
    {
     "data": {
      "image/png": "[encoded data removed]",
      "text/plain": [
       "<Figure size 432x288 with 1 Axes>"
      ]
     },
     "metadata": {
      "needs_background": "light"
     },
     "output_type": "display_data"
    }
   ],
   "source": [
    "sns.distplot(df.age)"
   ]
  },
  {
   "cell_type": "markdown",
   "id": "c59ada0f",
   "metadata": {},
   "source": [
    "**- Checking the duration column**"
   ]
  },
  {
   "cell_type": "code",
   "execution_count": 54,
   "id": "a87a8fa1",
   "metadata": {},
   "outputs": [
    {
     "data": {
      "text/plain": [
       "0                     261 sec\n",
       "1                     151 sec\n",
       "2                      76 sec\n",
       "3                      92 sec\n",
       "4                     198 sec\n",
       "                 ...         \n",
       "45206    16.2833333333333 min\n",
       "45207                 7.6 min\n",
       "45208    18.7833333333333 min\n",
       "45209    8.46666666666667 min\n",
       "45210    6.01666666666667 min\n",
       "Name: duration, Length: 45211, dtype: object"
      ]
     },
     "execution_count": 54,
     "metadata": {},
     "output_type": "execute_result"
    }
   ],
   "source": [
    "df['duration']"
   ]
  },
  {
   "cell_type": "markdown",
   "id": "ab481fb9",
   "metadata": {},
   "source": [
    "*- The above data shows that the time is not in a consistent format. changing each value into minutes*"
   ]
  },
  {
   "cell_type": "code",
   "execution_count": 55,
   "id": "447613f7",
   "metadata": {},
   "outputs": [
    {
     "data": {
      "text/plain": [
       "'261'"
      ]
     },
     "execution_count": 55,
     "metadata": {},
     "output_type": "execute_result"
    }
   ],
   "source": [
    "df['duration'][0].split()[0]"
   ]
  },
  {
   "cell_type": "code",
   "execution_count": 56,
   "id": "8977ed3d",
   "metadata": {},
   "outputs": [
    {
     "data": {
      "text/plain": [
       "261.0"
      ]
     },
     "execution_count": 56,
     "metadata": {},
     "output_type": "execute_result"
    }
   ],
   "source": [
    "float(df['duration'][0].split()[0])"
   ]
  },
  {
   "cell_type": "code",
   "execution_count": 57,
   "id": "5f8a2b38",
   "metadata": {},
   "outputs": [],
   "source": [
    "dur=[]\n",
    "for val in df['duration']:\n",
    "    if 'sec' in val:\n",
    "        dur.append(float(df['duration'][0].split()[0])/60)\n",
    "    else:\n",
    "        dur.append(float(df['duration'][0].split()[0]))\n",
    "df['duration']=dur"
   ]
  },
  {
   "cell_type": "code",
   "execution_count": 58,
   "id": "7a2a7fb3",
   "metadata": {},
   "outputs": [
    {
     "data": {
      "text/plain": [
       "0          4.35\n",
       "1          4.35\n",
       "2          4.35\n",
       "3          4.35\n",
       "4          4.35\n",
       "          ...  \n",
       "45206    261.00\n",
       "45207    261.00\n",
       "45208    261.00\n",
       "45209    261.00\n",
       "45210    261.00\n",
       "Name: duration, Length: 45211, dtype: float64"
      ]
     },
     "execution_count": 58,
     "metadata": {},
     "output_type": "execute_result"
    }
   ],
   "source": [
    "df['duration']=np.round(df['duration'],2)\n",
    "df['duration']"
   ]
  },
  {
   "cell_type": "code",
   "execution_count": 59,
   "id": "4e8c1029",
   "metadata": {},
   "outputs": [
    {
     "data": {
      "text/plain": [
       "count    45211.00\n",
       "mean       180.87\n",
       "std        118.93\n",
       "min          4.35\n",
       "25%          4.35\n",
       "50%        261.00\n",
       "75%        261.00\n",
       "max        261.00\n",
       "Name: duration, dtype: float64"
      ]
     },
     "execution_count": 59,
     "metadata": {},
     "output_type": "execute_result"
    }
   ],
   "source": [
    "np.round(df['duration'].describe(),2)"
   ]
  },
  {
   "cell_type": "markdown",
   "id": "cc2487ec",
   "metadata": {},
   "source": [
    "<H1 style= 'color: blue'>Exploratory Data Analysis: </H1>\n",
    "\n",
    "- **Univariate Analysis (Analysis for single column)**\n",
    "- **Bi-variate Analysis (Analysis about two columns)**\n",
    "- **Multi-variate Analysis (Analysis about more the than two columns)**"
   ]
  },
  {
   "cell_type": "code",
   "execution_count": 60,
   "id": "e51f99b1",
   "metadata": {},
   "outputs": [
    {
     "data": {
      "text/html": [
       "<div>\n",
       "<style scoped>\n",
       "    .dataframe tbody tr th:only-of-type {\n",
       "        vertical-align: middle;\n",
       "    }\n",
       "\n",
       "    .dataframe tbody tr th {\n",
       "        vertical-align: top;\n",
       "    }\n",
       "\n",
       "    .dataframe thead th {\n",
       "        text-align: right;\n",
       "    }\n",
       "</style>\n",
       "<table border=\"1\" class=\"dataframe\">\n",
       "  <thead>\n",
       "    <tr style=\"text-align: right;\">\n",
       "      <th></th>\n",
       "      <th>customerid</th>\n",
       "      <th>age</th>\n",
       "      <th>salary</th>\n",
       "      <th>balance</th>\n",
       "      <th>marital</th>\n",
       "      <th>jobedu</th>\n",
       "      <th>targeted</th>\n",
       "      <th>default</th>\n",
       "      <th>housing</th>\n",
       "      <th>loan</th>\n",
       "      <th>...</th>\n",
       "      <th>day</th>\n",
       "      <th>month</th>\n",
       "      <th>duration</th>\n",
       "      <th>campaign</th>\n",
       "      <th>pdays</th>\n",
       "      <th>previous</th>\n",
       "      <th>poutcome</th>\n",
       "      <th>response</th>\n",
       "      <th>job</th>\n",
       "      <th>edu</th>\n",
       "    </tr>\n",
       "  </thead>\n",
       "  <tbody>\n",
       "    <tr>\n",
       "      <th>0</th>\n",
       "      <td>1.0</td>\n",
       "      <td>58.0</td>\n",
       "      <td>100000.0</td>\n",
       "      <td>2143.0</td>\n",
       "      <td>married</td>\n",
       "      <td>management,tertiary</td>\n",
       "      <td>yes</td>\n",
       "      <td>no</td>\n",
       "      <td>yes</td>\n",
       "      <td>no</td>\n",
       "      <td>...</td>\n",
       "      <td>5.0</td>\n",
       "      <td>may, 2017</td>\n",
       "      <td>4.35</td>\n",
       "      <td>1.0</td>\n",
       "      <td>-1.0</td>\n",
       "      <td>0.0</td>\n",
       "      <td>unknown</td>\n",
       "      <td>no</td>\n",
       "      <td>management</td>\n",
       "      <td>tertiary</td>\n",
       "    </tr>\n",
       "    <tr>\n",
       "      <th>1</th>\n",
       "      <td>2.0</td>\n",
       "      <td>44.0</td>\n",
       "      <td>60000.0</td>\n",
       "      <td>29.0</td>\n",
       "      <td>single</td>\n",
       "      <td>technician,secondary</td>\n",
       "      <td>yes</td>\n",
       "      <td>no</td>\n",
       "      <td>yes</td>\n",
       "      <td>no</td>\n",
       "      <td>...</td>\n",
       "      <td>5.0</td>\n",
       "      <td>may, 2017</td>\n",
       "      <td>4.35</td>\n",
       "      <td>1.0</td>\n",
       "      <td>-1.0</td>\n",
       "      <td>0.0</td>\n",
       "      <td>unknown</td>\n",
       "      <td>no</td>\n",
       "      <td>technician</td>\n",
       "      <td>secondary</td>\n",
       "    </tr>\n",
       "    <tr>\n",
       "      <th>2</th>\n",
       "      <td>3.0</td>\n",
       "      <td>33.0</td>\n",
       "      <td>120000.0</td>\n",
       "      <td>2.0</td>\n",
       "      <td>married</td>\n",
       "      <td>entrepreneur,secondary</td>\n",
       "      <td>yes</td>\n",
       "      <td>no</td>\n",
       "      <td>yes</td>\n",
       "      <td>yes</td>\n",
       "      <td>...</td>\n",
       "      <td>5.0</td>\n",
       "      <td>may, 2017</td>\n",
       "      <td>4.35</td>\n",
       "      <td>1.0</td>\n",
       "      <td>-1.0</td>\n",
       "      <td>0.0</td>\n",
       "      <td>unknown</td>\n",
       "      <td>no</td>\n",
       "      <td>entrepreneur</td>\n",
       "      <td>secondary</td>\n",
       "    </tr>\n",
       "    <tr>\n",
       "      <th>3</th>\n",
       "      <td>4.0</td>\n",
       "      <td>47.0</td>\n",
       "      <td>20000.0</td>\n",
       "      <td>1506.0</td>\n",
       "      <td>married</td>\n",
       "      <td>blue-collar,unknown</td>\n",
       "      <td>no</td>\n",
       "      <td>no</td>\n",
       "      <td>yes</td>\n",
       "      <td>no</td>\n",
       "      <td>...</td>\n",
       "      <td>5.0</td>\n",
       "      <td>may, 2017</td>\n",
       "      <td>4.35</td>\n",
       "      <td>1.0</td>\n",
       "      <td>-1.0</td>\n",
       "      <td>0.0</td>\n",
       "      <td>unknown</td>\n",
       "      <td>no</td>\n",
       "      <td>blue-collar</td>\n",
       "      <td>unknown</td>\n",
       "    </tr>\n",
       "    <tr>\n",
       "      <th>4</th>\n",
       "      <td>5.0</td>\n",
       "      <td>33.0</td>\n",
       "      <td>0.0</td>\n",
       "      <td>1.0</td>\n",
       "      <td>single</td>\n",
       "      <td>unknown,unknown</td>\n",
       "      <td>no</td>\n",
       "      <td>no</td>\n",
       "      <td>no</td>\n",
       "      <td>no</td>\n",
       "      <td>...</td>\n",
       "      <td>5.0</td>\n",
       "      <td>may, 2017</td>\n",
       "      <td>4.35</td>\n",
       "      <td>1.0</td>\n",
       "      <td>-1.0</td>\n",
       "      <td>0.0</td>\n",
       "      <td>unknown</td>\n",
       "      <td>no</td>\n",
       "      <td>unknown</td>\n",
       "      <td>unknown</td>\n",
       "    </tr>\n",
       "  </tbody>\n",
       "</table>\n",
       "<p>5 rows × 21 columns</p>\n",
       "</div>"
      ],
      "text/plain": [
       "   customerid   age    salary  balance  marital                  jobedu  \\\n",
       "0         1.0  58.0  100000.0   2143.0  married     management,tertiary   \n",
       "1         2.0  44.0   60000.0     29.0   single    technician,secondary   \n",
       "2         3.0  33.0  120000.0      2.0  married  entrepreneur,secondary   \n",
       "3         4.0  47.0   20000.0   1506.0  married     blue-collar,unknown   \n",
       "4         5.0  33.0       0.0      1.0   single         unknown,unknown   \n",
       "\n",
       "  targeted default housing loan  ...  day      month duration  campaign  \\\n",
       "0      yes      no     yes   no  ...  5.0  may, 2017     4.35       1.0   \n",
       "1      yes      no     yes   no  ...  5.0  may, 2017     4.35       1.0   \n",
       "2      yes      no     yes  yes  ...  5.0  may, 2017     4.35       1.0   \n",
       "3       no      no     yes   no  ...  5.0  may, 2017     4.35       1.0   \n",
       "4       no      no      no   no  ...  5.0  may, 2017     4.35       1.0   \n",
       "\n",
       "   pdays  previous  poutcome response           job        edu  \n",
       "0   -1.0       0.0   unknown       no    management   tertiary  \n",
       "1   -1.0       0.0   unknown       no    technician  secondary  \n",
       "2   -1.0       0.0   unknown       no  entrepreneur  secondary  \n",
       "3   -1.0       0.0   unknown       no   blue-collar    unknown  \n",
       "4   -1.0       0.0   unknown       no       unknown    unknown  \n",
       "\n",
       "[5 rows x 21 columns]"
      ]
     },
     "execution_count": 60,
     "metadata": {},
     "output_type": "execute_result"
    }
   ],
   "source": [
    "df.head()"
   ]
  },
  {
   "cell_type": "markdown",
   "id": "7c1b94c8",
   "metadata": {},
   "source": [
    "#### - **Univariate Analysis (Analysis for single column)**\n",
    "- Analysing single columns separately.\n",
    "- Trying to see their distribution and getting insights from them.\n",
    "- Identifying and treating outliers\n",
    "- Selecting the below important columns:\n",
    "    - 1. salary\n",
    "    - 2. marital\n",
    "    - 3. job\n",
    "    - 4. duration\n",
    "    - 5. response"
   ]
  },
  {
   "cell_type": "code",
   "execution_count": 61,
   "id": "fd7b911b",
   "metadata": {},
   "outputs": [
    {
     "data": {
      "text/html": [
       "<div>\n",
       "<style scoped>\n",
       "    .dataframe tbody tr th:only-of-type {\n",
       "        vertical-align: middle;\n",
       "    }\n",
       "\n",
       "    .dataframe tbody tr th {\n",
       "        vertical-align: top;\n",
       "    }\n",
       "\n",
       "    .dataframe thead th {\n",
       "        text-align: right;\n",
       "    }\n",
       "</style>\n",
       "<table border=\"1\" class=\"dataframe\">\n",
       "  <thead>\n",
       "    <tr style=\"text-align: right;\">\n",
       "      <th></th>\n",
       "      <th>customerid</th>\n",
       "      <th>age</th>\n",
       "      <th>salary</th>\n",
       "      <th>balance</th>\n",
       "      <th>day</th>\n",
       "      <th>duration</th>\n",
       "      <th>campaign</th>\n",
       "      <th>pdays</th>\n",
       "      <th>previous</th>\n",
       "    </tr>\n",
       "  </thead>\n",
       "  <tbody>\n",
       "    <tr>\n",
       "      <th>count</th>\n",
       "      <td>45211.000000</td>\n",
       "      <td>45211.000000</td>\n",
       "      <td>45149.000000</td>\n",
       "      <td>45211.000000</td>\n",
       "      <td>45211.000000</td>\n",
       "      <td>45211.000000</td>\n",
       "      <td>45211.000000</td>\n",
       "      <td>45211.000000</td>\n",
       "      <td>45211.000000</td>\n",
       "    </tr>\n",
       "    <tr>\n",
       "      <th>mean</th>\n",
       "      <td>22606.000000</td>\n",
       "      <td>40.934795</td>\n",
       "      <td>57084.453698</td>\n",
       "      <td>1362.272058</td>\n",
       "      <td>15.806419</td>\n",
       "      <td>180.873156</td>\n",
       "      <td>2.763841</td>\n",
       "      <td>40.197828</td>\n",
       "      <td>0.580323</td>\n",
       "    </tr>\n",
       "    <tr>\n",
       "      <th>std</th>\n",
       "      <td>13051.435847</td>\n",
       "      <td>10.616926</td>\n",
       "      <td>32038.075304</td>\n",
       "      <td>3044.765829</td>\n",
       "      <td>8.322476</td>\n",
       "      <td>118.930889</td>\n",
       "      <td>3.098021</td>\n",
       "      <td>100.128746</td>\n",
       "      <td>2.303441</td>\n",
       "    </tr>\n",
       "    <tr>\n",
       "      <th>min</th>\n",
       "      <td>1.000000</td>\n",
       "      <td>18.000000</td>\n",
       "      <td>0.000000</td>\n",
       "      <td>-8019.000000</td>\n",
       "      <td>1.000000</td>\n",
       "      <td>4.350000</td>\n",
       "      <td>1.000000</td>\n",
       "      <td>-1.000000</td>\n",
       "      <td>0.000000</td>\n",
       "    </tr>\n",
       "    <tr>\n",
       "      <th>25%</th>\n",
       "      <td>11303.500000</td>\n",
       "      <td>33.000000</td>\n",
       "      <td>20000.000000</td>\n",
       "      <td>72.000000</td>\n",
       "      <td>8.000000</td>\n",
       "      <td>4.350000</td>\n",
       "      <td>1.000000</td>\n",
       "      <td>-1.000000</td>\n",
       "      <td>0.000000</td>\n",
       "    </tr>\n",
       "    <tr>\n",
       "      <th>50%</th>\n",
       "      <td>22606.000000</td>\n",
       "      <td>39.000000</td>\n",
       "      <td>60000.000000</td>\n",
       "      <td>448.000000</td>\n",
       "      <td>16.000000</td>\n",
       "      <td>261.000000</td>\n",
       "      <td>2.000000</td>\n",
       "      <td>-1.000000</td>\n",
       "      <td>0.000000</td>\n",
       "    </tr>\n",
       "    <tr>\n",
       "      <th>75%</th>\n",
       "      <td>33908.500000</td>\n",
       "      <td>48.000000</td>\n",
       "      <td>70000.000000</td>\n",
       "      <td>1428.000000</td>\n",
       "      <td>21.000000</td>\n",
       "      <td>261.000000</td>\n",
       "      <td>3.000000</td>\n",
       "      <td>-1.000000</td>\n",
       "      <td>0.000000</td>\n",
       "    </tr>\n",
       "    <tr>\n",
       "      <th>max</th>\n",
       "      <td>45211.000000</td>\n",
       "      <td>95.000000</td>\n",
       "      <td>120000.000000</td>\n",
       "      <td>102127.000000</td>\n",
       "      <td>31.000000</td>\n",
       "      <td>261.000000</td>\n",
       "      <td>63.000000</td>\n",
       "      <td>871.000000</td>\n",
       "      <td>275.000000</td>\n",
       "    </tr>\n",
       "  </tbody>\n",
       "</table>\n",
       "</div>"
      ],
      "text/plain": [
       "         customerid           age         salary        balance           day  \\\n",
       "count  45211.000000  45211.000000   45149.000000   45211.000000  45211.000000   \n",
       "mean   22606.000000     40.934795   57084.453698    1362.272058     15.806419   \n",
       "std    13051.435847     10.616926   32038.075304    3044.765829      8.322476   \n",
       "min        1.000000     18.000000       0.000000   -8019.000000      1.000000   \n",
       "25%    11303.500000     33.000000   20000.000000      72.000000      8.000000   \n",
       "50%    22606.000000     39.000000   60000.000000     448.000000     16.000000   \n",
       "75%    33908.500000     48.000000   70000.000000    1428.000000     21.000000   \n",
       "max    45211.000000     95.000000  120000.000000  102127.000000     31.000000   \n",
       "\n",
       "           duration      campaign         pdays      previous  \n",
       "count  45211.000000  45211.000000  45211.000000  45211.000000  \n",
       "mean     180.873156      2.763841     40.197828      0.580323  \n",
       "std      118.930889      3.098021    100.128746      2.303441  \n",
       "min        4.350000      1.000000     -1.000000      0.000000  \n",
       "25%        4.350000      1.000000     -1.000000      0.000000  \n",
       "50%      261.000000      2.000000     -1.000000      0.000000  \n",
       "75%      261.000000      3.000000     -1.000000      0.000000  \n",
       "max      261.000000     63.000000    871.000000    275.000000  "
      ]
     },
     "execution_count": 61,
     "metadata": {},
     "output_type": "execute_result"
    }
   ],
   "source": [
    "df.describe()"
   ]
  },
  {
   "cell_type": "code",
   "execution_count": 62,
   "id": "9ff4baea",
   "metadata": {},
   "outputs": [
    {
     "data": {
      "text/plain": [
       "count     45149.000000\n",
       "mean      57084.453698\n",
       "std       32038.075304\n",
       "min           0.000000\n",
       "25%       20000.000000\n",
       "50%       60000.000000\n",
       "75%       70000.000000\n",
       "max      120000.000000\n",
       "Name: salary, dtype: float64"
      ]
     },
     "execution_count": 62,
     "metadata": {},
     "output_type": "execute_result"
    }
   ],
   "source": [
    "df['salary'].describe()"
   ]
  },
  {
   "cell_type": "code",
   "execution_count": 63,
   "id": "f56e3590",
   "metadata": {},
   "outputs": [
    {
     "data": {
      "text/plain": [
       "<AxesSubplot:xlabel='salary', ylabel='Density'>"
      ]
     },
     "execution_count": 63,
     "metadata": {},
     "output_type": "execute_result"
    },
    {
     "data": {
      "image/png": "[encoded data removed]",
      "text/plain": [
       "<Figure size 432x288 with 1 Axes>"
      ]
     },
     "metadata": {
      "needs_background": "light"
     },
     "output_type": "display_data"
    }
   ],
   "source": [
    "sns.distplot(df['salary'])"
   ]
  },
  {
   "cell_type": "code",
   "execution_count": 64,
   "id": "55a07fdb",
   "metadata": {},
   "outputs": [
    {
     "data": {
      "text/plain": [
       "<AxesSubplot:xlabel='salary'>"
      ]
     },
     "execution_count": 64,
     "metadata": {},
     "output_type": "execute_result"
    },
    {
     "data": {
      "image/png": "[encoded data removed]",
      "text/plain": [
       "<Figure size 432x288 with 1 Axes>"
      ]
     },
     "metadata": {
      "needs_background": "light"
     },
     "output_type": "display_data"
    }
   ],
   "source": [
    "sns.boxplot(df['salary'])"
   ]
  },
  {
   "cell_type": "markdown",
   "id": "8605a1ec",
   "metadata": {},
   "source": [
    "- The above box plot shows that the majority of the customers have their salary in the range of 20k to 70k\n",
    "- Most common salaries are 20k, 60k and 100k as can be concluded from the above distribution plot"
   ]
  },
  {
   "cell_type": "code",
   "execution_count": 65,
   "id": "f24d1f23",
   "metadata": {},
   "outputs": [
    {
     "data": {
      "text/plain": [
       "count       45211\n",
       "unique          3\n",
       "top       married\n",
       "freq        27214\n",
       "Name: marital, dtype: object"
      ]
     },
     "execution_count": 65,
     "metadata": {},
     "output_type": "execute_result"
    }
   ],
   "source": [
    "df['marital'].describe()"
   ]
  },
  {
   "cell_type": "code",
   "execution_count": 66,
   "id": "c3a8b645",
   "metadata": {},
   "outputs": [
    {
     "data": {
      "text/plain": [
       "<AxesSubplot:xlabel='marital', ylabel='count'>"
      ]
     },
     "execution_count": 66,
     "metadata": {},
     "output_type": "execute_result"
    },
    {
     "data": {
      "image/png": "[encoded data removed]",
      "text/plain": [
       "<Figure size 432x288 with 1 Axes>"
      ]
     },
     "metadata": {
      "needs_background": "light"
     },
     "output_type": "display_data"
    }
   ],
   "source": [
    "sns.countplot(df['marital'])"
   ]
  },
  {
   "cell_type": "code",
   "execution_count": 67,
   "id": "5d9fa58b",
   "metadata": {},
   "outputs": [
    {
     "data": {
      "text/html": [
       "<div>\n",
       "<style scoped>\n",
       "    .dataframe tbody tr th:only-of-type {\n",
       "        vertical-align: middle;\n",
       "    }\n",
       "\n",
       "    .dataframe tbody tr th {\n",
       "        vertical-align: top;\n",
       "    }\n",
       "\n",
       "    .dataframe thead th {\n",
       "        text-align: right;\n",
       "    }\n",
       "</style>\n",
       "<table border=\"1\" class=\"dataframe\">\n",
       "  <thead>\n",
       "    <tr style=\"text-align: right;\">\n",
       "      <th></th>\n",
       "      <th>customerid</th>\n",
       "    </tr>\n",
       "    <tr>\n",
       "      <th>marital</th>\n",
       "      <th></th>\n",
       "    </tr>\n",
       "  </thead>\n",
       "  <tbody>\n",
       "    <tr>\n",
       "      <th>divorced</th>\n",
       "      <td>5207</td>\n",
       "    </tr>\n",
       "    <tr>\n",
       "      <th>married</th>\n",
       "      <td>27214</td>\n",
       "    </tr>\n",
       "    <tr>\n",
       "      <th>single</th>\n",
       "      <td>12790</td>\n",
       "    </tr>\n",
       "  </tbody>\n",
       "</table>\n",
       "</div>"
      ],
      "text/plain": [
       "          customerid\n",
       "marital             \n",
       "divorced        5207\n",
       "married        27214\n",
       "single         12790"
      ]
     },
     "execution_count": 67,
     "metadata": {},
     "output_type": "execute_result"
    }
   ],
   "source": [
    "a=pd.DataFrame(df.groupby('marital')['customerid'].count())\n",
    "a"
   ]
  },
  {
   "cell_type": "code",
   "execution_count": 68,
   "id": "ecd480bb",
   "metadata": {},
   "outputs": [
    {
     "data": {
      "image/png": "[encoded data removed]",
      "text/plain": [
       "<Figure size 432x288 with 1 Axes>"
      ]
     },
     "metadata": {},
     "output_type": "display_data"
    }
   ],
   "source": [
    "plt.pie(a['customerid'], labels=['Divorced','Married','Single'])\n",
    "plt.show()"
   ]
  },
  {
   "cell_type": "markdown",
   "id": "3e33b130",
   "metadata": {},
   "source": [
    "- The above plots show that majority of the customers called are married"
   ]
  },
  {
   "cell_type": "code",
   "execution_count": 69,
   "id": "fbeb07ac",
   "metadata": {},
   "outputs": [
    {
     "data": {
      "text/plain": [
       "count           45211\n",
       "unique             12\n",
       "top       blue-collar\n",
       "freq             9732\n",
       "Name: job, dtype: object"
      ]
     },
     "execution_count": 69,
     "metadata": {},
     "output_type": "execute_result"
    }
   ],
   "source": [
    "df['job'].describe()"
   ]
  },
  {
   "cell_type": "code",
   "execution_count": 70,
   "id": "9491205c",
   "metadata": {},
   "outputs": [
    {
     "data": {
      "image/png": "[encoded data removed]",
      "text/plain": [
       "<Figure size 432x288 with 1 Axes>"
      ]
     },
     "metadata": {
      "needs_background": "light"
     },
     "output_type": "display_data"
    }
   ],
   "source": [
    "sns.countplot(df['job'])\n",
    "plt.xticks(rotation=90)\n",
    "plt.show()"
   ]
  },
  {
   "cell_type": "code",
   "execution_count": 71,
   "id": "dbd4a72e",
   "metadata": {},
   "outputs": [
    {
     "data": {
      "text/plain": [
       "12"
      ]
     },
     "execution_count": 71,
     "metadata": {},
     "output_type": "execute_result"
    }
   ],
   "source": [
    "df['job'].nunique()"
   ]
  },
  {
   "cell_type": "code",
   "execution_count": 72,
   "id": "a18c326a",
   "metadata": {},
   "outputs": [
    {
     "data": {
      "text/plain": [
       "job\n",
       "blue-collar      9732\n",
       "management       9458\n",
       "technician       7597\n",
       "admin.           5171\n",
       "services         4154\n",
       "retired          2264\n",
       "self-employed    1579\n",
       "entrepreneur     1487\n",
       "unemployed       1303\n",
       "housemaid        1240\n",
       "student           938\n",
       "unknown           288\n",
       "Name: customerid, dtype: int64"
      ]
     },
     "execution_count": 72,
     "metadata": {},
     "output_type": "execute_result"
    }
   ],
   "source": [
    "df.groupby('job')['customerid'].count().sort_values(ascending=False)"
   ]
  },
  {
   "cell_type": "markdown",
   "id": "32b96b23",
   "metadata": {},
   "source": [
    "- The above plot and data shows that the customers are mostly Blue-collar job holders followed by management job roles."
   ]
  },
  {
   "cell_type": "code",
   "execution_count": 73,
   "id": "da59d99f",
   "metadata": {},
   "outputs": [
    {
     "data": {
      "text/plain": [
       "count    45211.000000\n",
       "mean       180.873156\n",
       "std        118.930889\n",
       "min          4.350000\n",
       "25%          4.350000\n",
       "50%        261.000000\n",
       "75%        261.000000\n",
       "max        261.000000\n",
       "Name: duration, dtype: float64"
      ]
     },
     "execution_count": 73,
     "metadata": {},
     "output_type": "execute_result"
    }
   ],
   "source": [
    "df['duration'].describe()"
   ]
  },
  {
   "cell_type": "code",
   "execution_count": 74,
   "id": "9d964200",
   "metadata": {},
   "outputs": [
    {
     "data": {
      "text/plain": [
       "<AxesSubplot:xlabel='duration', ylabel='Density'>"
      ]
     },
     "execution_count": 74,
     "metadata": {},
     "output_type": "execute_result"
    },
    {
     "data": {
      "image/png": "[encoded data removed]",
      "text/plain": [
       "<Figure size 432x288 with 1 Axes>"
      ]
     },
     "metadata": {
      "needs_background": "light"
     },
     "output_type": "display_data"
    }
   ],
   "source": [
    "sns.distplot(df['duration'])"
   ]
  },
  {
   "cell_type": "code",
   "execution_count": 75,
   "id": "3585b21e",
   "metadata": {},
   "outputs": [
    {
     "data": {
      "text/plain": [
       "<AxesSubplot:xlabel='duration', ylabel='Count'>"
      ]
     },
     "execution_count": 75,
     "metadata": {},
     "output_type": "execute_result"
    },
    {
     "data": {
      "image/png": "[encoded data removed]",
      "text/plain": [
       "<Figure size 432x288 with 1 Axes>"
      ]
     },
     "metadata": {
      "needs_background": "light"
     },
     "output_type": "display_data"
    }
   ],
   "source": [
    "sns.histplot(df['duration'])"
   ]
  },
  {
   "cell_type": "markdown",
   "id": "7b62c64b",
   "metadata": {},
   "source": [
    "- The above plots show that the calls are either short duration calls like around 0-50 mins or long duration calls around 250mins"
   ]
  },
  {
   "cell_type": "code",
   "execution_count": 76,
   "id": "0d235164",
   "metadata": {},
   "outputs": [
    {
     "data": {
      "text/plain": [
       "count     45181\n",
       "unique        2\n",
       "top          no\n",
       "freq      39894\n",
       "Name: response, dtype: object"
      ]
     },
     "execution_count": 76,
     "metadata": {},
     "output_type": "execute_result"
    }
   ],
   "source": [
    "df['response'].describe()"
   ]
  },
  {
   "cell_type": "code",
   "execution_count": 77,
   "id": "cf65d16d",
   "metadata": {},
   "outputs": [
    {
     "data": {
      "text/plain": [
       "no     39894\n",
       "yes     5287\n",
       "Name: response, dtype: int64"
      ]
     },
     "execution_count": 77,
     "metadata": {},
     "output_type": "execute_result"
    }
   ],
   "source": [
    "df.response.value_counts()"
   ]
  },
  {
   "cell_type": "code",
   "execution_count": 78,
   "id": "3c55fc28",
   "metadata": {},
   "outputs": [
    {
     "data": {
      "text/plain": [
       "<AxesSubplot:xlabel='response', ylabel='count'>"
      ]
     },
     "execution_count": 78,
     "metadata": {},
     "output_type": "execute_result"
    },
    {
     "data": {
      "image/png": "[encoded data removed]",
      "text/plain": [
       "<Figure size 432x288 with 1 Axes>"
      ]
     },
     "metadata": {
      "needs_background": "light"
     },
     "output_type": "display_data"
    }
   ],
   "source": [
    "sns.countplot(df['response'])"
   ]
  },
  {
   "cell_type": "markdown",
   "id": "61a8374a",
   "metadata": {},
   "source": [
    "- The above plot shows that majority of the customer's response was No"
   ]
  },
  {
   "cell_type": "markdown",
   "id": "3e5e23a6",
   "metadata": {},
   "source": [
    "- ***Demonstrating Binning***"
   ]
  },
  {
   "cell_type": "code",
   "execution_count": 79,
   "id": "02dd8bdd",
   "metadata": {},
   "outputs": [
    {
     "data": {
      "text/plain": [
       "(250, 300]    31096\n",
       "(0, 5]        14115\n",
       "(5, 10]           0\n",
       "(10, 20]          0\n",
       "(20, 30]          0\n",
       "(30, 50]          0\n",
       "(50, 70]          0\n",
       "(70, 80]          0\n",
       "(80, 90]          0\n",
       "(90, 200]         0\n",
       "(200, 250]        0\n",
       "Name: duration, dtype: int64"
      ]
     },
     "execution_count": 79,
     "metadata": {},
     "output_type": "execute_result"
    }
   ],
   "source": [
    "pd.cut(df['duration'],[0,5,10,20,30,50,70,80,90,200,250,300]).value_counts()"
   ]
  },
  {
   "cell_type": "code",
   "execution_count": 80,
   "id": "c9c79d04",
   "metadata": {},
   "outputs": [
    {
     "data": {
      "text/plain": [
       "<AxesSubplot:xlabel='salary', ylabel='count'>"
      ]
     },
     "execution_count": 80,
     "metadata": {},
     "output_type": "execute_result"
    },
    {
     "data": {
      "image/png": "[encoded data removed]",
      "text/plain": [
       "<Figure size 432x288 with 1 Axes>"
      ]
     },
     "metadata": {
      "needs_background": "light"
     },
     "output_type": "display_data"
    }
   ],
   "source": [
    "sns.countplot(pd.cut(df['salary'],3, labels=['low','medium','high']).value_counts())"
   ]
  },
  {
   "cell_type": "code",
   "execution_count": 81,
   "id": "411cb8d9",
   "metadata": {},
   "outputs": [
    {
     "data": {
      "text/html": [
       "<div>\n",
       "<style scoped>\n",
       "    .dataframe tbody tr th:only-of-type {\n",
       "        vertical-align: middle;\n",
       "    }\n",
       "\n",
       "    .dataframe tbody tr th {\n",
       "        vertical-align: top;\n",
       "    }\n",
       "\n",
       "    .dataframe thead th {\n",
       "        text-align: right;\n",
       "    }\n",
       "</style>\n",
       "<table border=\"1\" class=\"dataframe\">\n",
       "  <thead>\n",
       "    <tr style=\"text-align: right;\">\n",
       "      <th></th>\n",
       "      <th>index</th>\n",
       "      <th>salary</th>\n",
       "    </tr>\n",
       "  </thead>\n",
       "  <tbody>\n",
       "    <tr>\n",
       "      <th>0</th>\n",
       "      <td>medium</td>\n",
       "      <td>20765</td>\n",
       "    </tr>\n",
       "    <tr>\n",
       "      <th>1</th>\n",
       "      <td>low</td>\n",
       "      <td>13439</td>\n",
       "    </tr>\n",
       "    <tr>\n",
       "      <th>2</th>\n",
       "      <td>high</td>\n",
       "      <td>10945</td>\n",
       "    </tr>\n",
       "  </tbody>\n",
       "</table>\n",
       "</div>"
      ],
      "text/plain": [
       "    index  salary\n",
       "0  medium   20765\n",
       "1     low   13439\n",
       "2    high   10945"
      ]
     },
     "execution_count": 81,
     "metadata": {},
     "output_type": "execute_result"
    }
   ],
   "source": [
    "a=pd.DataFrame(pd.cut(df['salary'],3, labels=['low','medium','high']).value_counts())\n",
    "a.reset_index(inplace=True)\n",
    "a"
   ]
  },
  {
   "cell_type": "code",
   "execution_count": 82,
   "id": "74c4af33",
   "metadata": {},
   "outputs": [
    {
     "data": {
      "text/html": [
       "<div>\n",
       "<style scoped>\n",
       "    .dataframe tbody tr th:only-of-type {\n",
       "        vertical-align: middle;\n",
       "    }\n",
       "\n",
       "    .dataframe tbody tr th {\n",
       "        vertical-align: top;\n",
       "    }\n",
       "\n",
       "    .dataframe thead th {\n",
       "        text-align: right;\n",
       "    }\n",
       "</style>\n",
       "<table border=\"1\" class=\"dataframe\">\n",
       "  <thead>\n",
       "    <tr style=\"text-align: right;\">\n",
       "      <th></th>\n",
       "      <th>Range</th>\n",
       "      <th>salary</th>\n",
       "    </tr>\n",
       "  </thead>\n",
       "  <tbody>\n",
       "    <tr>\n",
       "      <th>0</th>\n",
       "      <td>medium</td>\n",
       "      <td>20765</td>\n",
       "    </tr>\n",
       "    <tr>\n",
       "      <th>1</th>\n",
       "      <td>low</td>\n",
       "      <td>13439</td>\n",
       "    </tr>\n",
       "    <tr>\n",
       "      <th>2</th>\n",
       "      <td>high</td>\n",
       "      <td>10945</td>\n",
       "    </tr>\n",
       "  </tbody>\n",
       "</table>\n",
       "</div>"
      ],
      "text/plain": [
       "    Range  salary\n",
       "0  medium   20765\n",
       "1     low   13439\n",
       "2    high   10945"
      ]
     },
     "execution_count": 82,
     "metadata": {},
     "output_type": "execute_result"
    }
   ],
   "source": [
    "a.rename(columns={'index':'Range'}, inplace=True)\n",
    "a"
   ]
  },
  {
   "cell_type": "code",
   "execution_count": 83,
   "id": "6a7d9343",
   "metadata": {},
   "outputs": [
    {
     "data": {
      "text/plain": [
       "<AxesSubplot:xlabel='Range', ylabel='count'>"
      ]
     },
     "execution_count": 83,
     "metadata": {},
     "output_type": "execute_result"
    },
    {
     "data": {
      "image/png": "[encoded data removed]",
      "text/plain": [
       "<Figure size 432x288 with 1 Axes>"
      ]
     },
     "metadata": {
      "needs_background": "light"
     },
     "output_type": "display_data"
    }
   ],
   "source": [
    "sns.countplot(a['Range'])"
   ]
  },
  {
   "cell_type": "markdown",
   "id": "7a173b15",
   "metadata": {},
   "source": [
    "**- Finding the numeric and non-numeric columns and separating into two lists**"
   ]
  },
  {
   "cell_type": "code",
   "execution_count": 84,
   "id": "73183bef",
   "metadata": {},
   "outputs": [],
   "source": [
    "df_num=df.select_dtypes('number')\n",
    "df_cat=df.select_dtypes('object')"
   ]
  },
  {
   "cell_type": "code",
   "execution_count": 85,
   "id": "9b8c1cc5",
   "metadata": {},
   "outputs": [
    {
     "data": {
      "text/plain": [
       "Index(['customerid', 'age', 'salary', 'balance', 'day', 'duration', 'campaign',\n",
       "       'pdays', 'previous'],\n",
       "      dtype='object')"
      ]
     },
     "execution_count": 85,
     "metadata": {},
     "output_type": "execute_result"
    }
   ],
   "source": [
    "df_num.columns"
   ]
  },
  {
   "cell_type": "code",
   "execution_count": 86,
   "id": "8dbfb811",
   "metadata": {},
   "outputs": [
    {
     "data": {
      "text/plain": [
       "Index(['marital', 'jobedu', 'targeted', 'default', 'housing', 'loan',\n",
       "       'contact', 'month', 'poutcome', 'response', 'job', 'edu'],\n",
       "      dtype='object')"
      ]
     },
     "execution_count": 86,
     "metadata": {},
     "output_type": "execute_result"
    }
   ],
   "source": [
    "df_cat.columns"
   ]
  },
  {
   "cell_type": "markdown",
   "id": "363a076d",
   "metadata": {},
   "source": [
    "###  Creating interactive plots"
   ]
  },
  {
   "cell_type": "code",
   "execution_count": 87,
   "id": "eb9192bd",
   "metadata": {},
   "outputs": [],
   "source": [
    "from ipywidgets import interact, interact_manual"
   ]
  },
  {
   "cell_type": "markdown",
   "id": "058116ac",
   "metadata": {},
   "source": [
    "- **Using the interact and interact_manual packages we are creating interactive plots as follows:**"
   ]
  },
  {
   "cell_type": "code",
   "execution_count": 88,
   "id": "7cc0ce0c",
   "metadata": {},
   "outputs": [
    {
     "data": {
      "application/vnd.jupyter.widget-view+json": {
       "model_id": "f6e9f5dc99894925b9281ff930523757",
       "version_major": 2,
       "version_minor": 0
      },
      "text/plain": [
       "interactive(children=(Dropdown(description='col', options=('customerid', 'age', 'salary', 'balance', 'day', 'd…"
      ]
     },
     "metadata": {},
     "output_type": "display_data"
    }
   ],
   "source": [
    "@interact_manual\n",
    "def hist_plot(col = df_num.columns):\n",
    "    sns.histplot(df[col])"
   ]
  },
  {
   "cell_type": "markdown",
   "id": "026c4dce",
   "metadata": {},
   "source": [
    "- The above plot shows that the customer ages range majorly from 20 to 60 years"
   ]
  },
  {
   "cell_type": "code",
   "execution_count": 89,
   "id": "26872fd3",
   "metadata": {},
   "outputs": [
    {
     "data": {
      "application/vnd.jupyter.widget-view+json": {
       "model_id": "0f2e04d7ad874b3ba15bf38851f66898",
       "version_major": 2,
       "version_minor": 0
      },
      "text/plain": [
       "interactive(children=(Dropdown(description='col', options=('customerid', 'age', 'salary', 'balance', 'day', 'd…"
      ]
     },
     "metadata": {},
     "output_type": "display_data"
    }
   ],
   "source": [
    "@interact_manual\n",
    "def distplot(col=df_num.columns):\n",
    "    sns.distplot(df[col])"
   ]
  },
  {
   "cell_type": "markdown",
   "id": "e1bdb27b",
   "metadata": {},
   "source": [
    "- The above plots shows that saaries are mainly around 20k, 60k and 100k"
   ]
  },
  {
   "cell_type": "code",
   "execution_count": 90,
   "id": "9121d1f8",
   "metadata": {},
   "outputs": [
    {
     "data": {
      "application/vnd.jupyter.widget-view+json": {
       "model_id": "ca2095c4e9c849a1802954546aea44de",
       "version_major": 2,
       "version_minor": 0
      },
      "text/plain": [
       "interactive(children=(Dropdown(description='col', options=('customerid', 'age', 'salary', 'balance', 'day', 'd…"
      ]
     },
     "metadata": {},
     "output_type": "display_data"
    }
   ],
   "source": [
    "@interact\n",
    "def boxplot(col=df_num.columns):\n",
    "    sns.boxplot(df[col])"
   ]
  },
  {
   "cell_type": "markdown",
   "id": "e8ef1540",
   "metadata": {},
   "source": [
    "- The above plot for age shows that the age of the customers are mainly concentrated between 30-50 years"
   ]
  },
  {
   "cell_type": "code",
   "execution_count": 91,
   "id": "cc630f29",
   "metadata": {},
   "outputs": [
    {
     "data": {
      "application/vnd.jupyter.widget-view+json": {
       "model_id": "42d1761fbc194948bd190da321fd4053",
       "version_major": 2,
       "version_minor": 0
      },
      "text/plain": [
       "interactive(children=(Dropdown(description='col', options=('marital', 'jobedu', 'targeted', 'default', 'housin…"
      ]
     },
     "metadata": {},
     "output_type": "display_data"
    }
   ],
   "source": [
    "@interact\n",
    "def countplot(col=df_cat.columns):\n",
    "    sns.countplot(df[col])"
   ]
  },
  {
   "cell_type": "markdown",
   "id": "758f0d4e",
   "metadata": {},
   "source": [
    "- The above plot shows that majority of the customers do not apply for loan"
   ]
  },
  {
   "cell_type": "markdown",
   "id": "83f8c365",
   "metadata": {},
   "source": [
    "#### - **Bivariate Analysis (Analysis of two columns)**\n",
    "- Analysing two columns together.\n",
    "- Trying to see how they vary and getting insights from them.\n",
    "\n",
    "- Checking how the response is dependent based on different factors like call duration, marital status, age, job etc."
   ]
  },
  {
   "cell_type": "code",
   "execution_count": 92,
   "id": "265a4578",
   "metadata": {},
   "outputs": [
    {
     "data": {
      "text/html": [
       "<div>\n",
       "<style scoped>\n",
       "    .dataframe tbody tr th:only-of-type {\n",
       "        vertical-align: middle;\n",
       "    }\n",
       "\n",
       "    .dataframe tbody tr th {\n",
       "        vertical-align: top;\n",
       "    }\n",
       "\n",
       "    .dataframe thead th {\n",
       "        text-align: right;\n",
       "    }\n",
       "</style>\n",
       "<table border=\"1\" class=\"dataframe\">\n",
       "  <thead>\n",
       "    <tr style=\"text-align: right;\">\n",
       "      <th></th>\n",
       "      <th>max</th>\n",
       "      <th>mean</th>\n",
       "      <th>median</th>\n",
       "      <th>min</th>\n",
       "    </tr>\n",
       "    <tr>\n",
       "      <th>response</th>\n",
       "      <th></th>\n",
       "      <th></th>\n",
       "      <th></th>\n",
       "      <th></th>\n",
       "    </tr>\n",
       "  </thead>\n",
       "  <tbody>\n",
       "    <tr>\n",
       "      <th>no</th>\n",
       "      <td>261.0</td>\n",
       "      <td>173.815942</td>\n",
       "      <td>261.0</td>\n",
       "      <td>4.35</td>\n",
       "    </tr>\n",
       "    <tr>\n",
       "      <th>yes</th>\n",
       "      <td>261.0</td>\n",
       "      <td>234.155391</td>\n",
       "      <td>261.0</td>\n",
       "      <td>4.35</td>\n",
       "    </tr>\n",
       "  </tbody>\n",
       "</table>\n",
       "</div>"
      ],
      "text/plain": [
       "            max        mean  median   min\n",
       "response                                 \n",
       "no        261.0  173.815942   261.0  4.35\n",
       "yes       261.0  234.155391   261.0  4.35"
      ]
     },
     "execution_count": 92,
     "metadata": {},
     "output_type": "execute_result"
    }
   ],
   "source": [
    "df.groupby('response')['duration'].agg({'min','mean','median','max'})"
   ]
  },
  {
   "cell_type": "markdown",
   "id": "6278ea33",
   "metadata": {},
   "source": [
    "- *The above shows that the calls with longer duration are generally having a positive response*"
   ]
  },
  {
   "cell_type": "code",
   "execution_count": 93,
   "id": "3e4e7c1b",
   "metadata": {},
   "outputs": [
    {
     "data": {
      "application/vnd.jupyter.widget-view+json": {
       "model_id": "01e91f3348354b34ad3befe7198ad33f",
       "version_major": 2,
       "version_minor": 0
      },
      "text/plain": [
       "interactive(children=(Dropdown(description='col1', options=('marital', 'jobedu', 'targeted', 'default', 'housi…"
      ]
     },
     "metadata": {},
     "output_type": "display_data"
    }
   ],
   "source": [
    "@interact\n",
    "def grouping(col1 = df_cat.columns,\n",
    "            col2 = df_num.columns):\n",
    "    return df.groupby(col1)[col2].agg({'min','mean','median','max'})"
   ]
  },
  {
   "cell_type": "code",
   "execution_count": 94,
   "id": "86daef97",
   "metadata": {},
   "outputs": [
    {
     "data": {
      "application/vnd.jupyter.widget-view+json": {
       "model_id": "0b99e238bef647508d885d1878298387",
       "version_major": 2,
       "version_minor": 0
      },
      "text/plain": [
       "interactive(children=(Dropdown(description='col1', options=('marital', 'jobedu', 'targeted', 'default', 'housi…"
      ]
     },
     "metadata": {},
     "output_type": "display_data"
    }
   ],
   "source": [
    "@interact_manual\n",
    "def plotting(col1=df_cat.columns,col2=df_num.columns):\n",
    "    sns.boxplot(df[col1],df[col2])\n",
    "    plt.xticks(rotation=90)"
   ]
  },
  {
   "cell_type": "markdown",
   "id": "5bbde8e2",
   "metadata": {},
   "source": [
    "- *The above example shows that divorced people have a higher range of salary when compared to others.*\n"
   ]
  },
  {
   "cell_type": "code",
   "execution_count": 95,
   "id": "8ef3f4d7",
   "metadata": {},
   "outputs": [
    {
     "data": {
      "application/vnd.jupyter.widget-view+json": {
       "model_id": "62bf7cfb4a324bfca38c1f91c8f49069",
       "version_major": 2,
       "version_minor": 0
      },
      "text/plain": [
       "interactive(children=(Dropdown(description='col1', options=('marital', 'jobedu', 'targeted', 'default', 'housi…"
      ]
     },
     "metadata": {},
     "output_type": "display_data"
    }
   ],
   "source": [
    "@interact\n",
    "def plotting_1(col1=df_cat.columns, col2=df_num.columns, col3='response'):\n",
    "    sns.barplot(df[col1],df[col2],hue= df[col3])"
   ]
  },
  {
   "cell_type": "markdown",
   "id": "08738e45",
   "metadata": {},
   "source": [
    "- *The above plot shows that married people and divorced people have a higher positive response rate*"
   ]
  },
  {
   "cell_type": "code",
   "execution_count": 96,
   "id": "fd70cb3b",
   "metadata": {},
   "outputs": [
    {
     "data": {
      "application/vnd.jupyter.widget-view+json": {
       "model_id": "630247659d744ec3977dfd08f8b04f15",
       "version_major": 2,
       "version_minor": 0
      },
      "text/plain": [
       "interactive(children=(Dropdown(description='col1', options=('marital', 'jobedu', 'targeted', 'default', 'housi…"
      ]
     },
     "metadata": {},
     "output_type": "display_data"
    }
   ],
   "source": [
    "@interact\n",
    "def plotting_1(col1=df_cat.columns, col2=df_num.columns, col3='response'):\n",
    "    sns.boxplot(df[col1],df[col2],hue= df[col3])"
   ]
  },
  {
   "cell_type": "markdown",
   "id": "4def27d9",
   "metadata": {},
   "source": [
    "- *The above plot shows that the people who have no Loans have given a higher positive response, the age ranges 30-50*"
   ]
  },
  {
   "cell_type": "markdown",
   "id": "c45dc2d2",
   "metadata": {},
   "source": [
    "<H1 style= 'color: blue'> DESCRIPTIVE STATISTICS </H1>"
   ]
  },
  {
   "cell_type": "markdown",
   "id": "81361625",
   "metadata": {},
   "source": [
    "### Measures of Central Tendency\n",
    "   - Mean\n",
    "   - Median\n",
    "   - Mode"
   ]
  },
  {
   "cell_type": "markdown",
   "id": "22719553",
   "metadata": {},
   "source": [
    "### Measures of Dispersion\n",
    "   - Range (Max-Min values)\n",
    "   - Standard Deviation (Root mean squared error)\n",
    "   - Variance (mean squared error)"
   ]
  },
  {
   "cell_type": "code",
   "execution_count": 97,
   "id": "1be6c4b5",
   "metadata": {},
   "outputs": [
    {
     "data": {
      "text/plain": [
       "57084.45369775632"
      ]
     },
     "execution_count": 97,
     "metadata": {},
     "output_type": "execute_result"
    }
   ],
   "source": [
    "avg_salary = df['salary'].mean()\n",
    "avg_salary"
   ]
  },
  {
   "cell_type": "code",
   "execution_count": 98,
   "id": "c62f7af9",
   "metadata": {},
   "outputs": [
    {
     "data": {
      "text/plain": [
       "0    blue-collar\n",
       "Name: job, dtype: object"
      ]
     },
     "execution_count": 98,
     "metadata": {},
     "output_type": "execute_result"
    }
   ],
   "source": [
    "mode_job = df['job'].mode()\n",
    "mode_job"
   ]
  },
  {
   "cell_type": "code",
   "execution_count": 99,
   "id": "91069ad8",
   "metadata": {},
   "outputs": [
    {
     "data": {
      "text/html": [
       "<div>\n",
       "<style scoped>\n",
       "    .dataframe tbody tr th:only-of-type {\n",
       "        vertical-align: middle;\n",
       "    }\n",
       "\n",
       "    .dataframe tbody tr th {\n",
       "        vertical-align: top;\n",
       "    }\n",
       "\n",
       "    .dataframe thead th {\n",
       "        text-align: right;\n",
       "    }\n",
       "</style>\n",
       "<table border=\"1\" class=\"dataframe\">\n",
       "  <thead>\n",
       "    <tr style=\"text-align: right;\">\n",
       "      <th></th>\n",
       "      <th>customerid</th>\n",
       "      <th>age</th>\n",
       "      <th>salary</th>\n",
       "      <th>balance</th>\n",
       "      <th>marital</th>\n",
       "      <th>jobedu</th>\n",
       "      <th>targeted</th>\n",
       "      <th>default</th>\n",
       "      <th>housing</th>\n",
       "      <th>loan</th>\n",
       "      <th>...</th>\n",
       "      <th>day</th>\n",
       "      <th>month</th>\n",
       "      <th>duration</th>\n",
       "      <th>campaign</th>\n",
       "      <th>pdays</th>\n",
       "      <th>previous</th>\n",
       "      <th>poutcome</th>\n",
       "      <th>response</th>\n",
       "      <th>job</th>\n",
       "      <th>edu</th>\n",
       "    </tr>\n",
       "  </thead>\n",
       "  <tbody>\n",
       "    <tr>\n",
       "      <th>count</th>\n",
       "      <td>45211.000000</td>\n",
       "      <td>45211.000000</td>\n",
       "      <td>45149.000000</td>\n",
       "      <td>45211.000000</td>\n",
       "      <td>45211</td>\n",
       "      <td>45211</td>\n",
       "      <td>45211</td>\n",
       "      <td>45211</td>\n",
       "      <td>45211</td>\n",
       "      <td>45211</td>\n",
       "      <td>...</td>\n",
       "      <td>45211.000000</td>\n",
       "      <td>45211</td>\n",
       "      <td>45211.000000</td>\n",
       "      <td>45211.000000</td>\n",
       "      <td>45211.000000</td>\n",
       "      <td>45211.000000</td>\n",
       "      <td>45211</td>\n",
       "      <td>45181</td>\n",
       "      <td>45211</td>\n",
       "      <td>45211</td>\n",
       "    </tr>\n",
       "    <tr>\n",
       "      <th>unique</th>\n",
       "      <td>NaN</td>\n",
       "      <td>NaN</td>\n",
       "      <td>NaN</td>\n",
       "      <td>NaN</td>\n",
       "      <td>3</td>\n",
       "      <td>48</td>\n",
       "      <td>2</td>\n",
       "      <td>2</td>\n",
       "      <td>2</td>\n",
       "      <td>2</td>\n",
       "      <td>...</td>\n",
       "      <td>NaN</td>\n",
       "      <td>12</td>\n",
       "      <td>NaN</td>\n",
       "      <td>NaN</td>\n",
       "      <td>NaN</td>\n",
       "      <td>NaN</td>\n",
       "      <td>4</td>\n",
       "      <td>2</td>\n",
       "      <td>12</td>\n",
       "      <td>4</td>\n",
       "    </tr>\n",
       "    <tr>\n",
       "      <th>top</th>\n",
       "      <td>NaN</td>\n",
       "      <td>NaN</td>\n",
       "      <td>NaN</td>\n",
       "      <td>NaN</td>\n",
       "      <td>married</td>\n",
       "      <td>management,tertiary</td>\n",
       "      <td>yes</td>\n",
       "      <td>no</td>\n",
       "      <td>yes</td>\n",
       "      <td>no</td>\n",
       "      <td>...</td>\n",
       "      <td>NaN</td>\n",
       "      <td>may, 2017</td>\n",
       "      <td>NaN</td>\n",
       "      <td>NaN</td>\n",
       "      <td>NaN</td>\n",
       "      <td>NaN</td>\n",
       "      <td>unknown</td>\n",
       "      <td>no</td>\n",
       "      <td>blue-collar</td>\n",
       "      <td>secondary</td>\n",
       "    </tr>\n",
       "    <tr>\n",
       "      <th>freq</th>\n",
       "      <td>NaN</td>\n",
       "      <td>NaN</td>\n",
       "      <td>NaN</td>\n",
       "      <td>NaN</td>\n",
       "      <td>27214</td>\n",
       "      <td>7801</td>\n",
       "      <td>37091</td>\n",
       "      <td>44396</td>\n",
       "      <td>25130</td>\n",
       "      <td>37967</td>\n",
       "      <td>...</td>\n",
       "      <td>NaN</td>\n",
       "      <td>13797</td>\n",
       "      <td>NaN</td>\n",
       "      <td>NaN</td>\n",
       "      <td>NaN</td>\n",
       "      <td>NaN</td>\n",
       "      <td>36959</td>\n",
       "      <td>39894</td>\n",
       "      <td>9732</td>\n",
       "      <td>23202</td>\n",
       "    </tr>\n",
       "    <tr>\n",
       "      <th>mean</th>\n",
       "      <td>22606.000000</td>\n",
       "      <td>40.934795</td>\n",
       "      <td>57084.453698</td>\n",
       "      <td>1362.272058</td>\n",
       "      <td>NaN</td>\n",
       "      <td>NaN</td>\n",
       "      <td>NaN</td>\n",
       "      <td>NaN</td>\n",
       "      <td>NaN</td>\n",
       "      <td>NaN</td>\n",
       "      <td>...</td>\n",
       "      <td>15.806419</td>\n",
       "      <td>NaN</td>\n",
       "      <td>180.873156</td>\n",
       "      <td>2.763841</td>\n",
       "      <td>40.197828</td>\n",
       "      <td>0.580323</td>\n",
       "      <td>NaN</td>\n",
       "      <td>NaN</td>\n",
       "      <td>NaN</td>\n",
       "      <td>NaN</td>\n",
       "    </tr>\n",
       "    <tr>\n",
       "      <th>std</th>\n",
       "      <td>13051.435847</td>\n",
       "      <td>10.616926</td>\n",
       "      <td>32038.075304</td>\n",
       "      <td>3044.765829</td>\n",
       "      <td>NaN</td>\n",
       "      <td>NaN</td>\n",
       "      <td>NaN</td>\n",
       "      <td>NaN</td>\n",
       "      <td>NaN</td>\n",
       "      <td>NaN</td>\n",
       "      <td>...</td>\n",
       "      <td>8.322476</td>\n",
       "      <td>NaN</td>\n",
       "      <td>118.930889</td>\n",
       "      <td>3.098021</td>\n",
       "      <td>100.128746</td>\n",
       "      <td>2.303441</td>\n",
       "      <td>NaN</td>\n",
       "      <td>NaN</td>\n",
       "      <td>NaN</td>\n",
       "      <td>NaN</td>\n",
       "    </tr>\n",
       "    <tr>\n",
       "      <th>min</th>\n",
       "      <td>1.000000</td>\n",
       "      <td>18.000000</td>\n",
       "      <td>0.000000</td>\n",
       "      <td>-8019.000000</td>\n",
       "      <td>NaN</td>\n",
       "      <td>NaN</td>\n",
       "      <td>NaN</td>\n",
       "      <td>NaN</td>\n",
       "      <td>NaN</td>\n",
       "      <td>NaN</td>\n",
       "      <td>...</td>\n",
       "      <td>1.000000</td>\n",
       "      <td>NaN</td>\n",
       "      <td>4.350000</td>\n",
       "      <td>1.000000</td>\n",
       "      <td>-1.000000</td>\n",
       "      <td>0.000000</td>\n",
       "      <td>NaN</td>\n",
       "      <td>NaN</td>\n",
       "      <td>NaN</td>\n",
       "      <td>NaN</td>\n",
       "    </tr>\n",
       "    <tr>\n",
       "      <th>25%</th>\n",
       "      <td>11303.500000</td>\n",
       "      <td>33.000000</td>\n",
       "      <td>20000.000000</td>\n",
       "      <td>72.000000</td>\n",
       "      <td>NaN</td>\n",
       "      <td>NaN</td>\n",
       "      <td>NaN</td>\n",
       "      <td>NaN</td>\n",
       "      <td>NaN</td>\n",
       "      <td>NaN</td>\n",
       "      <td>...</td>\n",
       "      <td>8.000000</td>\n",
       "      <td>NaN</td>\n",
       "      <td>4.350000</td>\n",
       "      <td>1.000000</td>\n",
       "      <td>-1.000000</td>\n",
       "      <td>0.000000</td>\n",
       "      <td>NaN</td>\n",
       "      <td>NaN</td>\n",
       "      <td>NaN</td>\n",
       "      <td>NaN</td>\n",
       "    </tr>\n",
       "    <tr>\n",
       "      <th>50%</th>\n",
       "      <td>22606.000000</td>\n",
       "      <td>39.000000</td>\n",
       "      <td>60000.000000</td>\n",
       "      <td>448.000000</td>\n",
       "      <td>NaN</td>\n",
       "      <td>NaN</td>\n",
       "      <td>NaN</td>\n",
       "      <td>NaN</td>\n",
       "      <td>NaN</td>\n",
       "      <td>NaN</td>\n",
       "      <td>...</td>\n",
       "      <td>16.000000</td>\n",
       "      <td>NaN</td>\n",
       "      <td>261.000000</td>\n",
       "      <td>2.000000</td>\n",
       "      <td>-1.000000</td>\n",
       "      <td>0.000000</td>\n",
       "      <td>NaN</td>\n",
       "      <td>NaN</td>\n",
       "      <td>NaN</td>\n",
       "      <td>NaN</td>\n",
       "    </tr>\n",
       "    <tr>\n",
       "      <th>75%</th>\n",
       "      <td>33908.500000</td>\n",
       "      <td>48.000000</td>\n",
       "      <td>70000.000000</td>\n",
       "      <td>1428.000000</td>\n",
       "      <td>NaN</td>\n",
       "      <td>NaN</td>\n",
       "      <td>NaN</td>\n",
       "      <td>NaN</td>\n",
       "      <td>NaN</td>\n",
       "      <td>NaN</td>\n",
       "      <td>...</td>\n",
       "      <td>21.000000</td>\n",
       "      <td>NaN</td>\n",
       "      <td>261.000000</td>\n",
       "      <td>3.000000</td>\n",
       "      <td>-1.000000</td>\n",
       "      <td>0.000000</td>\n",
       "      <td>NaN</td>\n",
       "      <td>NaN</td>\n",
       "      <td>NaN</td>\n",
       "      <td>NaN</td>\n",
       "    </tr>\n",
       "    <tr>\n",
       "      <th>max</th>\n",
       "      <td>45211.000000</td>\n",
       "      <td>95.000000</td>\n",
       "      <td>120000.000000</td>\n",
       "      <td>102127.000000</td>\n",
       "      <td>NaN</td>\n",
       "      <td>NaN</td>\n",
       "      <td>NaN</td>\n",
       "      <td>NaN</td>\n",
       "      <td>NaN</td>\n",
       "      <td>NaN</td>\n",
       "      <td>...</td>\n",
       "      <td>31.000000</td>\n",
       "      <td>NaN</td>\n",
       "      <td>261.000000</td>\n",
       "      <td>63.000000</td>\n",
       "      <td>871.000000</td>\n",
       "      <td>275.000000</td>\n",
       "      <td>NaN</td>\n",
       "      <td>NaN</td>\n",
       "      <td>NaN</td>\n",
       "      <td>NaN</td>\n",
       "    </tr>\n",
       "  </tbody>\n",
       "</table>\n",
       "<p>11 rows × 21 columns</p>\n",
       "</div>"
      ],
      "text/plain": [
       "          customerid           age         salary        balance  marital  \\\n",
       "count   45211.000000  45211.000000   45149.000000   45211.000000    45211   \n",
       "unique           NaN           NaN            NaN            NaN        3   \n",
       "top              NaN           NaN            NaN            NaN  married   \n",
       "freq             NaN           NaN            NaN            NaN    27214   \n",
       "mean    22606.000000     40.934795   57084.453698    1362.272058      NaN   \n",
       "std     13051.435847     10.616926   32038.075304    3044.765829      NaN   \n",
       "min         1.000000     18.000000       0.000000   -8019.000000      NaN   \n",
       "25%     11303.500000     33.000000   20000.000000      72.000000      NaN   \n",
       "50%     22606.000000     39.000000   60000.000000     448.000000      NaN   \n",
       "75%     33908.500000     48.000000   70000.000000    1428.000000      NaN   \n",
       "max     45211.000000     95.000000  120000.000000  102127.000000      NaN   \n",
       "\n",
       "                     jobedu targeted default housing   loan  ...  \\\n",
       "count                 45211    45211   45211   45211  45211  ...   \n",
       "unique                   48        2       2       2      2  ...   \n",
       "top     management,tertiary      yes      no     yes     no  ...   \n",
       "freq                   7801    37091   44396   25130  37967  ...   \n",
       "mean                    NaN      NaN     NaN     NaN    NaN  ...   \n",
       "std                     NaN      NaN     NaN     NaN    NaN  ...   \n",
       "min                     NaN      NaN     NaN     NaN    NaN  ...   \n",
       "25%                     NaN      NaN     NaN     NaN    NaN  ...   \n",
       "50%                     NaN      NaN     NaN     NaN    NaN  ...   \n",
       "75%                     NaN      NaN     NaN     NaN    NaN  ...   \n",
       "max                     NaN      NaN     NaN     NaN    NaN  ...   \n",
       "\n",
       "                 day      month      duration      campaign         pdays  \\\n",
       "count   45211.000000      45211  45211.000000  45211.000000  45211.000000   \n",
       "unique           NaN         12           NaN           NaN           NaN   \n",
       "top              NaN  may, 2017           NaN           NaN           NaN   \n",
       "freq             NaN      13797           NaN           NaN           NaN   \n",
       "mean       15.806419        NaN    180.873156      2.763841     40.197828   \n",
       "std         8.322476        NaN    118.930889      3.098021    100.128746   \n",
       "min         1.000000        NaN      4.350000      1.000000     -1.000000   \n",
       "25%         8.000000        NaN      4.350000      1.000000     -1.000000   \n",
       "50%        16.000000        NaN    261.000000      2.000000     -1.000000   \n",
       "75%        21.000000        NaN    261.000000      3.000000     -1.000000   \n",
       "max        31.000000        NaN    261.000000     63.000000    871.000000   \n",
       "\n",
       "            previous  poutcome response          job        edu  \n",
       "count   45211.000000     45211    45181        45211      45211  \n",
       "unique           NaN         4        2           12          4  \n",
       "top              NaN   unknown       no  blue-collar  secondary  \n",
       "freq             NaN     36959    39894         9732      23202  \n",
       "mean        0.580323       NaN      NaN          NaN        NaN  \n",
       "std         2.303441       NaN      NaN          NaN        NaN  \n",
       "min         0.000000       NaN      NaN          NaN        NaN  \n",
       "25%         0.000000       NaN      NaN          NaN        NaN  \n",
       "50%         0.000000       NaN      NaN          NaN        NaN  \n",
       "75%         0.000000       NaN      NaN          NaN        NaN  \n",
       "max       275.000000       NaN      NaN          NaN        NaN  \n",
       "\n",
       "[11 rows x 21 columns]"
      ]
     },
     "execution_count": 99,
     "metadata": {},
     "output_type": "execute_result"
    }
   ],
   "source": [
    "df.describe(include= 'all')"
   ]
  },
  {
   "cell_type": "markdown",
   "id": "4280eab5",
   "metadata": {},
   "source": [
    "- **The above table gives the statistical summary of all the columns in the data frame**"
   ]
  },
  {
   "cell_type": "markdown",
   "id": "99870a00",
   "metadata": {},
   "source": [
    "### Measure of Shape\n",
    "   - SKEWNESS:\n",
    "         1. Positive Skewness:  [ mean > median ;  skew > 0.5 ] \n",
    "             \n",
    "         2. Negative Skewness:  [ mean < median ;  skew < -0.5 ]\n",
    "             \n",
    "         3. Symmetric Skewness: [ mean ~= median ; -0.5 < skew < 0.5 ] (Normal Curve)"
   ]
  },
  {
   "cell_type": "code",
   "execution_count": 100,
   "id": "16375342",
   "metadata": {},
   "outputs": [
    {
     "data": {
      "text/plain": [
       "0.13904080905510885"
      ]
     },
     "execution_count": 100,
     "metadata": {},
     "output_type": "execute_result"
    }
   ],
   "source": [
    "df['salary'].skew()"
   ]
  },
  {
   "cell_type": "code",
   "execution_count": 101,
   "id": "3acec88c",
   "metadata": {},
   "outputs": [
    {
     "data": {
      "text/plain": [
       "0.14"
      ]
     },
     "execution_count": 101,
     "metadata": {},
     "output_type": "execute_result"
    }
   ],
   "source": [
    "np.round(df['salary'].skew(),2)"
   ]
  },
  {
   "cell_type": "code",
   "execution_count": 102,
   "id": "e630a054",
   "metadata": {},
   "outputs": [
    {
     "data": {
      "text/plain": [
       "<AxesSubplot:xlabel='salary', ylabel='Density'>"
      ]
     },
     "execution_count": 102,
     "metadata": {},
     "output_type": "execute_result"
    },
    {
     "data": {
      "image/png": "[encoded data removed]",
      "text/plain": [
       "<Figure size 432x288 with 1 Axes>"
      ]
     },
     "metadata": {
      "needs_background": "light"
     },
     "output_type": "display_data"
    }
   ],
   "source": [
    "sns.distplot(df['salary'])"
   ]
  },
  {
   "cell_type": "code",
   "execution_count": 103,
   "id": "0e54e74b",
   "metadata": {},
   "outputs": [
    {
     "data": {
      "text/plain": [
       "<AxesSubplot:xlabel='salary'>"
      ]
     },
     "execution_count": 103,
     "metadata": {},
     "output_type": "execute_result"
    },
    {
     "data": {
      "image/png": "[encoded data removed]",
      "text/plain": [
       "<Figure size 432x288 with 1 Axes>"
      ]
     },
     "metadata": {
      "needs_background": "light"
     },
     "output_type": "display_data"
    }
   ],
   "source": [
    "sns.boxplot(df['salary'])"
   ]
  },
  {
   "cell_type": "code",
   "execution_count": 104,
   "id": "c44fde8c",
   "metadata": {},
   "outputs": [
    {
     "data": {
      "text/plain": [
       "57084.45369775632"
      ]
     },
     "execution_count": 104,
     "metadata": {},
     "output_type": "execute_result"
    }
   ],
   "source": [
    "df['salary'].mean()"
   ]
  },
  {
   "cell_type": "code",
   "execution_count": 105,
   "id": "2882684c",
   "metadata": {},
   "outputs": [
    {
     "data": {
      "text/plain": [
       "60000.0"
      ]
     },
     "execution_count": 105,
     "metadata": {},
     "output_type": "execute_result"
    }
   ],
   "source": [
    "df['salary'].median()"
   ]
  },
  {
   "cell_type": "markdown",
   "id": "f90581d6",
   "metadata": {},
   "source": [
    "- **Salary has a symmetric skewness**"
   ]
  },
  {
   "cell_type": "markdown",
   "id": "a0565e2f",
   "metadata": {},
   "source": [
    "## Checking Outliers"
   ]
  },
  {
   "cell_type": "markdown",
   "id": "7ee1eb11",
   "metadata": {},
   "source": [
    "##### Inter Quartile Range:\n",
    "- q1 = Lower Quartile = 25th percentile\n",
    "- q2 = Median         = 50th percentile\n",
    "- q3 = Upper Quartile = 75th percentile\n",
    "- iqr = q3 - q1\n",
    "- Lower bound = q1 - (1.5 * iqr)\n",
    "- Upper bound = q3 + (1.5 * iqr)"
   ]
  },
  {
   "cell_type": "code",
   "execution_count": 106,
   "id": "76df024f",
   "metadata": {},
   "outputs": [
    {
     "name": "stdout",
     "output_type": "stream",
     "text": [
      "Column Name is:  CUSTOMERID\n",
      "Lower Quartile:  11303.5\n",
      "Upper Quartile:  33908.5\n",
      "Inter Quartile Range: 22605.0\n",
      "Lower bound:  -22604.0\n",
      "Upper bound:  67816.0\n",
      "No. of Outliers:  0\n",
      "Skewness is:  0.0\n",
      "Max value:  45211.0\n",
      "Min value:  1.0\n",
      "=================================\n",
      "Column Name is:  AGE\n",
      "Lower Quartile:  33.0\n",
      "Upper Quartile:  48.0\n",
      "Inter Quartile Range: 15.0\n",
      "Lower bound:  10.5\n",
      "Upper bound:  70.5\n",
      "No. of Outliers:  487\n",
      "Skewness is:  0.6853771512669647\n",
      "Max value:  95.0\n",
      "Min value:  18.0\n",
      "=================================\n",
      "Column Name is:  SALARY\n",
      "Lower Quartile:  20000.0\n",
      "Upper Quartile:  70000.0\n",
      "Inter Quartile Range: 50000.0\n",
      "Lower bound:  -55000.0\n",
      "Upper bound:  145000.0\n",
      "No. of Outliers:  0\n",
      "Skewness is:  0.13904080905510885\n",
      "Max value:  120000.0\n",
      "Min value:  0.0\n",
      "=================================\n",
      "Column Name is:  BALANCE\n",
      "Lower Quartile:  72.0\n",
      "Upper Quartile:  1428.0\n",
      "Inter Quartile Range: 1356.0\n",
      "Lower bound:  -1962.0\n",
      "Upper bound:  3462.0\n",
      "No. of Outliers:  4729\n",
      "Skewness is:  8.360308326166326\n",
      "Max value:  102127.0\n",
      "Min value:  -8019.0\n",
      "=================================\n",
      "Column Name is:  DAY\n",
      "Lower Quartile:  8.0\n",
      "Upper Quartile:  21.0\n",
      "Inter Quartile Range: 13.0\n",
      "Lower bound:  -11.5\n",
      "Upper bound:  40.5\n",
      "No. of Outliers:  0\n",
      "Skewness is:  0.09307901402122411\n",
      "Max value:  31.0\n",
      "Min value:  1.0\n",
      "=================================\n",
      "Column Name is:  DURATION\n",
      "Lower Quartile:  4.35\n",
      "Upper Quartile:  261.0\n",
      "Inter Quartile Range: 256.65\n",
      "Lower bound:  -380.62499999999994\n",
      "Upper bound:  645.9749999999999\n",
      "No. of Outliers:  0\n",
      "Skewness is:  -0.8105596231934016\n",
      "Max value:  261.0\n",
      "Min value:  4.35\n",
      "=================================\n",
      "Column Name is:  CAMPAIGN\n",
      "Lower Quartile:  1.0\n",
      "Upper Quartile:  3.0\n",
      "Inter Quartile Range: 2.0\n",
      "Lower bound:  -2.0\n",
      "Upper bound:  6.0\n",
      "No. of Outliers:  3064\n",
      "Skewness is:  4.898650166179674\n",
      "Max value:  63.0\n",
      "Min value:  1.0\n",
      "=================================\n",
      "Column Name is:  PDAYS\n",
      "Lower Quartile:  -1.0\n",
      "Upper Quartile:  -1.0\n",
      "Inter Quartile Range: 0.0\n",
      "Lower bound:  -1.0\n",
      "Upper bound:  -1.0\n",
      "No. of Outliers:  8257\n",
      "Skewness is:  2.6157154736563477\n",
      "Max value:  871.0\n",
      "Min value:  -1.0\n",
      "=================================\n",
      "Column Name is:  PREVIOUS\n",
      "Lower Quartile:  0.0\n",
      "Upper Quartile:  0.0\n",
      "Inter Quartile Range: 0.0\n",
      "Lower bound:  0.0\n",
      "Upper bound:  0.0\n",
      "No. of Outliers:  8257\n",
      "Skewness is:  41.84645447266292\n",
      "Max value:  275.0\n",
      "Min value:  0.0\n",
      "=================================\n"
     ]
    }
   ],
   "source": [
    "def outlier_iqr(data,col):\n",
    "    q1=data[col].quantile(0.25)\n",
    "    q3=data[col].quantile(0.75)\n",
    "    iqr=q3-q1\n",
    "\n",
    "    lb=q1-(1.5*iqr)\n",
    "    ub=q3+(1.5*iqr)\n",
    "\n",
    "    outliers=data[(data[col] < lb) | (data[col] > ub)][col]\n",
    "    print('Lower Quartile: ', q1)\n",
    "    print('Upper Quartile: ', q3)\n",
    "    print('Inter Quartile Range:' , iqr)\n",
    "    print('Lower bound: ', lb)\n",
    "    print('Upper bound: ', ub)\n",
    "    print('No. of Outliers: ', len(outliers))\n",
    "    print('Skewness is: ', data[col].skew())\n",
    "    print('Max value: ', data[col].max())\n",
    "    print('Min value: ', data[col].min())\n",
    "\n",
    "for val in df.select_dtypes('number').columns:\n",
    "    print('Column Name is: ', str.upper(val))\n",
    "    outlier_iqr(df,val)\n",
    "    print('=================================')"
   ]
  },
  {
   "cell_type": "markdown",
   "id": "9394c51c",
   "metadata": {},
   "source": [
    "### Measures of relation\n",
    "\n",
    "#### Correlation:\n",
    "   - Relationship b/w two variables is called correlation.\n",
    "   - Types of correlation:\n",
    "       1. Possitive Correlation (correlation is in b/w 0.5 to 1)     [0.5 < corr() < 1]\n",
    "       2. Negative Correlation  (correlation is in b/w -0.5 to -1)   [-0.5 < corr() < -1]\n",
    "       3. No relation           (correlation is in b/w -0.5 to 0.5)  [-0.5 < corr() < 0.5]"
   ]
  },
  {
   "cell_type": "markdown",
   "id": "9b9b2c56",
   "metadata": {},
   "source": [
    "**1.\t*Find the correlation between the columns and draw the observations from it*.**"
   ]
  },
  {
   "cell_type": "code",
   "execution_count": 107,
   "id": "8e9d91f4",
   "metadata": {},
   "outputs": [
    {
     "data": {
      "text/html": [
       "<div>\n",
       "<style scoped>\n",
       "    .dataframe tbody tr th:only-of-type {\n",
       "        vertical-align: middle;\n",
       "    }\n",
       "\n",
       "    .dataframe tbody tr th {\n",
       "        vertical-align: top;\n",
       "    }\n",
       "\n",
       "    .dataframe thead th {\n",
       "        text-align: right;\n",
       "    }\n",
       "</style>\n",
       "<table border=\"1\" class=\"dataframe\">\n",
       "  <thead>\n",
       "    <tr style=\"text-align: right;\">\n",
       "      <th></th>\n",
       "      <th>customerid</th>\n",
       "      <th>age</th>\n",
       "      <th>salary</th>\n",
       "      <th>balance</th>\n",
       "      <th>day</th>\n",
       "      <th>duration</th>\n",
       "      <th>campaign</th>\n",
       "      <th>pdays</th>\n",
       "      <th>previous</th>\n",
       "    </tr>\n",
       "  </thead>\n",
       "  <tbody>\n",
       "    <tr>\n",
       "      <th>customerid</th>\n",
       "      <td>1.000000</td>\n",
       "      <td>0.014922</td>\n",
       "      <td>0.040025</td>\n",
       "      <td>0.073639</td>\n",
       "      <td>-0.061465</td>\n",
       "      <td>0.802619</td>\n",
       "      <td>-0.102884</td>\n",
       "      <td>0.437729</td>\n",
       "      <td>0.271098</td>\n",
       "    </tr>\n",
       "    <tr>\n",
       "      <th>age</th>\n",
       "      <td>0.014922</td>\n",
       "      <td>1.000000</td>\n",
       "      <td>0.026259</td>\n",
       "      <td>0.097753</td>\n",
       "      <td>-0.009185</td>\n",
       "      <td>0.017357</td>\n",
       "      <td>0.004851</td>\n",
       "      <td>-0.023795</td>\n",
       "      <td>0.001302</td>\n",
       "    </tr>\n",
       "    <tr>\n",
       "      <th>salary</th>\n",
       "      <td>0.040025</td>\n",
       "      <td>0.026259</td>\n",
       "      <td>1.000000</td>\n",
       "      <td>0.056423</td>\n",
       "      <td>0.027710</td>\n",
       "      <td>0.097384</td>\n",
       "      <td>0.015314</td>\n",
       "      <td>-0.015569</td>\n",
       "      <td>0.014187</td>\n",
       "    </tr>\n",
       "    <tr>\n",
       "      <th>balance</th>\n",
       "      <td>0.073639</td>\n",
       "      <td>0.097753</td>\n",
       "      <td>0.056423</td>\n",
       "      <td>1.000000</td>\n",
       "      <td>0.004503</td>\n",
       "      <td>0.050401</td>\n",
       "      <td>-0.014578</td>\n",
       "      <td>0.003435</td>\n",
       "      <td>0.016674</td>\n",
       "    </tr>\n",
       "    <tr>\n",
       "      <th>day</th>\n",
       "      <td>-0.061465</td>\n",
       "      <td>-0.009185</td>\n",
       "      <td>0.027710</td>\n",
       "      <td>0.004503</td>\n",
       "      <td>1.000000</td>\n",
       "      <td>0.093673</td>\n",
       "      <td>0.162490</td>\n",
       "      <td>-0.093044</td>\n",
       "      <td>-0.051710</td>\n",
       "    </tr>\n",
       "    <tr>\n",
       "      <th>duration</th>\n",
       "      <td>0.802619</td>\n",
       "      <td>0.017357</td>\n",
       "      <td>0.097384</td>\n",
       "      <td>0.050401</td>\n",
       "      <td>0.093673</td>\n",
       "      <td>1.000000</td>\n",
       "      <td>-0.003334</td>\n",
       "      <td>0.277210</td>\n",
       "      <td>0.169741</td>\n",
       "    </tr>\n",
       "    <tr>\n",
       "      <th>campaign</th>\n",
       "      <td>-0.102884</td>\n",
       "      <td>0.004851</td>\n",
       "      <td>0.015314</td>\n",
       "      <td>-0.014578</td>\n",
       "      <td>0.162490</td>\n",
       "      <td>-0.003334</td>\n",
       "      <td>1.000000</td>\n",
       "      <td>-0.088628</td>\n",
       "      <td>-0.032855</td>\n",
       "    </tr>\n",
       "    <tr>\n",
       "      <th>pdays</th>\n",
       "      <td>0.437729</td>\n",
       "      <td>-0.023795</td>\n",
       "      <td>-0.015569</td>\n",
       "      <td>0.003435</td>\n",
       "      <td>-0.093044</td>\n",
       "      <td>0.277210</td>\n",
       "      <td>-0.088628</td>\n",
       "      <td>1.000000</td>\n",
       "      <td>0.454820</td>\n",
       "    </tr>\n",
       "    <tr>\n",
       "      <th>previous</th>\n",
       "      <td>0.271098</td>\n",
       "      <td>0.001302</td>\n",
       "      <td>0.014187</td>\n",
       "      <td>0.016674</td>\n",
       "      <td>-0.051710</td>\n",
       "      <td>0.169741</td>\n",
       "      <td>-0.032855</td>\n",
       "      <td>0.454820</td>\n",
       "      <td>1.000000</td>\n",
       "    </tr>\n",
       "  </tbody>\n",
       "</table>\n",
       "</div>"
      ],
      "text/plain": [
       "            customerid       age    salary   balance       day  duration  \\\n",
       "customerid    1.000000  0.014922  0.040025  0.073639 -0.061465  0.802619   \n",
       "age           0.014922  1.000000  0.026259  0.097753 -0.009185  0.017357   \n",
       "salary        0.040025  0.026259  1.000000  0.056423  0.027710  0.097384   \n",
       "balance       0.073639  0.097753  0.056423  1.000000  0.004503  0.050401   \n",
       "day          -0.061465 -0.009185  0.027710  0.004503  1.000000  0.093673   \n",
       "duration      0.802619  0.017357  0.097384  0.050401  0.093673  1.000000   \n",
       "campaign     -0.102884  0.004851  0.015314 -0.014578  0.162490 -0.003334   \n",
       "pdays         0.437729 -0.023795 -0.015569  0.003435 -0.093044  0.277210   \n",
       "previous      0.271098  0.001302  0.014187  0.016674 -0.051710  0.169741   \n",
       "\n",
       "            campaign     pdays  previous  \n",
       "customerid -0.102884  0.437729  0.271098  \n",
       "age         0.004851 -0.023795  0.001302  \n",
       "salary      0.015314 -0.015569  0.014187  \n",
       "balance    -0.014578  0.003435  0.016674  \n",
       "day         0.162490 -0.093044 -0.051710  \n",
       "duration   -0.003334  0.277210  0.169741  \n",
       "campaign    1.000000 -0.088628 -0.032855  \n",
       "pdays      -0.088628  1.000000  0.454820  \n",
       "previous   -0.032855  0.454820  1.000000  "
      ]
     },
     "execution_count": 107,
     "metadata": {},
     "output_type": "execute_result"
    }
   ],
   "source": [
    "df.corr()"
   ]
  },
  {
   "cell_type": "code",
   "execution_count": 108,
   "id": "c0ae9a35",
   "metadata": {},
   "outputs": [
    {
     "data": {
      "text/plain": [
       "<AxesSubplot:>"
      ]
     },
     "execution_count": 108,
     "metadata": {},
     "output_type": "execute_result"
    },
    {
     "data": {
      "image/png": "[encoded data removed]",
      "text/plain": [
       "<Figure size 576x504 with 2 Axes>"
      ]
     },
     "metadata": {
      "needs_background": "light"
     },
     "output_type": "display_data"
    }
   ],
   "source": [
    "# Using a heatmap to visualize the correlation bw the variables\n",
    "plt.figure(figsize=(8,7))\n",
    "sns.set_palette(\"tab10\")\n",
    "\n",
    "sns.heatmap(df.corr(),annot=True,cmap=\"PiYG\")"
   ]
  },
  {
   "cell_type": "code",
   "execution_count": 109,
   "id": "308db297",
   "metadata": {},
   "outputs": [
    {
     "data": {
      "text/plain": [
       "customerid  customerid    1.000000\n",
       "            age           0.014922\n",
       "            salary        0.040025\n",
       "            balance       0.073639\n",
       "            day          -0.061465\n",
       "                            ...   \n",
       "previous    day          -0.051710\n",
       "            duration      0.169741\n",
       "            campaign     -0.032855\n",
       "            pdays         0.454820\n",
       "            previous      1.000000\n",
       "Length: 81, dtype: float64"
      ]
     },
     "execution_count": 109,
     "metadata": {},
     "output_type": "execute_result"
    }
   ],
   "source": [
    "df.corr().unstack()"
   ]
  },
  {
   "cell_type": "markdown",
   "id": "49d1b834",
   "metadata": {},
   "source": [
    "**From the above we can conclude:**\n",
    "   - Age and salary are not co-related. (-0.5<r<0.5)\n",
    "   - Age and call duration are not co-related. (-0.5<r<0.5)\n",
    "   - Salary and balance are not co-related. (-0.5<r<0.5)"
   ]
  },
  {
   "cell_type": "markdown",
   "id": "9a67df69",
   "metadata": {},
   "source": [
    "***2.\tWhat is the mean age and duration time of the customers with respect to every column?***"
   ]
  },
  {
   "cell_type": "code",
   "execution_count": 110,
   "id": "940d9a24",
   "metadata": {},
   "outputs": [
    {
     "name": "stdout",
     "output_type": "stream",
     "text": [
      "marital\n",
      "divorced    45.776263\n",
      "married     43.406886\n",
      "single      33.703753\n",
      "Name: age, dtype: float64\n",
      "marital\n",
      "divorced    175.236413\n",
      "married     178.272955\n",
      "single      188.700551\n",
      "Name: duration, dtype: float64\n",
      "****************\n",
      "jobedu\n",
      "admin.,primary             46.100478\n",
      "admin.,secondary           39.276843\n",
      "admin.,tertiary            35.090909\n",
      "admin.,unknown             45.356725\n",
      "blue-collar,primary        42.289250\n",
      "blue-collar,secondary      38.341650\n",
      "blue-collar,tertiary       36.664430\n",
      "blue-collar,unknown        42.680617\n",
      "entrepreneur,primary       44.360656\n",
      "entrepreneur,secondary     41.570111\n",
      "entrepreneur,tertiary      41.706997\n",
      "entrepreneur,unknown       45.671053\n",
      "housemaid,primary          48.631579\n",
      "housemaid,secondary        43.858228\n",
      "housemaid,tertiary         42.450867\n",
      "housemaid,unknown          52.866667\n",
      "management,primary         48.605442\n",
      "management,secondary       42.040143\n",
      "management,tertiary        39.735547\n",
      "management,unknown         46.123967\n",
      "retired,primary            62.698113\n",
      "retired,secondary          60.058943\n",
      "retired,tertiary           62.035519\n",
      "retired,unknown            66.008403\n",
      "self-employed,primary      45.276923\n",
      "self-employed,secondary    41.512998\n",
      "self-employed,tertiary     38.845138\n",
      "self-employed,unknown      43.948718\n",
      "services,primary           43.756522\n",
      "services,secondary         38.240960\n",
      "services,tertiary          36.277228\n",
      "services,unknown           42.160000\n",
      "student,primary            22.636364\n",
      "student,secondary          25.779528\n",
      "student,tertiary           28.215247\n",
      "student,unknown            27.687117\n",
      "technician,primary         47.189873\n",
      "technician,secondary       39.576018\n",
      "technician,tertiary        37.458841\n",
      "technician,unknown         43.595041\n",
      "unemployed,primary         43.085603\n",
      "unemployed,secondary       41.409341\n",
      "unemployed,tertiary        37.788927\n",
      "unemployed,unknown         42.620690\n",
      "unknown,primary            47.000000\n",
      "unknown,secondary          44.436620\n",
      "unknown,tertiary           47.076923\n",
      "unknown,unknown            49.755906\n",
      "Name: age, dtype: float64\n",
      "jobedu\n",
      "admin.,primary             151.708852\n",
      "admin.,secondary           174.740294\n",
      "admin.,tertiary            212.990297\n",
      "admin.,unknown             163.442982\n",
      "blue-collar,primary        142.782557\n",
      "blue-collar,secondary      152.816124\n",
      "blue-collar,tertiary       181.765772\n",
      "blue-collar,unknown        128.717841\n",
      "entrepreneur,primary       165.632787\n",
      "entrepreneur,secondary     177.186255\n",
      "entrepreneur,tertiary      180.937172\n",
      "entrepreneur,unknown       136.051974\n",
      "housemaid,primary          169.310048\n",
      "housemaid,secondary        188.228354\n",
      "housemaid,tertiary         200.175434\n",
      "housemaid,unknown          169.746667\n",
      "management,primary         156.244898\n",
      "management,secondary       185.676316\n",
      "management,tertiary        208.590892\n",
      "management,unknown         165.551653\n",
      "retired,primary            197.725283\n",
      "retired,secondary          195.533384\n",
      "retired,tertiary           211.212705\n",
      "retired,unknown            217.865546\n",
      "self-employed,primary      162.288462\n",
      "self-employed,secondary    178.267071\n",
      "self-employed,tertiary     202.460384\n",
      "self-employed,unknown      182.030769\n",
      "services,primary           159.827826\n",
      "services,secondary         164.115924\n",
      "services,tertiary          182.226238\n",
      "services,unknown           173.739000\n",
      "student,primary            237.668182\n",
      "student,secondary          227.655709\n",
      "student,tertiary           223.020404\n",
      "student,unknown            229.509202\n",
      "technician,primary         142.421203\n",
      "technician,secondary       190.174613\n",
      "technician,tertiary        205.705488\n",
      "technician,unknown         145.401446\n",
      "unemployed,primary         186.102140\n",
      "unemployed,secondary       193.312088\n",
      "unemployed,tertiary        216.596886\n",
      "unemployed,unknown         225.600000\n",
      "unknown,primary            125.126471\n",
      "unknown,secondary          174.245070\n",
      "unknown,tertiary           175.450000\n",
      "unknown,unknown            153.894094\n",
      "Name: duration, dtype: float64\n",
      "****************\n",
      "targeted\n",
      "no     38.364778\n",
      "yes    41.497425\n",
      "Name: age, dtype: float64\n",
      "targeted\n",
      "no     195.826071\n",
      "yes    177.599648\n",
      "Name: duration, dtype: float64\n",
      "****************\n",
      "default\n",
      "no     40.960762\n",
      "yes    39.520245\n",
      "Name: age, dtype: float64\n",
      "default\n",
      "no     181.361961\n",
      "yes    154.246196\n",
      "Name: duration, dtype: float64\n",
      "****************\n",
      "housing\n",
      "no     43.137892\n",
      "yes    39.174333\n",
      "Name: age, dtype: float64\n",
      "housing\n",
      "no     206.030046\n",
      "yes    160.770669\n",
      "Name: duration, dtype: float64\n",
      "****************\n",
      "loan\n",
      "no     41.007638\n",
      "yes    40.553009\n",
      "Name: age, dtype: float64\n",
      "loan\n",
      "no     183.032262\n",
      "yes    169.556923\n",
      "Name: duration, dtype: float64\n",
      "****************\n",
      "contact\n",
      "cellular     40.399010\n",
      "telephone    47.837922\n",
      "unknown      40.599155\n",
      "Name: age, dtype: float64\n",
      "contact\n",
      "cellular     249.826063\n",
      "telephone    245.897746\n",
      "unknown       11.268906\n",
      "Name: duration, dtype: float64\n",
      "****************\n",
      "month\n",
      "apr, 2017    39.760491\n",
      "aug, 2017    42.891987\n",
      "dec, 2017    44.457944\n",
      "feb, 2017    40.886621\n",
      "jan, 2017    40.503566\n",
      "jul, 2017    41.008711\n",
      "jun, 2017    42.440112\n",
      "mar, 2017    42.918067\n",
      "may, 2017    38.892440\n",
      "nov, 2017    42.058972\n",
      "oct, 2017    45.891599\n",
      "sep, 2017    44.029514\n",
      "Name: age, dtype: float64\n",
      "month\n",
      "apr, 2017    261.000000\n",
      "aug, 2017    261.000000\n",
      "dec, 2017    261.000000\n",
      "feb, 2017    261.000000\n",
      "jan, 2017    261.000000\n",
      "jul, 2017    198.700523\n",
      "jun, 2017     45.481350\n",
      "mar, 2017    261.000000\n",
      "may, 2017    112.873309\n",
      "nov, 2017    261.000000\n",
      "oct, 2017    261.000000\n",
      "sep, 2017    261.000000\n",
      "Name: duration, dtype: float64\n",
      "****************\n",
      "poutcome\n",
      "failure    40.787186\n",
      "other      39.752174\n",
      "success    42.941099\n",
      "unknown    40.931221\n",
      "Name: age, dtype: float64\n",
      "poutcome\n",
      "failure    261.00000\n",
      "other      261.00000\n",
      "success    261.00000\n",
      "unknown    162.98288\n",
      "Name: duration, dtype: float64\n",
      "****************\n",
      "response\n",
      "no     40.837996\n",
      "yes    41.666162\n",
      "Name: age, dtype: float64\n",
      "response\n",
      "no     173.815942\n",
      "yes    234.155391\n",
      "Name: duration, dtype: float64\n",
      "****************\n",
      "job\n",
      "admin.           39.290659\n",
      "blue-collar      40.042746\n",
      "entrepreneur     42.186281\n",
      "housemaid        46.402419\n",
      "management       40.447875\n",
      "retired          61.617933\n",
      "self-employed    40.475617\n",
      "services         38.745065\n",
      "student          26.542644\n",
      "technician       39.313940\n",
      "unemployed       40.963929\n",
      "unknown          47.593750\n",
      "Name: age, dtype: float64\n",
      "job\n",
      "admin.           177.666921\n",
      "blue-collar      148.260712\n",
      "entrepreneur     175.392468\n",
      "housemaid        179.658508\n",
      "management       203.146564\n",
      "retired          200.011617\n",
      "self-employed    189.807663\n",
      "services         164.987939\n",
      "student          227.345469\n",
      "technician       191.778485\n",
      "unemployed       197.773101\n",
      "unknown          156.735937\n",
      "Name: duration, dtype: float64\n",
      "****************\n",
      "edu\n",
      "primary      45.862940\n",
      "secondary    39.962676\n",
      "tertiary     39.592963\n",
      "unknown      44.510501\n",
      "Name: age, dtype: float64\n",
      "edu\n",
      "primary      156.369515\n",
      "secondary    175.084969\n",
      "tertiary     206.123479\n",
      "unknown      162.734976\n",
      "Name: duration, dtype: float64\n",
      "****************\n"
     ]
    }
   ],
   "source": [
    "cat=df_cat.columns\n",
    "num=df_num.columns\n",
    "\n",
    "def mean_age(categ_col):\n",
    "    return df.groupby(categ_col)['age'].mean()\n",
    "def mean_duration(categ_col):\n",
    "    return df.groupby(categ_col)['duration'].mean()\n",
    "\n",
    "for val in cat:\n",
    "    print(mean_age(val))\n",
    "    print(mean_duration(val))\n",
    "    print(\"****************\")"
   ]
  },
  {
   "cell_type": "code",
   "execution_count": 111,
   "id": "427d9f4a",
   "metadata": {},
   "outputs": [
    {
     "data": {
      "text/plain": [
       "40.934794629625536"
      ]
     },
     "execution_count": 111,
     "metadata": {},
     "output_type": "execute_result"
    }
   ],
   "source": [
    "df['age'].mean()"
   ]
  },
  {
   "cell_type": "code",
   "execution_count": 112,
   "id": "cb752b44",
   "metadata": {},
   "outputs": [
    {
     "data": {
      "text/plain": [
       "customerid    0.014922\n",
       "age           1.000000\n",
       "salary        0.026259\n",
       "balance       0.097753\n",
       "day          -0.009185\n",
       "duration      0.017357\n",
       "campaign      0.004851\n",
       "pdays        -0.023795\n",
       "previous      0.001302\n",
       "Name: age, dtype: float64"
      ]
     },
     "execution_count": 112,
     "metadata": {},
     "output_type": "execute_result"
    }
   ],
   "source": [
    "df.corr().age"
   ]
  },
  {
   "cell_type": "code",
   "execution_count": 113,
   "id": "bf279103",
   "metadata": {},
   "outputs": [
    {
     "data": {
      "text/plain": [
       "response\n",
       "no     40.837996\n",
       "yes    41.666162\n",
       "Name: age, dtype: float64"
      ]
     },
     "execution_count": 113,
     "metadata": {},
     "output_type": "execute_result"
    }
   ],
   "source": [
    "df.groupby('response')['age'].mean()"
   ]
  },
  {
   "cell_type": "code",
   "execution_count": 114,
   "id": "e080a1f5",
   "metadata": {},
   "outputs": [
    {
     "data": {
      "text/plain": [
       "response\n",
       "no     39.0\n",
       "yes    38.0\n",
       "Name: age, dtype: float64"
      ]
     },
     "execution_count": 114,
     "metadata": {},
     "output_type": "execute_result"
    }
   ],
   "source": [
    "df.groupby('response')['age'].median()"
   ]
  },
  {
   "cell_type": "markdown",
   "id": "89e525cd",
   "metadata": {},
   "source": [
    "***3.\tFind the mean and median of every column response wise and draw the observations.***"
   ]
  },
  {
   "cell_type": "code",
   "execution_count": 115,
   "id": "d58e1a27",
   "metadata": {},
   "outputs": [
    {
     "data": {
      "application/vnd.jupyter.widget-view+json": {
       "model_id": "ccbfa9bd21dd442c9212d3b4ca8a906d",
       "version_major": 2,
       "version_minor": 0
      },
      "text/plain": [
       "interactive(children=(Dropdown(description='col1', options=('customerid', 'age', 'salary', 'balance', 'day', '…"
      ]
     },
     "metadata": {},
     "output_type": "display_data"
    }
   ],
   "source": [
    "@interact\n",
    "def response_wise(col1=df_num.columns):\n",
    "    return pd.DataFrame(df.groupby('response')[col1].mean())"
   ]
  },
  {
   "cell_type": "code",
   "execution_count": 116,
   "id": "bdddd38f",
   "metadata": {},
   "outputs": [
    {
     "data": {
      "application/vnd.jupyter.widget-view+json": {
       "model_id": "6e71b51bef774fa394105077f6ef9f82",
       "version_major": 2,
       "version_minor": 0
      },
      "text/plain": [
       "interactive(children=(Dropdown(description='col1', options=('customerid', 'age', 'salary', 'balance', 'day', '…"
      ]
     },
     "metadata": {},
     "output_type": "display_data"
    }
   ],
   "source": [
    "@interact\n",
    "def response_wise(col1=df_num.columns):\n",
    "    return pd.DataFrame(df.groupby('response')[col1].median())"
   ]
  },
  {
   "cell_type": "markdown",
   "id": "6c22411b",
   "metadata": {},
   "source": [
    "***4.\tFind the probabilities with respect to the job role and education with customer responses.***"
   ]
  },
  {
   "cell_type": "code",
   "execution_count": 117,
   "id": "6f6a733b",
   "metadata": {},
   "outputs": [
    {
     "data": {
      "text/html": [
       "<div>\n",
       "<style scoped>\n",
       "    .dataframe tbody tr th:only-of-type {\n",
       "        vertical-align: middle;\n",
       "    }\n",
       "\n",
       "    .dataframe tbody tr th {\n",
       "        vertical-align: top;\n",
       "    }\n",
       "\n",
       "    .dataframe thead th {\n",
       "        text-align: right;\n",
       "    }\n",
       "</style>\n",
       "<table border=\"1\" class=\"dataframe\">\n",
       "  <thead>\n",
       "    <tr style=\"text-align: right;\">\n",
       "      <th>response</th>\n",
       "      <th>no</th>\n",
       "      <th>yes</th>\n",
       "      <th>All</th>\n",
       "    </tr>\n",
       "    <tr>\n",
       "      <th>job</th>\n",
       "      <th></th>\n",
       "      <th></th>\n",
       "      <th></th>\n",
       "    </tr>\n",
       "  </thead>\n",
       "  <tbody>\n",
       "    <tr>\n",
       "      <th>admin.</th>\n",
       "      <td>4536</td>\n",
       "      <td>630</td>\n",
       "      <td>5166</td>\n",
       "    </tr>\n",
       "    <tr>\n",
       "      <th>blue-collar</th>\n",
       "      <td>9019</td>\n",
       "      <td>708</td>\n",
       "      <td>9727</td>\n",
       "    </tr>\n",
       "    <tr>\n",
       "      <th>entrepreneur</th>\n",
       "      <td>1363</td>\n",
       "      <td>123</td>\n",
       "      <td>1486</td>\n",
       "    </tr>\n",
       "    <tr>\n",
       "      <th>housemaid</th>\n",
       "      <td>1130</td>\n",
       "      <td>109</td>\n",
       "      <td>1239</td>\n",
       "    </tr>\n",
       "    <tr>\n",
       "      <th>management</th>\n",
       "      <td>8153</td>\n",
       "      <td>1301</td>\n",
       "      <td>9454</td>\n",
       "    </tr>\n",
       "    <tr>\n",
       "      <th>retired</th>\n",
       "      <td>1747</td>\n",
       "      <td>516</td>\n",
       "      <td>2263</td>\n",
       "    </tr>\n",
       "    <tr>\n",
       "      <th>self-employed</th>\n",
       "      <td>1389</td>\n",
       "      <td>186</td>\n",
       "      <td>1575</td>\n",
       "    </tr>\n",
       "    <tr>\n",
       "      <th>services</th>\n",
       "      <td>3781</td>\n",
       "      <td>369</td>\n",
       "      <td>4150</td>\n",
       "    </tr>\n",
       "    <tr>\n",
       "      <th>student</th>\n",
       "      <td>669</td>\n",
       "      <td>269</td>\n",
       "      <td>938</td>\n",
       "    </tr>\n",
       "    <tr>\n",
       "      <th>technician</th>\n",
       "      <td>6752</td>\n",
       "      <td>840</td>\n",
       "      <td>7592</td>\n",
       "    </tr>\n",
       "    <tr>\n",
       "      <th>unemployed</th>\n",
       "      <td>1101</td>\n",
       "      <td>202</td>\n",
       "      <td>1303</td>\n",
       "    </tr>\n",
       "    <tr>\n",
       "      <th>unknown</th>\n",
       "      <td>254</td>\n",
       "      <td>34</td>\n",
       "      <td>288</td>\n",
       "    </tr>\n",
       "    <tr>\n",
       "      <th>All</th>\n",
       "      <td>39894</td>\n",
       "      <td>5287</td>\n",
       "      <td>45181</td>\n",
       "    </tr>\n",
       "  </tbody>\n",
       "</table>\n",
       "</div>"
      ],
      "text/plain": [
       "response          no   yes    All\n",
       "job                              \n",
       "admin.          4536   630   5166\n",
       "blue-collar     9019   708   9727\n",
       "entrepreneur    1363   123   1486\n",
       "housemaid       1130   109   1239\n",
       "management      8153  1301   9454\n",
       "retired         1747   516   2263\n",
       "self-employed   1389   186   1575\n",
       "services        3781   369   4150\n",
       "student          669   269    938\n",
       "technician      6752   840   7592\n",
       "unemployed      1101   202   1303\n",
       "unknown          254    34    288\n",
       "All            39894  5287  45181"
      ]
     },
     "execution_count": 117,
     "metadata": {},
     "output_type": "execute_result"
    }
   ],
   "source": [
    "pd.crosstab(df['job'],df['response'],margins=True)"
   ]
  },
  {
   "cell_type": "code",
   "execution_count": 118,
   "id": "9537bd10",
   "metadata": {},
   "outputs": [],
   "source": [
    "job_prob=np.round(pd.crosstab(df['job'],df['response'],margins=True)/len(df),2)"
   ]
  },
  {
   "cell_type": "code",
   "execution_count": 119,
   "id": "741905ba",
   "metadata": {},
   "outputs": [
    {
     "data": {
      "text/plain": [
       "45211"
      ]
     },
     "execution_count": 119,
     "metadata": {},
     "output_type": "execute_result"
    }
   ],
   "source": [
    "len(df)"
   ]
  },
  {
   "cell_type": "code",
   "execution_count": 120,
   "id": "4c14e09a",
   "metadata": {},
   "outputs": [
    {
     "data": {
      "text/html": [
       "<div>\n",
       "<style scoped>\n",
       "    .dataframe tbody tr th:only-of-type {\n",
       "        vertical-align: middle;\n",
       "    }\n",
       "\n",
       "    .dataframe tbody tr th {\n",
       "        vertical-align: top;\n",
       "    }\n",
       "\n",
       "    .dataframe thead th {\n",
       "        text-align: right;\n",
       "    }\n",
       "</style>\n",
       "<table border=\"1\" class=\"dataframe\">\n",
       "  <thead>\n",
       "    <tr style=\"text-align: right;\">\n",
       "      <th>response</th>\n",
       "      <th>no</th>\n",
       "      <th>yes</th>\n",
       "      <th>All</th>\n",
       "    </tr>\n",
       "    <tr>\n",
       "      <th>job</th>\n",
       "      <th></th>\n",
       "      <th></th>\n",
       "      <th></th>\n",
       "    </tr>\n",
       "  </thead>\n",
       "  <tbody>\n",
       "    <tr>\n",
       "      <th>admin.</th>\n",
       "      <td>0.10</td>\n",
       "      <td>0.01</td>\n",
       "      <td>0.11</td>\n",
       "    </tr>\n",
       "    <tr>\n",
       "      <th>blue-collar</th>\n",
       "      <td>0.20</td>\n",
       "      <td>0.02</td>\n",
       "      <td>0.22</td>\n",
       "    </tr>\n",
       "    <tr>\n",
       "      <th>entrepreneur</th>\n",
       "      <td>0.03</td>\n",
       "      <td>0.00</td>\n",
       "      <td>0.03</td>\n",
       "    </tr>\n",
       "    <tr>\n",
       "      <th>housemaid</th>\n",
       "      <td>0.02</td>\n",
       "      <td>0.00</td>\n",
       "      <td>0.03</td>\n",
       "    </tr>\n",
       "    <tr>\n",
       "      <th>management</th>\n",
       "      <td>0.18</td>\n",
       "      <td>0.03</td>\n",
       "      <td>0.21</td>\n",
       "    </tr>\n",
       "    <tr>\n",
       "      <th>retired</th>\n",
       "      <td>0.04</td>\n",
       "      <td>0.01</td>\n",
       "      <td>0.05</td>\n",
       "    </tr>\n",
       "    <tr>\n",
       "      <th>self-employed</th>\n",
       "      <td>0.03</td>\n",
       "      <td>0.00</td>\n",
       "      <td>0.03</td>\n",
       "    </tr>\n",
       "    <tr>\n",
       "      <th>services</th>\n",
       "      <td>0.08</td>\n",
       "      <td>0.01</td>\n",
       "      <td>0.09</td>\n",
       "    </tr>\n",
       "    <tr>\n",
       "      <th>student</th>\n",
       "      <td>0.01</td>\n",
       "      <td>0.01</td>\n",
       "      <td>0.02</td>\n",
       "    </tr>\n",
       "    <tr>\n",
       "      <th>technician</th>\n",
       "      <td>0.15</td>\n",
       "      <td>0.02</td>\n",
       "      <td>0.17</td>\n",
       "    </tr>\n",
       "    <tr>\n",
       "      <th>unemployed</th>\n",
       "      <td>0.02</td>\n",
       "      <td>0.00</td>\n",
       "      <td>0.03</td>\n",
       "    </tr>\n",
       "    <tr>\n",
       "      <th>unknown</th>\n",
       "      <td>0.01</td>\n",
       "      <td>0.00</td>\n",
       "      <td>0.01</td>\n",
       "    </tr>\n",
       "    <tr>\n",
       "      <th>All</th>\n",
       "      <td>0.88</td>\n",
       "      <td>0.12</td>\n",
       "      <td>1.00</td>\n",
       "    </tr>\n",
       "  </tbody>\n",
       "</table>\n",
       "</div>"
      ],
      "text/plain": [
       "response         no   yes   All\n",
       "job                            \n",
       "admin.         0.10  0.01  0.11\n",
       "blue-collar    0.20  0.02  0.22\n",
       "entrepreneur   0.03  0.00  0.03\n",
       "housemaid      0.02  0.00  0.03\n",
       "management     0.18  0.03  0.21\n",
       "retired        0.04  0.01  0.05\n",
       "self-employed  0.03  0.00  0.03\n",
       "services       0.08  0.01  0.09\n",
       "student        0.01  0.01  0.02\n",
       "technician     0.15  0.02  0.17\n",
       "unemployed     0.02  0.00  0.03\n",
       "unknown        0.01  0.00  0.01\n",
       "All            0.88  0.12  1.00"
      ]
     },
     "execution_count": 120,
     "metadata": {},
     "output_type": "execute_result"
    }
   ],
   "source": [
    "job_prob"
   ]
  },
  {
   "cell_type": "markdown",
   "id": "83b6b796",
   "metadata": {},
   "source": [
    "- The above crosstable shows that customers in management and blue-collar roles have a higher response rate.\n",
    "- Blue-collar roled customers have the highest negative response.\n",
    "- Management roled customers have the highest positive response."
   ]
  },
  {
   "cell_type": "code",
   "execution_count": 121,
   "id": "f8c4c38e",
   "metadata": {},
   "outputs": [
    {
     "data": {
      "text/plain": [
       "0.22"
      ]
     },
     "execution_count": 121,
     "metadata": {},
     "output_type": "execute_result"
    }
   ],
   "source": [
    "#p(yes)\n",
    "p_yes=job_prob.All['blue-collar']\n",
    "p_yes"
   ]
  },
  {
   "cell_type": "code",
   "execution_count": 122,
   "id": "205dfa7b",
   "metadata": {},
   "outputs": [
    {
     "data": {
      "text/html": [
       "<div>\n",
       "<style scoped>\n",
       "    .dataframe tbody tr th:only-of-type {\n",
       "        vertical-align: middle;\n",
       "    }\n",
       "\n",
       "    .dataframe tbody tr th {\n",
       "        vertical-align: top;\n",
       "    }\n",
       "\n",
       "    .dataframe thead th {\n",
       "        text-align: right;\n",
       "    }\n",
       "</style>\n",
       "<table border=\"1\" class=\"dataframe\">\n",
       "  <thead>\n",
       "    <tr style=\"text-align: right;\">\n",
       "      <th>response</th>\n",
       "      <th>no</th>\n",
       "      <th>yes</th>\n",
       "      <th>All</th>\n",
       "    </tr>\n",
       "    <tr>\n",
       "      <th>job</th>\n",
       "      <th></th>\n",
       "      <th></th>\n",
       "      <th></th>\n",
       "    </tr>\n",
       "  </thead>\n",
       "  <tbody>\n",
       "    <tr>\n",
       "      <th>admin.</th>\n",
       "      <td>0.10</td>\n",
       "      <td>0.01</td>\n",
       "      <td>0.11</td>\n",
       "    </tr>\n",
       "    <tr>\n",
       "      <th>blue-collar</th>\n",
       "      <td>0.20</td>\n",
       "      <td>0.02</td>\n",
       "      <td>0.22</td>\n",
       "    </tr>\n",
       "    <tr>\n",
       "      <th>entrepreneur</th>\n",
       "      <td>0.03</td>\n",
       "      <td>0.00</td>\n",
       "      <td>0.03</td>\n",
       "    </tr>\n",
       "    <tr>\n",
       "      <th>housemaid</th>\n",
       "      <td>0.02</td>\n",
       "      <td>0.00</td>\n",
       "      <td>0.03</td>\n",
       "    </tr>\n",
       "    <tr>\n",
       "      <th>management</th>\n",
       "      <td>0.18</td>\n",
       "      <td>0.03</td>\n",
       "      <td>0.21</td>\n",
       "    </tr>\n",
       "    <tr>\n",
       "      <th>retired</th>\n",
       "      <td>0.04</td>\n",
       "      <td>0.01</td>\n",
       "      <td>0.05</td>\n",
       "    </tr>\n",
       "    <tr>\n",
       "      <th>self-employed</th>\n",
       "      <td>0.03</td>\n",
       "      <td>0.00</td>\n",
       "      <td>0.03</td>\n",
       "    </tr>\n",
       "    <tr>\n",
       "      <th>services</th>\n",
       "      <td>0.08</td>\n",
       "      <td>0.01</td>\n",
       "      <td>0.09</td>\n",
       "    </tr>\n",
       "    <tr>\n",
       "      <th>student</th>\n",
       "      <td>0.01</td>\n",
       "      <td>0.01</td>\n",
       "      <td>0.02</td>\n",
       "    </tr>\n",
       "    <tr>\n",
       "      <th>technician</th>\n",
       "      <td>0.15</td>\n",
       "      <td>0.02</td>\n",
       "      <td>0.17</td>\n",
       "    </tr>\n",
       "    <tr>\n",
       "      <th>unemployed</th>\n",
       "      <td>0.02</td>\n",
       "      <td>0.00</td>\n",
       "      <td>0.03</td>\n",
       "    </tr>\n",
       "    <tr>\n",
       "      <th>unknown</th>\n",
       "      <td>0.01</td>\n",
       "      <td>0.00</td>\n",
       "      <td>0.01</td>\n",
       "    </tr>\n",
       "    <tr>\n",
       "      <th>All</th>\n",
       "      <td>0.88</td>\n",
       "      <td>0.12</td>\n",
       "      <td>1.00</td>\n",
       "    </tr>\n",
       "  </tbody>\n",
       "</table>\n",
       "</div>"
      ],
      "text/plain": [
       "response         no   yes   All\n",
       "job                            \n",
       "admin.         0.10  0.01  0.11\n",
       "blue-collar    0.20  0.02  0.22\n",
       "entrepreneur   0.03  0.00  0.03\n",
       "housemaid      0.02  0.00  0.03\n",
       "management     0.18  0.03  0.21\n",
       "retired        0.04  0.01  0.05\n",
       "self-employed  0.03  0.00  0.03\n",
       "services       0.08  0.01  0.09\n",
       "student        0.01  0.01  0.02\n",
       "technician     0.15  0.02  0.17\n",
       "unemployed     0.02  0.00  0.03\n",
       "unknown        0.01  0.00  0.01\n",
       "All            0.88  0.12  1.00"
      ]
     },
     "execution_count": 122,
     "metadata": {},
     "output_type": "execute_result"
    }
   ],
   "source": [
    "job_prob"
   ]
  },
  {
   "cell_type": "code",
   "execution_count": 123,
   "id": "99ba3945",
   "metadata": {},
   "outputs": [
    {
     "data": {
      "text/html": [
       "<div>\n",
       "<style scoped>\n",
       "    .dataframe tbody tr th:only-of-type {\n",
       "        vertical-align: middle;\n",
       "    }\n",
       "\n",
       "    .dataframe tbody tr th {\n",
       "        vertical-align: top;\n",
       "    }\n",
       "\n",
       "    .dataframe thead th {\n",
       "        text-align: right;\n",
       "    }\n",
       "</style>\n",
       "<table border=\"1\" class=\"dataframe\">\n",
       "  <thead>\n",
       "    <tr style=\"text-align: right;\">\n",
       "      <th>response</th>\n",
       "      <th>no</th>\n",
       "      <th>yes</th>\n",
       "      <th>All</th>\n",
       "    </tr>\n",
       "    <tr>\n",
       "      <th>edu</th>\n",
       "      <th></th>\n",
       "      <th></th>\n",
       "      <th></th>\n",
       "    </tr>\n",
       "  </thead>\n",
       "  <tbody>\n",
       "    <tr>\n",
       "      <th>primary</th>\n",
       "      <td>6253</td>\n",
       "      <td>591</td>\n",
       "      <td>6844</td>\n",
       "    </tr>\n",
       "    <tr>\n",
       "      <th>secondary</th>\n",
       "      <td>20740</td>\n",
       "      <td>2449</td>\n",
       "      <td>23189</td>\n",
       "    </tr>\n",
       "    <tr>\n",
       "      <th>tertiary</th>\n",
       "      <td>11297</td>\n",
       "      <td>1995</td>\n",
       "      <td>13292</td>\n",
       "    </tr>\n",
       "    <tr>\n",
       "      <th>unknown</th>\n",
       "      <td>1604</td>\n",
       "      <td>252</td>\n",
       "      <td>1856</td>\n",
       "    </tr>\n",
       "    <tr>\n",
       "      <th>All</th>\n",
       "      <td>39894</td>\n",
       "      <td>5287</td>\n",
       "      <td>45181</td>\n",
       "    </tr>\n",
       "  </tbody>\n",
       "</table>\n",
       "</div>"
      ],
      "text/plain": [
       "response      no   yes    All\n",
       "edu                          \n",
       "primary     6253   591   6844\n",
       "secondary  20740  2449  23189\n",
       "tertiary   11297  1995  13292\n",
       "unknown     1604   252   1856\n",
       "All        39894  5287  45181"
      ]
     },
     "execution_count": 123,
     "metadata": {},
     "output_type": "execute_result"
    }
   ],
   "source": [
    "# probability of edu with customer responses\n",
    "pd.crosstab(df['edu'],df['response'],margins=True)"
   ]
  },
  {
   "cell_type": "code",
   "execution_count": 124,
   "id": "b8309102",
   "metadata": {},
   "outputs": [],
   "source": [
    "prob_edu_response=np.round(pd.crosstab(df['edu'],df['response'],margins=True)/len(df),2)"
   ]
  },
  {
   "cell_type": "code",
   "execution_count": 125,
   "id": "dafb33e2",
   "metadata": {},
   "outputs": [
    {
     "data": {
      "text/html": [
       "<div>\n",
       "<style scoped>\n",
       "    .dataframe tbody tr th:only-of-type {\n",
       "        vertical-align: middle;\n",
       "    }\n",
       "\n",
       "    .dataframe tbody tr th {\n",
       "        vertical-align: top;\n",
       "    }\n",
       "\n",
       "    .dataframe thead th {\n",
       "        text-align: right;\n",
       "    }\n",
       "</style>\n",
       "<table border=\"1\" class=\"dataframe\">\n",
       "  <thead>\n",
       "    <tr style=\"text-align: right;\">\n",
       "      <th>response</th>\n",
       "      <th>no</th>\n",
       "      <th>yes</th>\n",
       "      <th>All</th>\n",
       "    </tr>\n",
       "    <tr>\n",
       "      <th>edu</th>\n",
       "      <th></th>\n",
       "      <th></th>\n",
       "      <th></th>\n",
       "    </tr>\n",
       "  </thead>\n",
       "  <tbody>\n",
       "    <tr>\n",
       "      <th>primary</th>\n",
       "      <td>0.14</td>\n",
       "      <td>0.01</td>\n",
       "      <td>0.15</td>\n",
       "    </tr>\n",
       "    <tr>\n",
       "      <th>secondary</th>\n",
       "      <td>0.46</td>\n",
       "      <td>0.05</td>\n",
       "      <td>0.51</td>\n",
       "    </tr>\n",
       "    <tr>\n",
       "      <th>tertiary</th>\n",
       "      <td>0.25</td>\n",
       "      <td>0.04</td>\n",
       "      <td>0.29</td>\n",
       "    </tr>\n",
       "    <tr>\n",
       "      <th>unknown</th>\n",
       "      <td>0.04</td>\n",
       "      <td>0.01</td>\n",
       "      <td>0.04</td>\n",
       "    </tr>\n",
       "    <tr>\n",
       "      <th>All</th>\n",
       "      <td>0.88</td>\n",
       "      <td>0.12</td>\n",
       "      <td>1.00</td>\n",
       "    </tr>\n",
       "  </tbody>\n",
       "</table>\n",
       "</div>"
      ],
      "text/plain": [
       "response     no   yes   All\n",
       "edu                        \n",
       "primary    0.14  0.01  0.15\n",
       "secondary  0.46  0.05  0.51\n",
       "tertiary   0.25  0.04  0.29\n",
       "unknown    0.04  0.01  0.04\n",
       "All        0.88  0.12  1.00"
      ]
     },
     "execution_count": 125,
     "metadata": {},
     "output_type": "execute_result"
    }
   ],
   "source": [
    "prob_edu_response"
   ]
  },
  {
   "cell_type": "code",
   "execution_count": 126,
   "id": "68306247",
   "metadata": {},
   "outputs": [
    {
     "data": {
      "text/plain": [
       "0.08333333333333334"
      ]
     },
     "execution_count": 126,
     "metadata": {},
     "output_type": "execute_result"
    }
   ],
   "source": [
    "# p(yes|primary)\n",
    "p1=(prob_edu_response.yes.primary)/(prob_edu_response.yes.All)\n",
    "p1"
   ]
  },
  {
   "cell_type": "markdown",
   "id": "7cfbc13e",
   "metadata": {},
   "source": [
    "- The above concludes that  customers with Secondary education give highest number of responses. Both yes and No."
   ]
  },
  {
   "cell_type": "markdown",
   "id": "97cd8d74",
   "metadata": {},
   "source": [
    "***5.\tFind the Best features using correlation and Chi-square test.***"
   ]
  },
  {
   "cell_type": "code",
   "execution_count": 146,
   "id": "39b77d04",
   "metadata": {},
   "outputs": [
    {
     "data": {
      "text/html": [
       "<div>\n",
       "<style scoped>\n",
       "    .dataframe tbody tr th:only-of-type {\n",
       "        vertical-align: middle;\n",
       "    }\n",
       "\n",
       "    .dataframe tbody tr th {\n",
       "        vertical-align: top;\n",
       "    }\n",
       "\n",
       "    .dataframe thead th {\n",
       "        text-align: right;\n",
       "    }\n",
       "</style>\n",
       "<table border=\"1\" class=\"dataframe\">\n",
       "  <thead>\n",
       "    <tr style=\"text-align: right;\">\n",
       "      <th></th>\n",
       "      <th>customerid</th>\n",
       "      <th>age</th>\n",
       "      <th>salary</th>\n",
       "      <th>balance</th>\n",
       "      <th>day</th>\n",
       "      <th>duration</th>\n",
       "      <th>campaign</th>\n",
       "      <th>pdays</th>\n",
       "      <th>previous</th>\n",
       "      <th>age1</th>\n",
       "      <th>age_log</th>\n",
       "      <th>age_sqrt</th>\n",
       "      <th>salary1</th>\n",
       "      <th>salary_sqrt</th>\n",
       "    </tr>\n",
       "  </thead>\n",
       "  <tbody>\n",
       "    <tr>\n",
       "      <th>customerid</th>\n",
       "      <td>1.000000</td>\n",
       "      <td>0.014922</td>\n",
       "      <td>0.040025</td>\n",
       "      <td>0.073639</td>\n",
       "      <td>-0.061465</td>\n",
       "      <td>0.802619</td>\n",
       "      <td>-0.102884</td>\n",
       "      <td>0.437729</td>\n",
       "      <td>0.271098</td>\n",
       "      <td>0.014922</td>\n",
       "      <td>-0.015422</td>\n",
       "      <td>-0.000721</td>\n",
       "      <td>0.040025</td>\n",
       "      <td>0.030227</td>\n",
       "    </tr>\n",
       "    <tr>\n",
       "      <th>age</th>\n",
       "      <td>0.014922</td>\n",
       "      <td>1.000000</td>\n",
       "      <td>0.026259</td>\n",
       "      <td>0.097753</td>\n",
       "      <td>-0.009185</td>\n",
       "      <td>0.017357</td>\n",
       "      <td>0.004851</td>\n",
       "      <td>-0.023795</td>\n",
       "      <td>0.001302</td>\n",
       "      <td>1.000000</td>\n",
       "      <td>0.988030</td>\n",
       "      <td>0.996955</td>\n",
       "      <td>0.026259</td>\n",
       "      <td>0.043653</td>\n",
       "    </tr>\n",
       "    <tr>\n",
       "      <th>salary</th>\n",
       "      <td>0.040025</td>\n",
       "      <td>0.026259</td>\n",
       "      <td>1.000000</td>\n",
       "      <td>0.056423</td>\n",
       "      <td>0.027710</td>\n",
       "      <td>0.097384</td>\n",
       "      <td>0.015314</td>\n",
       "      <td>-0.015569</td>\n",
       "      <td>0.014187</td>\n",
       "      <td>0.026259</td>\n",
       "      <td>0.039682</td>\n",
       "      <td>0.032647</td>\n",
       "      <td>1.000000</td>\n",
       "      <td>0.981998</td>\n",
       "    </tr>\n",
       "    <tr>\n",
       "      <th>balance</th>\n",
       "      <td>0.073639</td>\n",
       "      <td>0.097753</td>\n",
       "      <td>0.056423</td>\n",
       "      <td>1.000000</td>\n",
       "      <td>0.004503</td>\n",
       "      <td>0.050401</td>\n",
       "      <td>-0.014578</td>\n",
       "      <td>0.003435</td>\n",
       "      <td>0.016674</td>\n",
       "      <td>0.097753</td>\n",
       "      <td>0.092612</td>\n",
       "      <td>0.095352</td>\n",
       "      <td>0.056423</td>\n",
       "      <td>0.049198</td>\n",
       "    </tr>\n",
       "    <tr>\n",
       "      <th>day</th>\n",
       "      <td>-0.061465</td>\n",
       "      <td>-0.009185</td>\n",
       "      <td>0.027710</td>\n",
       "      <td>0.004503</td>\n",
       "      <td>1.000000</td>\n",
       "      <td>0.093673</td>\n",
       "      <td>0.162490</td>\n",
       "      <td>-0.093044</td>\n",
       "      <td>-0.051710</td>\n",
       "      <td>-0.009185</td>\n",
       "      <td>-0.007247</td>\n",
       "      <td>-0.008241</td>\n",
       "      <td>0.027710</td>\n",
       "      <td>0.029969</td>\n",
       "    </tr>\n",
       "    <tr>\n",
       "      <th>duration</th>\n",
       "      <td>0.802619</td>\n",
       "      <td>0.017357</td>\n",
       "      <td>0.097384</td>\n",
       "      <td>0.050401</td>\n",
       "      <td>0.093673</td>\n",
       "      <td>1.000000</td>\n",
       "      <td>-0.003334</td>\n",
       "      <td>0.277210</td>\n",
       "      <td>0.169741</td>\n",
       "      <td>0.017357</td>\n",
       "      <td>0.004598</td>\n",
       "      <td>0.010708</td>\n",
       "      <td>0.097384</td>\n",
       "      <td>0.089768</td>\n",
       "    </tr>\n",
       "    <tr>\n",
       "      <th>campaign</th>\n",
       "      <td>-0.102884</td>\n",
       "      <td>0.004851</td>\n",
       "      <td>0.015314</td>\n",
       "      <td>-0.014578</td>\n",
       "      <td>0.162490</td>\n",
       "      <td>-0.003334</td>\n",
       "      <td>1.000000</td>\n",
       "      <td>-0.088628</td>\n",
       "      <td>-0.032855</td>\n",
       "      <td>0.004851</td>\n",
       "      <td>0.011930</td>\n",
       "      <td>0.008451</td>\n",
       "      <td>0.015314</td>\n",
       "      <td>0.014462</td>\n",
       "    </tr>\n",
       "    <tr>\n",
       "      <th>pdays</th>\n",
       "      <td>0.437729</td>\n",
       "      <td>-0.023795</td>\n",
       "      <td>-0.015569</td>\n",
       "      <td>0.003435</td>\n",
       "      <td>-0.093044</td>\n",
       "      <td>0.277210</td>\n",
       "      <td>-0.088628</td>\n",
       "      <td>1.000000</td>\n",
       "      <td>0.454820</td>\n",
       "      <td>-0.023795</td>\n",
       "      <td>-0.024988</td>\n",
       "      <td>-0.024669</td>\n",
       "      <td>-0.015569</td>\n",
       "      <td>-0.013535</td>\n",
       "    </tr>\n",
       "    <tr>\n",
       "      <th>previous</th>\n",
       "      <td>0.271098</td>\n",
       "      <td>0.001302</td>\n",
       "      <td>0.014187</td>\n",
       "      <td>0.016674</td>\n",
       "      <td>-0.051710</td>\n",
       "      <td>0.169741</td>\n",
       "      <td>-0.032855</td>\n",
       "      <td>0.454820</td>\n",
       "      <td>1.000000</td>\n",
       "      <td>0.001302</td>\n",
       "      <td>-0.001734</td>\n",
       "      <td>-0.000390</td>\n",
       "      <td>0.014187</td>\n",
       "      <td>0.013493</td>\n",
       "    </tr>\n",
       "    <tr>\n",
       "      <th>age1</th>\n",
       "      <td>0.014922</td>\n",
       "      <td>1.000000</td>\n",
       "      <td>0.026259</td>\n",
       "      <td>0.097753</td>\n",
       "      <td>-0.009185</td>\n",
       "      <td>0.017357</td>\n",
       "      <td>0.004851</td>\n",
       "      <td>-0.023795</td>\n",
       "      <td>0.001302</td>\n",
       "      <td>1.000000</td>\n",
       "      <td>0.988030</td>\n",
       "      <td>0.996955</td>\n",
       "      <td>0.026259</td>\n",
       "      <td>0.043653</td>\n",
       "    </tr>\n",
       "    <tr>\n",
       "      <th>age_log</th>\n",
       "      <td>-0.015422</td>\n",
       "      <td>0.988030</td>\n",
       "      <td>0.039682</td>\n",
       "      <td>0.092612</td>\n",
       "      <td>-0.007247</td>\n",
       "      <td>0.004598</td>\n",
       "      <td>0.011930</td>\n",
       "      <td>-0.024988</td>\n",
       "      <td>-0.001734</td>\n",
       "      <td>0.988030</td>\n",
       "      <td>1.000000</td>\n",
       "      <td>0.997023</td>\n",
       "      <td>0.039682</td>\n",
       "      <td>0.057936</td>\n",
       "    </tr>\n",
       "    <tr>\n",
       "      <th>age_sqrt</th>\n",
       "      <td>-0.000721</td>\n",
       "      <td>0.996955</td>\n",
       "      <td>0.032647</td>\n",
       "      <td>0.095352</td>\n",
       "      <td>-0.008241</td>\n",
       "      <td>0.010708</td>\n",
       "      <td>0.008451</td>\n",
       "      <td>-0.024669</td>\n",
       "      <td>-0.000390</td>\n",
       "      <td>0.996955</td>\n",
       "      <td>0.997023</td>\n",
       "      <td>1.000000</td>\n",
       "      <td>0.032647</td>\n",
       "      <td>0.050382</td>\n",
       "    </tr>\n",
       "    <tr>\n",
       "      <th>salary1</th>\n",
       "      <td>0.040025</td>\n",
       "      <td>0.026259</td>\n",
       "      <td>1.000000</td>\n",
       "      <td>0.056423</td>\n",
       "      <td>0.027710</td>\n",
       "      <td>0.097384</td>\n",
       "      <td>0.015314</td>\n",
       "      <td>-0.015569</td>\n",
       "      <td>0.014187</td>\n",
       "      <td>0.026259</td>\n",
       "      <td>0.039682</td>\n",
       "      <td>0.032647</td>\n",
       "      <td>1.000000</td>\n",
       "      <td>0.981998</td>\n",
       "    </tr>\n",
       "    <tr>\n",
       "      <th>salary_sqrt</th>\n",
       "      <td>0.030227</td>\n",
       "      <td>0.043653</td>\n",
       "      <td>0.981998</td>\n",
       "      <td>0.049198</td>\n",
       "      <td>0.029969</td>\n",
       "      <td>0.089768</td>\n",
       "      <td>0.014462</td>\n",
       "      <td>-0.013535</td>\n",
       "      <td>0.013493</td>\n",
       "      <td>0.043653</td>\n",
       "      <td>0.057936</td>\n",
       "      <td>0.050382</td>\n",
       "      <td>0.981998</td>\n",
       "      <td>1.000000</td>\n",
       "    </tr>\n",
       "  </tbody>\n",
       "</table>\n",
       "</div>"
      ],
      "text/plain": [
       "             customerid       age    salary   balance       day  duration  \\\n",
       "customerid     1.000000  0.014922  0.040025  0.073639 -0.061465  0.802619   \n",
       "age            0.014922  1.000000  0.026259  0.097753 -0.009185  0.017357   \n",
       "salary         0.040025  0.026259  1.000000  0.056423  0.027710  0.097384   \n",
       "balance        0.073639  0.097753  0.056423  1.000000  0.004503  0.050401   \n",
       "day           -0.061465 -0.009185  0.027710  0.004503  1.000000  0.093673   \n",
       "duration       0.802619  0.017357  0.097384  0.050401  0.093673  1.000000   \n",
       "campaign      -0.102884  0.004851  0.015314 -0.014578  0.162490 -0.003334   \n",
       "pdays          0.437729 -0.023795 -0.015569  0.003435 -0.093044  0.277210   \n",
       "previous       0.271098  0.001302  0.014187  0.016674 -0.051710  0.169741   \n",
       "age1           0.014922  1.000000  0.026259  0.097753 -0.009185  0.017357   \n",
       "age_log       -0.015422  0.988030  0.039682  0.092612 -0.007247  0.004598   \n",
       "age_sqrt      -0.000721  0.996955  0.032647  0.095352 -0.008241  0.010708   \n",
       "salary1        0.040025  0.026259  1.000000  0.056423  0.027710  0.097384   \n",
       "salary_sqrt    0.030227  0.043653  0.981998  0.049198  0.029969  0.089768   \n",
       "\n",
       "             campaign     pdays  previous      age1   age_log  age_sqrt  \\\n",
       "customerid  -0.102884  0.437729  0.271098  0.014922 -0.015422 -0.000721   \n",
       "age          0.004851 -0.023795  0.001302  1.000000  0.988030  0.996955   \n",
       "salary       0.015314 -0.015569  0.014187  0.026259  0.039682  0.032647   \n",
       "balance     -0.014578  0.003435  0.016674  0.097753  0.092612  0.095352   \n",
       "day          0.162490 -0.093044 -0.051710 -0.009185 -0.007247 -0.008241   \n",
       "duration    -0.003334  0.277210  0.169741  0.017357  0.004598  0.010708   \n",
       "campaign     1.000000 -0.088628 -0.032855  0.004851  0.011930  0.008451   \n",
       "pdays       -0.088628  1.000000  0.454820 -0.023795 -0.024988 -0.024669   \n",
       "previous    -0.032855  0.454820  1.000000  0.001302 -0.001734 -0.000390   \n",
       "age1         0.004851 -0.023795  0.001302  1.000000  0.988030  0.996955   \n",
       "age_log      0.011930 -0.024988 -0.001734  0.988030  1.000000  0.997023   \n",
       "age_sqrt     0.008451 -0.024669 -0.000390  0.996955  0.997023  1.000000   \n",
       "salary1      0.015314 -0.015569  0.014187  0.026259  0.039682  0.032647   \n",
       "salary_sqrt  0.014462 -0.013535  0.013493  0.043653  0.057936  0.050382   \n",
       "\n",
       "              salary1  salary_sqrt  \n",
       "customerid   0.040025     0.030227  \n",
       "age          0.026259     0.043653  \n",
       "salary       1.000000     0.981998  \n",
       "balance      0.056423     0.049198  \n",
       "day          0.027710     0.029969  \n",
       "duration     0.097384     0.089768  \n",
       "campaign     0.015314     0.014462  \n",
       "pdays       -0.015569    -0.013535  \n",
       "previous     0.014187     0.013493  \n",
       "age1         0.026259     0.043653  \n",
       "age_log      0.039682     0.057936  \n",
       "age_sqrt     0.032647     0.050382  \n",
       "salary1      1.000000     0.981998  \n",
       "salary_sqrt  0.981998     1.000000  "
      ]
     },
     "execution_count": 146,
     "metadata": {},
     "output_type": "execute_result"
    }
   ],
   "source": [
    "df.corr()"
   ]
  },
  {
   "cell_type": "code",
   "execution_count": 150,
   "id": "66770fba",
   "metadata": {},
   "outputs": [],
   "source": [
    "from scipy import stats"
   ]
  },
  {
   "cell_type": "code",
   "execution_count": 151,
   "id": "3c1135f9",
   "metadata": {},
   "outputs": [],
   "source": [
    "def chisquare_test(data,col1,col2):\n",
    "    _,p_val,_,_ = stats.chi2_contingency(pd.crosstab(data[col1],data[col2]))\n",
    "    if p_val <= 0.05:\n",
    "        return '{} and {} are dependent'.format(col1,col2)\n",
    "    else:\n",
    "        return '{} and {} are independent'.format(col1,col2)   "
   ]
  },
  {
   "cell_type": "code",
   "execution_count": 162,
   "id": "a02e08c1",
   "metadata": {},
   "outputs": [
    {
     "data": {
      "text/html": [
       "<div>\n",
       "<style scoped>\n",
       "    .dataframe tbody tr th:only-of-type {\n",
       "        vertical-align: middle;\n",
       "    }\n",
       "\n",
       "    .dataframe tbody tr th {\n",
       "        vertical-align: top;\n",
       "    }\n",
       "\n",
       "    .dataframe thead th {\n",
       "        text-align: right;\n",
       "    }\n",
       "</style>\n",
       "<table border=\"1\" class=\"dataframe\">\n",
       "  <thead>\n",
       "    <tr style=\"text-align: right;\">\n",
       "      <th></th>\n",
       "      <th>customerid</th>\n",
       "      <th>age</th>\n",
       "      <th>salary</th>\n",
       "      <th>balance</th>\n",
       "      <th>marital</th>\n",
       "      <th>jobedu</th>\n",
       "      <th>targeted</th>\n",
       "      <th>default</th>\n",
       "      <th>housing</th>\n",
       "      <th>loan</th>\n",
       "      <th>...</th>\n",
       "      <th>day</th>\n",
       "      <th>month</th>\n",
       "      <th>duration</th>\n",
       "      <th>campaign</th>\n",
       "      <th>pdays</th>\n",
       "      <th>previous</th>\n",
       "      <th>poutcome</th>\n",
       "      <th>response</th>\n",
       "      <th>job</th>\n",
       "      <th>edu</th>\n",
       "    </tr>\n",
       "  </thead>\n",
       "  <tbody>\n",
       "    <tr>\n",
       "      <th>0</th>\n",
       "      <td>1.0</td>\n",
       "      <td>58.0</td>\n",
       "      <td>100000.0</td>\n",
       "      <td>2143.0</td>\n",
       "      <td>married</td>\n",
       "      <td>management,tertiary</td>\n",
       "      <td>yes</td>\n",
       "      <td>no</td>\n",
       "      <td>yes</td>\n",
       "      <td>no</td>\n",
       "      <td>...</td>\n",
       "      <td>5.0</td>\n",
       "      <td>may, 2017</td>\n",
       "      <td>4.35</td>\n",
       "      <td>1.0</td>\n",
       "      <td>-1.0</td>\n",
       "      <td>0.0</td>\n",
       "      <td>unknown</td>\n",
       "      <td>no</td>\n",
       "      <td>management</td>\n",
       "      <td>tertiary</td>\n",
       "    </tr>\n",
       "    <tr>\n",
       "      <th>1</th>\n",
       "      <td>2.0</td>\n",
       "      <td>44.0</td>\n",
       "      <td>60000.0</td>\n",
       "      <td>29.0</td>\n",
       "      <td>single</td>\n",
       "      <td>technician,secondary</td>\n",
       "      <td>yes</td>\n",
       "      <td>no</td>\n",
       "      <td>yes</td>\n",
       "      <td>no</td>\n",
       "      <td>...</td>\n",
       "      <td>5.0</td>\n",
       "      <td>may, 2017</td>\n",
       "      <td>4.35</td>\n",
       "      <td>1.0</td>\n",
       "      <td>-1.0</td>\n",
       "      <td>0.0</td>\n",
       "      <td>unknown</td>\n",
       "      <td>no</td>\n",
       "      <td>technician</td>\n",
       "      <td>secondary</td>\n",
       "    </tr>\n",
       "    <tr>\n",
       "      <th>2</th>\n",
       "      <td>3.0</td>\n",
       "      <td>33.0</td>\n",
       "      <td>120000.0</td>\n",
       "      <td>2.0</td>\n",
       "      <td>married</td>\n",
       "      <td>entrepreneur,secondary</td>\n",
       "      <td>yes</td>\n",
       "      <td>no</td>\n",
       "      <td>yes</td>\n",
       "      <td>yes</td>\n",
       "      <td>...</td>\n",
       "      <td>5.0</td>\n",
       "      <td>may, 2017</td>\n",
       "      <td>4.35</td>\n",
       "      <td>1.0</td>\n",
       "      <td>-1.0</td>\n",
       "      <td>0.0</td>\n",
       "      <td>unknown</td>\n",
       "      <td>no</td>\n",
       "      <td>entrepreneur</td>\n",
       "      <td>secondary</td>\n",
       "    </tr>\n",
       "    <tr>\n",
       "      <th>3</th>\n",
       "      <td>4.0</td>\n",
       "      <td>47.0</td>\n",
       "      <td>20000.0</td>\n",
       "      <td>1506.0</td>\n",
       "      <td>married</td>\n",
       "      <td>blue-collar,unknown</td>\n",
       "      <td>no</td>\n",
       "      <td>no</td>\n",
       "      <td>yes</td>\n",
       "      <td>no</td>\n",
       "      <td>...</td>\n",
       "      <td>5.0</td>\n",
       "      <td>may, 2017</td>\n",
       "      <td>4.35</td>\n",
       "      <td>1.0</td>\n",
       "      <td>-1.0</td>\n",
       "      <td>0.0</td>\n",
       "      <td>unknown</td>\n",
       "      <td>no</td>\n",
       "      <td>blue-collar</td>\n",
       "      <td>unknown</td>\n",
       "    </tr>\n",
       "    <tr>\n",
       "      <th>4</th>\n",
       "      <td>5.0</td>\n",
       "      <td>33.0</td>\n",
       "      <td>0.0</td>\n",
       "      <td>1.0</td>\n",
       "      <td>single</td>\n",
       "      <td>unknown,unknown</td>\n",
       "      <td>no</td>\n",
       "      <td>no</td>\n",
       "      <td>no</td>\n",
       "      <td>no</td>\n",
       "      <td>...</td>\n",
       "      <td>5.0</td>\n",
       "      <td>may, 2017</td>\n",
       "      <td>4.35</td>\n",
       "      <td>1.0</td>\n",
       "      <td>-1.0</td>\n",
       "      <td>0.0</td>\n",
       "      <td>unknown</td>\n",
       "      <td>no</td>\n",
       "      <td>unknown</td>\n",
       "      <td>unknown</td>\n",
       "    </tr>\n",
       "    <tr>\n",
       "      <th>...</th>\n",
       "      <td>...</td>\n",
       "      <td>...</td>\n",
       "      <td>...</td>\n",
       "      <td>...</td>\n",
       "      <td>...</td>\n",
       "      <td>...</td>\n",
       "      <td>...</td>\n",
       "      <td>...</td>\n",
       "      <td>...</td>\n",
       "      <td>...</td>\n",
       "      <td>...</td>\n",
       "      <td>...</td>\n",
       "      <td>...</td>\n",
       "      <td>...</td>\n",
       "      <td>...</td>\n",
       "      <td>...</td>\n",
       "      <td>...</td>\n",
       "      <td>...</td>\n",
       "      <td>...</td>\n",
       "      <td>...</td>\n",
       "      <td>...</td>\n",
       "    </tr>\n",
       "    <tr>\n",
       "      <th>45206</th>\n",
       "      <td>45207.0</td>\n",
       "      <td>51.0</td>\n",
       "      <td>60000.0</td>\n",
       "      <td>825.0</td>\n",
       "      <td>married</td>\n",
       "      <td>technician,tertiary</td>\n",
       "      <td>yes</td>\n",
       "      <td>no</td>\n",
       "      <td>no</td>\n",
       "      <td>no</td>\n",
       "      <td>...</td>\n",
       "      <td>17.0</td>\n",
       "      <td>nov, 2017</td>\n",
       "      <td>261.00</td>\n",
       "      <td>3.0</td>\n",
       "      <td>-1.0</td>\n",
       "      <td>0.0</td>\n",
       "      <td>unknown</td>\n",
       "      <td>yes</td>\n",
       "      <td>technician</td>\n",
       "      <td>tertiary</td>\n",
       "    </tr>\n",
       "    <tr>\n",
       "      <th>45207</th>\n",
       "      <td>45208.0</td>\n",
       "      <td>71.0</td>\n",
       "      <td>55000.0</td>\n",
       "      <td>1729.0</td>\n",
       "      <td>divorced</td>\n",
       "      <td>retired,primary</td>\n",
       "      <td>yes</td>\n",
       "      <td>no</td>\n",
       "      <td>no</td>\n",
       "      <td>no</td>\n",
       "      <td>...</td>\n",
       "      <td>17.0</td>\n",
       "      <td>nov, 2017</td>\n",
       "      <td>261.00</td>\n",
       "      <td>2.0</td>\n",
       "      <td>-1.0</td>\n",
       "      <td>0.0</td>\n",
       "      <td>unknown</td>\n",
       "      <td>yes</td>\n",
       "      <td>retired</td>\n",
       "      <td>primary</td>\n",
       "    </tr>\n",
       "    <tr>\n",
       "      <th>45208</th>\n",
       "      <td>45209.0</td>\n",
       "      <td>72.0</td>\n",
       "      <td>55000.0</td>\n",
       "      <td>5715.0</td>\n",
       "      <td>married</td>\n",
       "      <td>retired,secondary</td>\n",
       "      <td>yes</td>\n",
       "      <td>no</td>\n",
       "      <td>no</td>\n",
       "      <td>no</td>\n",
       "      <td>...</td>\n",
       "      <td>17.0</td>\n",
       "      <td>nov, 2017</td>\n",
       "      <td>261.00</td>\n",
       "      <td>5.0</td>\n",
       "      <td>184.0</td>\n",
       "      <td>3.0</td>\n",
       "      <td>success</td>\n",
       "      <td>yes</td>\n",
       "      <td>retired</td>\n",
       "      <td>secondary</td>\n",
       "    </tr>\n",
       "    <tr>\n",
       "      <th>45209</th>\n",
       "      <td>45210.0</td>\n",
       "      <td>57.0</td>\n",
       "      <td>20000.0</td>\n",
       "      <td>668.0</td>\n",
       "      <td>married</td>\n",
       "      <td>blue-collar,secondary</td>\n",
       "      <td>yes</td>\n",
       "      <td>no</td>\n",
       "      <td>no</td>\n",
       "      <td>no</td>\n",
       "      <td>...</td>\n",
       "      <td>17.0</td>\n",
       "      <td>nov, 2017</td>\n",
       "      <td>261.00</td>\n",
       "      <td>4.0</td>\n",
       "      <td>-1.0</td>\n",
       "      <td>0.0</td>\n",
       "      <td>unknown</td>\n",
       "      <td>no</td>\n",
       "      <td>blue-collar</td>\n",
       "      <td>secondary</td>\n",
       "    </tr>\n",
       "    <tr>\n",
       "      <th>45210</th>\n",
       "      <td>45211.0</td>\n",
       "      <td>37.0</td>\n",
       "      <td>120000.0</td>\n",
       "      <td>2971.0</td>\n",
       "      <td>married</td>\n",
       "      <td>entrepreneur,secondary</td>\n",
       "      <td>yes</td>\n",
       "      <td>no</td>\n",
       "      <td>no</td>\n",
       "      <td>no</td>\n",
       "      <td>...</td>\n",
       "      <td>17.0</td>\n",
       "      <td>nov, 2017</td>\n",
       "      <td>261.00</td>\n",
       "      <td>2.0</td>\n",
       "      <td>188.0</td>\n",
       "      <td>11.0</td>\n",
       "      <td>other</td>\n",
       "      <td>no</td>\n",
       "      <td>entrepreneur</td>\n",
       "      <td>secondary</td>\n",
       "    </tr>\n",
       "  </tbody>\n",
       "</table>\n",
       "<p>45211 rows × 21 columns</p>\n",
       "</div>"
      ],
      "text/plain": [
       "       customerid   age    salary  balance   marital                  jobedu  \\\n",
       "0             1.0  58.0  100000.0   2143.0   married     management,tertiary   \n",
       "1             2.0  44.0   60000.0     29.0    single    technician,secondary   \n",
       "2             3.0  33.0  120000.0      2.0   married  entrepreneur,secondary   \n",
       "3             4.0  47.0   20000.0   1506.0   married     blue-collar,unknown   \n",
       "4             5.0  33.0       0.0      1.0    single         unknown,unknown   \n",
       "...           ...   ...       ...      ...       ...                     ...   \n",
       "45206     45207.0  51.0   60000.0    825.0   married     technician,tertiary   \n",
       "45207     45208.0  71.0   55000.0   1729.0  divorced         retired,primary   \n",
       "45208     45209.0  72.0   55000.0   5715.0   married       retired,secondary   \n",
       "45209     45210.0  57.0   20000.0    668.0   married   blue-collar,secondary   \n",
       "45210     45211.0  37.0  120000.0   2971.0   married  entrepreneur,secondary   \n",
       "\n",
       "      targeted default housing loan  ...   day      month duration  campaign  \\\n",
       "0          yes      no     yes   no  ...   5.0  may, 2017     4.35       1.0   \n",
       "1          yes      no     yes   no  ...   5.0  may, 2017     4.35       1.0   \n",
       "2          yes      no     yes  yes  ...   5.0  may, 2017     4.35       1.0   \n",
       "3           no      no     yes   no  ...   5.0  may, 2017     4.35       1.0   \n",
       "4           no      no      no   no  ...   5.0  may, 2017     4.35       1.0   \n",
       "...        ...     ...     ...  ...  ...   ...        ...      ...       ...   \n",
       "45206      yes      no      no   no  ...  17.0  nov, 2017   261.00       3.0   \n",
       "45207      yes      no      no   no  ...  17.0  nov, 2017   261.00       2.0   \n",
       "45208      yes      no      no   no  ...  17.0  nov, 2017   261.00       5.0   \n",
       "45209      yes      no      no   no  ...  17.0  nov, 2017   261.00       4.0   \n",
       "45210      yes      no      no   no  ...  17.0  nov, 2017   261.00       2.0   \n",
       "\n",
       "       pdays  previous  poutcome response           job        edu  \n",
       "0       -1.0       0.0   unknown       no    management   tertiary  \n",
       "1       -1.0       0.0   unknown       no    technician  secondary  \n",
       "2       -1.0       0.0   unknown       no  entrepreneur  secondary  \n",
       "3       -1.0       0.0   unknown       no   blue-collar    unknown  \n",
       "4       -1.0       0.0   unknown       no       unknown    unknown  \n",
       "...      ...       ...       ...      ...           ...        ...  \n",
       "45206   -1.0       0.0   unknown      yes    technician   tertiary  \n",
       "45207   -1.0       0.0   unknown      yes       retired    primary  \n",
       "45208  184.0       3.0   success      yes       retired  secondary  \n",
       "45209   -1.0       0.0   unknown       no   blue-collar  secondary  \n",
       "45210  188.0      11.0     other       no  entrepreneur  secondary  \n",
       "\n",
       "[45211 rows x 21 columns]"
      ]
     },
     "execution_count": 162,
     "metadata": {},
     "output_type": "execute_result"
    }
   ],
   "source": [
    "df1=pd.DataFrame(df.copy())\n",
    "df1.drop(['age1', 'age_log', 'age_sqrt', 'salary1','salary_sqrt'], axis=1, inplace=True)\n",
    "df1"
   ]
  },
  {
   "cell_type": "code",
   "execution_count": 165,
   "id": "ac42260c",
   "metadata": {},
   "outputs": [
    {
     "data": {
      "text/html": [
       "<div>\n",
       "<style scoped>\n",
       "    .dataframe tbody tr th:only-of-type {\n",
       "        vertical-align: middle;\n",
       "    }\n",
       "\n",
       "    .dataframe tbody tr th {\n",
       "        vertical-align: top;\n",
       "    }\n",
       "\n",
       "    .dataframe thead th {\n",
       "        text-align: right;\n",
       "    }\n",
       "</style>\n",
       "<table border=\"1\" class=\"dataframe\">\n",
       "  <thead>\n",
       "    <tr style=\"text-align: right;\">\n",
       "      <th></th>\n",
       "      <th>customerid</th>\n",
       "      <th>age</th>\n",
       "      <th>salary</th>\n",
       "      <th>balance</th>\n",
       "      <th>marital</th>\n",
       "      <th>jobedu</th>\n",
       "      <th>targeted</th>\n",
       "      <th>default</th>\n",
       "      <th>housing</th>\n",
       "      <th>loan</th>\n",
       "      <th>...</th>\n",
       "      <th>day</th>\n",
       "      <th>month</th>\n",
       "      <th>duration</th>\n",
       "      <th>campaign</th>\n",
       "      <th>pdays</th>\n",
       "      <th>previous</th>\n",
       "      <th>poutcome</th>\n",
       "      <th>response</th>\n",
       "      <th>job</th>\n",
       "      <th>edu</th>\n",
       "    </tr>\n",
       "  </thead>\n",
       "  <tbody>\n",
       "    <tr>\n",
       "      <th>22237</th>\n",
       "      <td>22238.0</td>\n",
       "      <td>45.0</td>\n",
       "      <td>100000.0</td>\n",
       "      <td>0.0</td>\n",
       "      <td>married</td>\n",
       "      <td>management,tertiary</td>\n",
       "      <td>yes</td>\n",
       "      <td>no</td>\n",
       "      <td>no</td>\n",
       "      <td>no</td>\n",
       "      <td>...</td>\n",
       "      <td>21.0</td>\n",
       "      <td>aug, 2017</td>\n",
       "      <td>261.00</td>\n",
       "      <td>2.0</td>\n",
       "      <td>-1.0</td>\n",
       "      <td>0.0</td>\n",
       "      <td>unknown</td>\n",
       "      <td>no</td>\n",
       "      <td>management</td>\n",
       "      <td>tertiary</td>\n",
       "    </tr>\n",
       "    <tr>\n",
       "      <th>13151</th>\n",
       "      <td>13152.0</td>\n",
       "      <td>42.0</td>\n",
       "      <td>100000.0</td>\n",
       "      <td>478.0</td>\n",
       "      <td>married</td>\n",
       "      <td>management,tertiary</td>\n",
       "      <td>yes</td>\n",
       "      <td>no</td>\n",
       "      <td>no</td>\n",
       "      <td>yes</td>\n",
       "      <td>...</td>\n",
       "      <td>8.0</td>\n",
       "      <td>jul, 2017</td>\n",
       "      <td>4.35</td>\n",
       "      <td>1.0</td>\n",
       "      <td>-1.0</td>\n",
       "      <td>0.0</td>\n",
       "      <td>unknown</td>\n",
       "      <td>no</td>\n",
       "      <td>management</td>\n",
       "      <td>tertiary</td>\n",
       "    </tr>\n",
       "    <tr>\n",
       "      <th>6849</th>\n",
       "      <td>6850.0</td>\n",
       "      <td>30.0</td>\n",
       "      <td>20000.0</td>\n",
       "      <td>-518.0</td>\n",
       "      <td>married</td>\n",
       "      <td>blue-collar,primary</td>\n",
       "      <td>yes</td>\n",
       "      <td>no</td>\n",
       "      <td>yes</td>\n",
       "      <td>yes</td>\n",
       "      <td>...</td>\n",
       "      <td>28.0</td>\n",
       "      <td>may, 2017</td>\n",
       "      <td>4.35</td>\n",
       "      <td>6.0</td>\n",
       "      <td>-1.0</td>\n",
       "      <td>0.0</td>\n",
       "      <td>unknown</td>\n",
       "      <td>no</td>\n",
       "      <td>blue-collar</td>\n",
       "      <td>primary</td>\n",
       "    </tr>\n",
       "    <tr>\n",
       "      <th>8480</th>\n",
       "      <td>8481.0</td>\n",
       "      <td>39.0</td>\n",
       "      <td>20000.0</td>\n",
       "      <td>572.0</td>\n",
       "      <td>married</td>\n",
       "      <td>blue-collar,primary</td>\n",
       "      <td>yes</td>\n",
       "      <td>no</td>\n",
       "      <td>yes</td>\n",
       "      <td>yes</td>\n",
       "      <td>...</td>\n",
       "      <td>3.0</td>\n",
       "      <td>jun, 2017</td>\n",
       "      <td>4.35</td>\n",
       "      <td>1.0</td>\n",
       "      <td>-1.0</td>\n",
       "      <td>0.0</td>\n",
       "      <td>unknown</td>\n",
       "      <td>no</td>\n",
       "      <td>blue-collar</td>\n",
       "      <td>primary</td>\n",
       "    </tr>\n",
       "    <tr>\n",
       "      <th>40504</th>\n",
       "      <td>40505.0</td>\n",
       "      <td>37.0</td>\n",
       "      <td>100000.0</td>\n",
       "      <td>3737.0</td>\n",
       "      <td>married</td>\n",
       "      <td>management,tertiary</td>\n",
       "      <td>yes</td>\n",
       "      <td>no</td>\n",
       "      <td>no</td>\n",
       "      <td>no</td>\n",
       "      <td>...</td>\n",
       "      <td>7.0</td>\n",
       "      <td>jul, 2017</td>\n",
       "      <td>261.00</td>\n",
       "      <td>1.0</td>\n",
       "      <td>-1.0</td>\n",
       "      <td>0.0</td>\n",
       "      <td>unknown</td>\n",
       "      <td>yes</td>\n",
       "      <td>management</td>\n",
       "      <td>tertiary</td>\n",
       "    </tr>\n",
       "    <tr>\n",
       "      <th>...</th>\n",
       "      <td>...</td>\n",
       "      <td>...</td>\n",
       "      <td>...</td>\n",
       "      <td>...</td>\n",
       "      <td>...</td>\n",
       "      <td>...</td>\n",
       "      <td>...</td>\n",
       "      <td>...</td>\n",
       "      <td>...</td>\n",
       "      <td>...</td>\n",
       "      <td>...</td>\n",
       "      <td>...</td>\n",
       "      <td>...</td>\n",
       "      <td>...</td>\n",
       "      <td>...</td>\n",
       "      <td>...</td>\n",
       "      <td>...</td>\n",
       "      <td>...</td>\n",
       "      <td>...</td>\n",
       "      <td>...</td>\n",
       "      <td>...</td>\n",
       "    </tr>\n",
       "    <tr>\n",
       "      <th>30423</th>\n",
       "      <td>30424.0</td>\n",
       "      <td>28.0</td>\n",
       "      <td>60000.0</td>\n",
       "      <td>440.0</td>\n",
       "      <td>single</td>\n",
       "      <td>technician,secondary</td>\n",
       "      <td>yes</td>\n",
       "      <td>no</td>\n",
       "      <td>no</td>\n",
       "      <td>yes</td>\n",
       "      <td>...</td>\n",
       "      <td>5.0</td>\n",
       "      <td>feb, 2017</td>\n",
       "      <td>261.00</td>\n",
       "      <td>2.0</td>\n",
       "      <td>-1.0</td>\n",
       "      <td>0.0</td>\n",
       "      <td>unknown</td>\n",
       "      <td>no</td>\n",
       "      <td>technician</td>\n",
       "      <td>secondary</td>\n",
       "    </tr>\n",
       "    <tr>\n",
       "      <th>9616</th>\n",
       "      <td>9617.0</td>\n",
       "      <td>48.0</td>\n",
       "      <td>50000.0</td>\n",
       "      <td>2662.0</td>\n",
       "      <td>divorced</td>\n",
       "      <td>admin.,secondary</td>\n",
       "      <td>yes</td>\n",
       "      <td>no</td>\n",
       "      <td>no</td>\n",
       "      <td>no</td>\n",
       "      <td>...</td>\n",
       "      <td>6.0</td>\n",
       "      <td>jun, 2017</td>\n",
       "      <td>4.35</td>\n",
       "      <td>2.0</td>\n",
       "      <td>-1.0</td>\n",
       "      <td>0.0</td>\n",
       "      <td>unknown</td>\n",
       "      <td>no</td>\n",
       "      <td>admin.</td>\n",
       "      <td>secondary</td>\n",
       "    </tr>\n",
       "    <tr>\n",
       "      <th>19597</th>\n",
       "      <td>19598.0</td>\n",
       "      <td>37.0</td>\n",
       "      <td>100000.0</td>\n",
       "      <td>200.0</td>\n",
       "      <td>single</td>\n",
       "      <td>management,tertiary</td>\n",
       "      <td>no</td>\n",
       "      <td>no</td>\n",
       "      <td>no</td>\n",
       "      <td>no</td>\n",
       "      <td>...</td>\n",
       "      <td>7.0</td>\n",
       "      <td>aug, 2017</td>\n",
       "      <td>261.00</td>\n",
       "      <td>4.0</td>\n",
       "      <td>-1.0</td>\n",
       "      <td>0.0</td>\n",
       "      <td>unknown</td>\n",
       "      <td>no</td>\n",
       "      <td>management</td>\n",
       "      <td>tertiary</td>\n",
       "    </tr>\n",
       "    <tr>\n",
       "      <th>26990</th>\n",
       "      <td>26991.0</td>\n",
       "      <td>33.0</td>\n",
       "      <td>50000.0</td>\n",
       "      <td>-1011.0</td>\n",
       "      <td>married</td>\n",
       "      <td>admin.,tertiary</td>\n",
       "      <td>yes</td>\n",
       "      <td>no</td>\n",
       "      <td>no</td>\n",
       "      <td>no</td>\n",
       "      <td>...</td>\n",
       "      <td>21.0</td>\n",
       "      <td>nov, 2017</td>\n",
       "      <td>261.00</td>\n",
       "      <td>1.0</td>\n",
       "      <td>-1.0</td>\n",
       "      <td>0.0</td>\n",
       "      <td>unknown</td>\n",
       "      <td>no</td>\n",
       "      <td>admin.</td>\n",
       "      <td>tertiary</td>\n",
       "    </tr>\n",
       "    <tr>\n",
       "      <th>39096</th>\n",
       "      <td>39097.0</td>\n",
       "      <td>32.0</td>\n",
       "      <td>20000.0</td>\n",
       "      <td>12198.0</td>\n",
       "      <td>single</td>\n",
       "      <td>blue-collar,primary</td>\n",
       "      <td>yes</td>\n",
       "      <td>no</td>\n",
       "      <td>yes</td>\n",
       "      <td>no</td>\n",
       "      <td>...</td>\n",
       "      <td>18.0</td>\n",
       "      <td>may, 2017</td>\n",
       "      <td>261.00</td>\n",
       "      <td>1.0</td>\n",
       "      <td>-1.0</td>\n",
       "      <td>0.0</td>\n",
       "      <td>unknown</td>\n",
       "      <td>yes</td>\n",
       "      <td>blue-collar</td>\n",
       "      <td>primary</td>\n",
       "    </tr>\n",
       "  </tbody>\n",
       "</table>\n",
       "<p>100 rows × 21 columns</p>\n",
       "</div>"
      ],
      "text/plain": [
       "       customerid   age    salary  balance   marital                jobedu  \\\n",
       "22237     22238.0  45.0  100000.0      0.0   married   management,tertiary   \n",
       "13151     13152.0  42.0  100000.0    478.0   married   management,tertiary   \n",
       "6849       6850.0  30.0   20000.0   -518.0   married   blue-collar,primary   \n",
       "8480       8481.0  39.0   20000.0    572.0   married   blue-collar,primary   \n",
       "40504     40505.0  37.0  100000.0   3737.0   married   management,tertiary   \n",
       "...           ...   ...       ...      ...       ...                   ...   \n",
       "30423     30424.0  28.0   60000.0    440.0    single  technician,secondary   \n",
       "9616       9617.0  48.0   50000.0   2662.0  divorced      admin.,secondary   \n",
       "19597     19598.0  37.0  100000.0    200.0    single   management,tertiary   \n",
       "26990     26991.0  33.0   50000.0  -1011.0   married       admin.,tertiary   \n",
       "39096     39097.0  32.0   20000.0  12198.0    single   blue-collar,primary   \n",
       "\n",
       "      targeted default housing loan  ...   day      month duration  campaign  \\\n",
       "22237      yes      no      no   no  ...  21.0  aug, 2017   261.00       2.0   \n",
       "13151      yes      no      no  yes  ...   8.0  jul, 2017     4.35       1.0   \n",
       "6849       yes      no     yes  yes  ...  28.0  may, 2017     4.35       6.0   \n",
       "8480       yes      no     yes  yes  ...   3.0  jun, 2017     4.35       1.0   \n",
       "40504      yes      no      no   no  ...   7.0  jul, 2017   261.00       1.0   \n",
       "...        ...     ...     ...  ...  ...   ...        ...      ...       ...   \n",
       "30423      yes      no      no  yes  ...   5.0  feb, 2017   261.00       2.0   \n",
       "9616       yes      no      no   no  ...   6.0  jun, 2017     4.35       2.0   \n",
       "19597       no      no      no   no  ...   7.0  aug, 2017   261.00       4.0   \n",
       "26990      yes      no      no   no  ...  21.0  nov, 2017   261.00       1.0   \n",
       "39096      yes      no     yes   no  ...  18.0  may, 2017   261.00       1.0   \n",
       "\n",
       "       pdays  previous  poutcome response          job        edu  \n",
       "22237   -1.0       0.0   unknown       no   management   tertiary  \n",
       "13151   -1.0       0.0   unknown       no   management   tertiary  \n",
       "6849    -1.0       0.0   unknown       no  blue-collar    primary  \n",
       "8480    -1.0       0.0   unknown       no  blue-collar    primary  \n",
       "40504   -1.0       0.0   unknown      yes   management   tertiary  \n",
       "...      ...       ...       ...      ...          ...        ...  \n",
       "30423   -1.0       0.0   unknown       no   technician  secondary  \n",
       "9616    -1.0       0.0   unknown       no       admin.  secondary  \n",
       "19597   -1.0       0.0   unknown       no   management   tertiary  \n",
       "26990   -1.0       0.0   unknown       no       admin.   tertiary  \n",
       "39096   -1.0       0.0   unknown      yes  blue-collar    primary  \n",
       "\n",
       "[100 rows x 21 columns]"
      ]
     },
     "execution_count": 165,
     "metadata": {},
     "output_type": "execute_result"
    }
   ],
   "source": [
    "a=df1.sample(100)\n",
    "a"
   ]
  },
  {
   "cell_type": "code",
   "execution_count": 169,
   "id": "9688ca11",
   "metadata": {},
   "outputs": [
    {
     "name": "stdout",
     "output_type": "stream",
     "text": [
      "response and customerid are independent\n",
      "response and age are independent\n",
      "response and salary are dependent\n",
      "response and balance are independent\n",
      "response and marital are independent\n",
      "response and jobedu are dependent\n",
      "response and targeted are independent\n",
      "response and default are independent\n",
      "response and housing are independent\n",
      "response and loan are independent\n",
      "response and contact are independent\n",
      "response and day are independent\n",
      "response and month are dependent\n",
      "response and duration are dependent\n",
      "response and campaign are independent\n",
      "response and pdays are dependent\n",
      "response and previous are independent\n",
      "response and poutcome are dependent\n",
      "response and response are dependent\n",
      "response and job are dependent\n",
      "response and edu are independent\n"
     ]
    }
   ],
   "source": [
    "for col1 in a.columns:\n",
    "        print(chisquare_test(a,'response',col1))"
   ]
  },
  {
   "cell_type": "code",
   "execution_count": null,
   "id": "f9023161",
   "metadata": {},
   "outputs": [],
   "source": []
  },
  {
   "cell_type": "markdown",
   "id": "ef2181dc",
   "metadata": {},
   "source": [
    "***6.\tFind the relation of salary and age column using statistical tests and draw the observations from it.***"
   ]
  },
  {
   "cell_type": "code",
   "execution_count": 127,
   "id": "d08defb0",
   "metadata": {},
   "outputs": [
    {
     "data": {
      "text/plain": [
       "0.03"
      ]
     },
     "execution_count": 127,
     "metadata": {},
     "output_type": "execute_result"
    }
   ],
   "source": [
    "r=np.round(df.corr().salary.age,2)\n",
    "r"
   ]
  },
  {
   "cell_type": "code",
   "execution_count": 171,
   "id": "ce536101",
   "metadata": {},
   "outputs": [
    {
     "name": "stdout",
     "output_type": "stream",
     "text": [
      "salary and age are dependent\n"
     ]
    }
   ],
   "source": [
    "print(chisquare_test(a,'salary','age'))"
   ]
  },
  {
   "cell_type": "markdown",
   "id": "e03bc8cf",
   "metadata": {},
   "source": [
    "- The above value of the correlation coefficient is between -0.5 and 0.5, thus cocluding that there is no dependency between the two variables."
   ]
  },
  {
   "cell_type": "code",
   "execution_count": null,
   "id": "2ac61102",
   "metadata": {},
   "outputs": [],
   "source": []
  },
  {
   "cell_type": "markdown",
   "id": "dcccbf09",
   "metadata": {},
   "source": [
    "***7.\tUsing statistical analysis, find whether the age column is impacting the duration column or not.***"
   ]
  },
  {
   "cell_type": "code",
   "execution_count": 128,
   "id": "42e7eb60",
   "metadata": {},
   "outputs": [
    {
     "data": {
      "text/plain": [
       "0.02"
      ]
     },
     "execution_count": 128,
     "metadata": {},
     "output_type": "execute_result"
    }
   ],
   "source": [
    "r1=np.round(df.corr().age.duration,2)\n",
    "r1"
   ]
  },
  {
   "cell_type": "code",
   "execution_count": 172,
   "id": "b9733242",
   "metadata": {},
   "outputs": [
    {
     "name": "stdout",
     "output_type": "stream",
     "text": [
      "age and duration are independent\n"
     ]
    }
   ],
   "source": [
    "print(chisquare_test(a,'age','duration'))"
   ]
  },
  {
   "cell_type": "markdown",
   "id": "d5666dd3",
   "metadata": {},
   "source": [
    "- The above value of the correlation coefficient is between -0.5 and 0.5, thus cocluding that there is no dependency between the two variables."
   ]
  },
  {
   "cell_type": "markdown",
   "id": "5b0bc39a",
   "metadata": {},
   "source": [
    "***8.\tShow that the columns are following the Normal Distribution or not, if not following try to convert it non-normal to normal. (Use transformation techniques)***"
   ]
  },
  {
   "cell_type": "code",
   "execution_count": 129,
   "id": "1d9f787e",
   "metadata": {},
   "outputs": [
    {
     "data": {
      "text/html": [
       "<div>\n",
       "<style scoped>\n",
       "    .dataframe tbody tr th:only-of-type {\n",
       "        vertical-align: middle;\n",
       "    }\n",
       "\n",
       "    .dataframe tbody tr th {\n",
       "        vertical-align: top;\n",
       "    }\n",
       "\n",
       "    .dataframe thead th {\n",
       "        text-align: right;\n",
       "    }\n",
       "</style>\n",
       "<table border=\"1\" class=\"dataframe\">\n",
       "  <thead>\n",
       "    <tr style=\"text-align: right;\">\n",
       "      <th></th>\n",
       "      <th>customerid</th>\n",
       "      <th>age</th>\n",
       "      <th>salary</th>\n",
       "      <th>balance</th>\n",
       "      <th>day</th>\n",
       "      <th>duration</th>\n",
       "      <th>campaign</th>\n",
       "      <th>pdays</th>\n",
       "      <th>previous</th>\n",
       "    </tr>\n",
       "  </thead>\n",
       "  <tbody>\n",
       "    <tr>\n",
       "      <th>0</th>\n",
       "      <td>1.0</td>\n",
       "      <td>58.0</td>\n",
       "      <td>100000.0</td>\n",
       "      <td>2143.0</td>\n",
       "      <td>5.0</td>\n",
       "      <td>4.35</td>\n",
       "      <td>1.0</td>\n",
       "      <td>-1.0</td>\n",
       "      <td>0.0</td>\n",
       "    </tr>\n",
       "    <tr>\n",
       "      <th>1</th>\n",
       "      <td>2.0</td>\n",
       "      <td>44.0</td>\n",
       "      <td>60000.0</td>\n",
       "      <td>29.0</td>\n",
       "      <td>5.0</td>\n",
       "      <td>4.35</td>\n",
       "      <td>1.0</td>\n",
       "      <td>-1.0</td>\n",
       "      <td>0.0</td>\n",
       "    </tr>\n",
       "    <tr>\n",
       "      <th>2</th>\n",
       "      <td>3.0</td>\n",
       "      <td>33.0</td>\n",
       "      <td>120000.0</td>\n",
       "      <td>2.0</td>\n",
       "      <td>5.0</td>\n",
       "      <td>4.35</td>\n",
       "      <td>1.0</td>\n",
       "      <td>-1.0</td>\n",
       "      <td>0.0</td>\n",
       "    </tr>\n",
       "    <tr>\n",
       "      <th>3</th>\n",
       "      <td>4.0</td>\n",
       "      <td>47.0</td>\n",
       "      <td>20000.0</td>\n",
       "      <td>1506.0</td>\n",
       "      <td>5.0</td>\n",
       "      <td>4.35</td>\n",
       "      <td>1.0</td>\n",
       "      <td>-1.0</td>\n",
       "      <td>0.0</td>\n",
       "    </tr>\n",
       "    <tr>\n",
       "      <th>4</th>\n",
       "      <td>5.0</td>\n",
       "      <td>33.0</td>\n",
       "      <td>0.0</td>\n",
       "      <td>1.0</td>\n",
       "      <td>5.0</td>\n",
       "      <td>4.35</td>\n",
       "      <td>1.0</td>\n",
       "      <td>-1.0</td>\n",
       "      <td>0.0</td>\n",
       "    </tr>\n",
       "    <tr>\n",
       "      <th>...</th>\n",
       "      <td>...</td>\n",
       "      <td>...</td>\n",
       "      <td>...</td>\n",
       "      <td>...</td>\n",
       "      <td>...</td>\n",
       "      <td>...</td>\n",
       "      <td>...</td>\n",
       "      <td>...</td>\n",
       "      <td>...</td>\n",
       "    </tr>\n",
       "    <tr>\n",
       "      <th>45206</th>\n",
       "      <td>45207.0</td>\n",
       "      <td>51.0</td>\n",
       "      <td>60000.0</td>\n",
       "      <td>825.0</td>\n",
       "      <td>17.0</td>\n",
       "      <td>261.00</td>\n",
       "      <td>3.0</td>\n",
       "      <td>-1.0</td>\n",
       "      <td>0.0</td>\n",
       "    </tr>\n",
       "    <tr>\n",
       "      <th>45207</th>\n",
       "      <td>45208.0</td>\n",
       "      <td>71.0</td>\n",
       "      <td>55000.0</td>\n",
       "      <td>1729.0</td>\n",
       "      <td>17.0</td>\n",
       "      <td>261.00</td>\n",
       "      <td>2.0</td>\n",
       "      <td>-1.0</td>\n",
       "      <td>0.0</td>\n",
       "    </tr>\n",
       "    <tr>\n",
       "      <th>45208</th>\n",
       "      <td>45209.0</td>\n",
       "      <td>72.0</td>\n",
       "      <td>55000.0</td>\n",
       "      <td>5715.0</td>\n",
       "      <td>17.0</td>\n",
       "      <td>261.00</td>\n",
       "      <td>5.0</td>\n",
       "      <td>184.0</td>\n",
       "      <td>3.0</td>\n",
       "    </tr>\n",
       "    <tr>\n",
       "      <th>45209</th>\n",
       "      <td>45210.0</td>\n",
       "      <td>57.0</td>\n",
       "      <td>20000.0</td>\n",
       "      <td>668.0</td>\n",
       "      <td>17.0</td>\n",
       "      <td>261.00</td>\n",
       "      <td>4.0</td>\n",
       "      <td>-1.0</td>\n",
       "      <td>0.0</td>\n",
       "    </tr>\n",
       "    <tr>\n",
       "      <th>45210</th>\n",
       "      <td>45211.0</td>\n",
       "      <td>37.0</td>\n",
       "      <td>120000.0</td>\n",
       "      <td>2971.0</td>\n",
       "      <td>17.0</td>\n",
       "      <td>261.00</td>\n",
       "      <td>2.0</td>\n",
       "      <td>188.0</td>\n",
       "      <td>11.0</td>\n",
       "    </tr>\n",
       "  </tbody>\n",
       "</table>\n",
       "<p>45211 rows × 9 columns</p>\n",
       "</div>"
      ],
      "text/plain": [
       "       customerid   age    salary  balance   day  duration  campaign  pdays  \\\n",
       "0             1.0  58.0  100000.0   2143.0   5.0      4.35       1.0   -1.0   \n",
       "1             2.0  44.0   60000.0     29.0   5.0      4.35       1.0   -1.0   \n",
       "2             3.0  33.0  120000.0      2.0   5.0      4.35       1.0   -1.0   \n",
       "3             4.0  47.0   20000.0   1506.0   5.0      4.35       1.0   -1.0   \n",
       "4             5.0  33.0       0.0      1.0   5.0      4.35       1.0   -1.0   \n",
       "...           ...   ...       ...      ...   ...       ...       ...    ...   \n",
       "45206     45207.0  51.0   60000.0    825.0  17.0    261.00       3.0   -1.0   \n",
       "45207     45208.0  71.0   55000.0   1729.0  17.0    261.00       2.0   -1.0   \n",
       "45208     45209.0  72.0   55000.0   5715.0  17.0    261.00       5.0  184.0   \n",
       "45209     45210.0  57.0   20000.0    668.0  17.0    261.00       4.0   -1.0   \n",
       "45210     45211.0  37.0  120000.0   2971.0  17.0    261.00       2.0  188.0   \n",
       "\n",
       "       previous  \n",
       "0           0.0  \n",
       "1           0.0  \n",
       "2           0.0  \n",
       "3           0.0  \n",
       "4           0.0  \n",
       "...         ...  \n",
       "45206       0.0  \n",
       "45207       0.0  \n",
       "45208       3.0  \n",
       "45209       0.0  \n",
       "45210      11.0  \n",
       "\n",
       "[45211 rows x 9 columns]"
      ]
     },
     "execution_count": 129,
     "metadata": {},
     "output_type": "execute_result"
    }
   ],
   "source": [
    "df_num"
   ]
  },
  {
   "cell_type": "code",
   "execution_count": 130,
   "id": "e0ed1d2c",
   "metadata": {},
   "outputs": [
    {
     "data": {
      "text/plain": [
       "<AxesSubplot:xlabel='age', ylabel='Density'>"
      ]
     },
     "execution_count": 130,
     "metadata": {},
     "output_type": "execute_result"
    },
    {
     "data": {
      "image/png": "[encoded data removed]",
      "text/plain": [
       "<Figure size 432x288 with 1 Axes>"
      ]
     },
     "metadata": {
      "needs_background": "light"
     },
     "output_type": "display_data"
    }
   ],
   "source": [
    "sns.distplot(df['age'])"
   ]
  },
  {
   "cell_type": "markdown",
   "id": "973be8fc",
   "metadata": {},
   "source": [
    "- The above plot shows that age does not follow a normal distribution.\n"
   ]
  },
  {
   "cell_type": "markdown",
   "id": "6f07539f",
   "metadata": {},
   "source": [
    "- Trying to convert into normal distribution form using the standard scalar method as follows:"
   ]
  },
  {
   "cell_type": "code",
   "execution_count": 131,
   "id": "368e4b21",
   "metadata": {},
   "outputs": [],
   "source": [
    "df['age1']=(df['age']-np.round((df['age'].mean()),2))/np.round(df['age'].std(),2)"
   ]
  },
  {
   "cell_type": "code",
   "execution_count": 132,
   "id": "c8d4924d",
   "metadata": {},
   "outputs": [
    {
     "data": {
      "text/plain": [
       "count    45211.000000\n",
       "mean        40.934795\n",
       "std         10.616926\n",
       "min         18.000000\n",
       "25%         33.000000\n",
       "50%         39.000000\n",
       "75%         48.000000\n",
       "max         95.000000\n",
       "Name: age, dtype: float64"
      ]
     },
     "execution_count": 132,
     "metadata": {},
     "output_type": "execute_result"
    }
   ],
   "source": [
    "df['age'].describe()"
   ]
  },
  {
   "cell_type": "code",
   "execution_count": 133,
   "id": "fe5a24e9",
   "metadata": {},
   "outputs": [
    {
     "data": {
      "text/plain": [
       "10.61692648316195"
      ]
     },
     "execution_count": 133,
     "metadata": {},
     "output_type": "execute_result"
    }
   ],
   "source": [
    "df['age'].std()"
   ]
  },
  {
   "cell_type": "code",
   "execution_count": 134,
   "id": "a8c22c26",
   "metadata": {},
   "outputs": [
    {
     "data": {
      "text/plain": [
       "count    45211.000000\n",
       "mean         0.000451\n",
       "std          0.999711\n",
       "min         -2.159134\n",
       "25%         -0.746704\n",
       "50%         -0.181733\n",
       "75%          0.665725\n",
       "max          5.091337\n",
       "Name: age1, dtype: float64"
      ]
     },
     "execution_count": 134,
     "metadata": {},
     "output_type": "execute_result"
    }
   ],
   "source": [
    "df['age1'].describe()"
   ]
  },
  {
   "cell_type": "code",
   "execution_count": 135,
   "id": "8731c054",
   "metadata": {},
   "outputs": [
    {
     "data": {
      "text/plain": [
       "<AxesSubplot:xlabel='age1', ylabel='Density'>"
      ]
     },
     "execution_count": 135,
     "metadata": {},
     "output_type": "execute_result"
    },
    {
     "data": {
      "image/png": "[encoded data removed]",
      "text/plain": [
       "<Figure size 432x288 with 1 Axes>"
      ]
     },
     "metadata": {
      "needs_background": "light"
     },
     "output_type": "display_data"
    }
   ],
   "source": [
    "sns.distplot(df['age1'])"
   ]
  },
  {
   "cell_type": "markdown",
   "id": "6aafb420",
   "metadata": {},
   "source": [
    "The curve is still not a normal curve. Trying log transformation"
   ]
  },
  {
   "cell_type": "code",
   "execution_count": 136,
   "id": "aed920e7",
   "metadata": {},
   "outputs": [],
   "source": [
    "df['age_log']=np.log(df['age'])"
   ]
  },
  {
   "cell_type": "code",
   "execution_count": 137,
   "id": "80a56850",
   "metadata": {},
   "outputs": [
    {
     "data": {
      "text/plain": [
       "<AxesSubplot:xlabel='age_log', ylabel='Density'>"
      ]
     },
     "execution_count": 137,
     "metadata": {},
     "output_type": "execute_result"
    },
    {
     "data": {
      "image/png": "[encoded data removed]",
      "text/plain": [
       "<Figure size 432x288 with 1 Axes>"
      ]
     },
     "metadata": {
      "needs_background": "light"
     },
     "output_type": "display_data"
    }
   ],
   "source": [
    "sns.distplot(df['age_log'])"
   ]
  },
  {
   "cell_type": "code",
   "execution_count": 138,
   "id": "ec4a7498",
   "metadata": {},
   "outputs": [
    {
     "data": {
      "text/plain": [
       "<AxesSubplot:xlabel='age_sqrt', ylabel='Density'>"
      ]
     },
     "execution_count": 138,
     "metadata": {},
     "output_type": "execute_result"
    },
    {
     "data": {
      "image/png": "[encoded data removed]",
      "text/plain": [
       "<Figure size 432x288 with 1 Axes>"
      ]
     },
     "metadata": {
      "needs_background": "light"
     },
     "output_type": "display_data"
    }
   ],
   "source": [
    "df['age_sqrt']=np.sqrt(df['age'])\n",
    "sns.distplot(df['age_sqrt'])"
   ]
  },
  {
   "cell_type": "markdown",
   "id": "356ecc18",
   "metadata": {},
   "source": [
    "*# Checking salary column*"
   ]
  },
  {
   "cell_type": "code",
   "execution_count": 139,
   "id": "f82484c3",
   "metadata": {},
   "outputs": [
    {
     "data": {
      "text/plain": [
       "count     45149.000000\n",
       "mean      57084.453698\n",
       "std       32038.075304\n",
       "min           0.000000\n",
       "25%       20000.000000\n",
       "50%       60000.000000\n",
       "75%       70000.000000\n",
       "max      120000.000000\n",
       "Name: salary, dtype: float64"
      ]
     },
     "execution_count": 139,
     "metadata": {},
     "output_type": "execute_result"
    }
   ],
   "source": [
    "df['salary'].describe()"
   ]
  },
  {
   "cell_type": "code",
   "execution_count": 140,
   "id": "66e1fb06",
   "metadata": {},
   "outputs": [
    {
     "data": {
      "text/plain": [
       "<AxesSubplot:xlabel='salary', ylabel='Density'>"
      ]
     },
     "execution_count": 140,
     "metadata": {},
     "output_type": "execute_result"
    },
    {
     "data": {
      "image/png": "[encoded data removed]",
      "text/plain": [
       "<Figure size 432x288 with 1 Axes>"
      ]
     },
     "metadata": {
      "needs_background": "light"
     },
     "output_type": "display_data"
    }
   ],
   "source": [
    "sns.distplot(df['salary'])"
   ]
  },
  {
   "cell_type": "code",
   "execution_count": 141,
   "id": "3bed8530",
   "metadata": {},
   "outputs": [
    {
     "data": {
      "text/plain": [
       "<AxesSubplot:xlabel='salary1', ylabel='Density'>"
      ]
     },
     "execution_count": 141,
     "metadata": {},
     "output_type": "execute_result"
    },
    {
     "data": {
      "image/png": "[encoded data removed]",
      "text/plain": [
       "<Figure size 432x288 with 1 Axes>"
      ]
     },
     "metadata": {
      "needs_background": "light"
     },
     "output_type": "display_data"
    }
   ],
   "source": [
    "# Using standard scaler. [z=x-mu/sigma]\n",
    "\n",
    "df['salary1']=(df['salary']-np.round((df['salary'].mean()),2))/np.round(df['salary'].std(),2)\n",
    "sns.distplot(df['salary1'])"
   ]
  },
  {
   "cell_type": "code",
   "execution_count": 142,
   "id": "5556b8c4",
   "metadata": {},
   "outputs": [
    {
     "data": {
      "text/plain": [
       "<AxesSubplot:xlabel='salary_sqrt', ylabel='Density'>"
      ]
     },
     "execution_count": 142,
     "metadata": {},
     "output_type": "execute_result"
    },
    {
     "data": {
      "image/png": "[encoded data removed]",
      "text/plain": [
       "<Figure size 432x288 with 1 Axes>"
      ]
     },
     "metadata": {
      "needs_background": "light"
     },
     "output_type": "display_data"
    }
   ],
   "source": [
    "df['salary_sqrt']=np.sqrt(df['salary'])\n",
    "sns.distplot(df['salary_sqrt'])"
   ]
  },
  {
   "cell_type": "code",
   "execution_count": 143,
   "id": "685d1e6e",
   "metadata": {},
   "outputs": [
    {
     "name": "stdout",
     "output_type": "stream",
     "text": [
      "57084.454 32037.72\n"
     ]
    }
   ],
   "source": [
    "# For salary column:\n",
    "mu=np.round(np.mean(df['salary']),3)\n",
    "sigma=np.round(np.std(df['salary']),3)\n",
    "print(mu,sigma)"
   ]
  },
  {
   "cell_type": "code",
   "execution_count": 145,
   "id": "2552680e",
   "metadata": {},
   "outputs": [],
   "source": [
    "# Checking outliers:\n",
    "#df[df['salary'] < (mu-(2*sigma)) | df['salary'] > (mu+(2*sigma))]"
   ]
  },
  {
   "cell_type": "markdown",
   "id": "ec568aa8",
   "metadata": {},
   "source": [
    "***9.\tLet’s check if we have any statistical patterns in the Data frame (using plots or analysis).***"
   ]
  },
  {
   "cell_type": "code",
   "execution_count": null,
   "id": "b8215e2d",
   "metadata": {},
   "outputs": [],
   "source": [
    "sns.barplot(df['response'],df['duration'])"
   ]
  },
  {
   "cell_type": "markdown",
   "id": "7892f083",
   "metadata": {},
   "source": [
    "- The above plot shows that call with longer duration have positive response from customers"
   ]
  },
  {
   "cell_type": "code",
   "execution_count": null,
   "id": "021a19cc",
   "metadata": {},
   "outputs": [],
   "source": [
    "sns.barplot(df['marital'],df['duration'])"
   ]
  },
  {
   "cell_type": "markdown",
   "id": "593a3d32",
   "metadata": {},
   "source": [
    "- The above plot shows that single customers have higher call durations"
   ]
  },
  {
   "cell_type": "code",
   "execution_count": null,
   "id": "520783df",
   "metadata": {},
   "outputs": [],
   "source": [
    "sns.barplot(df['job'],df['duration'])\n",
    "plt.xticks(rotation=90)\n",
    "plt.show()"
   ]
  },
  {
   "cell_type": "markdown",
   "id": "e5b1ace2",
   "metadata": {},
   "source": [
    "- The above plot shows that customers who are students have longest call durations"
   ]
  },
  {
   "cell_type": "code",
   "execution_count": null,
   "id": "b0273802",
   "metadata": {},
   "outputs": [],
   "source": [
    "sns.lineplot(df['edu'],df['duration'])"
   ]
  },
  {
   "cell_type": "markdown",
   "id": "6268a2fd",
   "metadata": {},
   "source": [
    "- The above plot shows that customers with tertiary education have the longest calls"
   ]
  },
  {
   "cell_type": "code",
   "execution_count": null,
   "id": "83900864",
   "metadata": {},
   "outputs": [],
   "source": [
    "sns.barplot(df['housing'],df['duration'])"
   ]
  },
  {
   "cell_type": "markdown",
   "id": "cebba030",
   "metadata": {},
   "source": [
    "- The above plot shows that customers with no housing have longer calls"
   ]
  },
  {
   "cell_type": "code",
   "execution_count": null,
   "id": "59b40fa6",
   "metadata": {},
   "outputs": [],
   "source": []
  },
  {
   "cell_type": "code",
   "execution_count": null,
   "id": "91d02c9e",
   "metadata": {},
   "outputs": [],
   "source": [
    "sns.barplot(df['loan'],df['duration'])"
   ]
  },
  {
   "cell_type": "markdown",
   "id": "10d200fd",
   "metadata": {},
   "source": [
    "- The above plot shows that customers with no loan are having longer calls. "
   ]
  },
  {
   "cell_type": "code",
   "execution_count": null,
   "id": "e4b4237c",
   "metadata": {},
   "outputs": [],
   "source": [
    "sns.boxplot(df['edu'],df['duration'])"
   ]
  },
  {
   "cell_type": "code",
   "execution_count": null,
   "id": "193cb623",
   "metadata": {},
   "outputs": [],
   "source": [
    "sns.boxplot(df['edu'],df['salary'])"
   ]
  },
  {
   "cell_type": "code",
   "execution_count": null,
   "id": "188a8a6c",
   "metadata": {},
   "outputs": [],
   "source": [
    "sns.lineplot(df['job'],df['salary'])\n",
    "plt.xticks(rotation=90)\n",
    "plt.show()"
   ]
  },
  {
   "cell_type": "markdown",
   "id": "35693455",
   "metadata": {},
   "source": [
    "<h1 style='color:blue'> Final Conclusions </H1>"
   ]
  },
  {
   "cell_type": "markdown",
   "id": "7fba7fed",
   "metadata": {},
   "source": [
    "- The response of the calls are highly dependent on the call duration. \n",
    "- The longer the call, the more positive responses observed. General trend.\n",
    "- Longest call duration are for customers who are :\n",
    "        - single (marital status)\n",
    "        - student (job role)\n",
    "        - education (tertiary)\n",
    "        - No house\n",
    "        - No loan\n",
    "      \n",
    "**- Thus it is best to focus the marketing calls on the customers with the above features as a customer who is single, student, has tertiary education, has no loan and no house will be more inclined towards the term deposit**"
   ]
  },
  {
   "cell_type": "code",
   "execution_count": null,
   "id": "a872ed7a",
   "metadata": {},
   "outputs": [],
   "source": []
  }
 ],
 "metadata": {
  "kernelspec": {
   "display_name": "Python 3 (ipykernel)",
   "language": "python",
   "name": "python3"
  },
  "language_info": {
   "codemirror_mode": {
    "name": "ipython",
    "version": 3
   },
   "file_extension": ".py",
   "mimetype": "text/x-python",
   "name": "python",
   "nbconvert_exporter": "python",
   "pygments_lexer": "ipython3",
   "version": "3.9.12"
  }
 },
 "nbformat": 4,
 "nbformat_minor": 5
}
